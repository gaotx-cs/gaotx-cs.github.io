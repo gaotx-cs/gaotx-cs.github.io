{
  "nbformat": 4,
  "nbformat_minor": 0,
  "metadata": {
    "colab": {
      "provenance": [],
      "toc_visible": true
    },
    "kernelspec": {
      "name": "python3",
      "display_name": "Python 3"
    },
    "language_info": {
      "name": "python"
    }
  },
  "cells": [
    {
      "cell_type": "markdown",
      "source": [
        "# Homework 3: Optimization in Neural Network\n",
        "\n",
        "In this assignment, you will design and implement a deep neural network (DNN) to solve a binary classification problem. This task involves building a flexible DNN architecture where both the width (number of neurons per layer) and depth (number of layers) can be customized. Additionally, you will implement and test various advanced optimization algorithms to understand how they impact the training process and model performance, such as\n",
        "- Momentum,\n",
        "- RMSProp,\n",
        "- Adam,\n",
        "\n",
        "\n"
      ],
      "metadata": {
        "id": "OxG6NM4KBppr"
      }
    },
    {
      "cell_type": "markdown",
      "source": [
        "# 0 - Packages\n",
        "Let's first import necessary libraries\n",
        "- [numpy](https://www.numpy.org/) is the fundamental package for scientific computing with Python.\n",
        "tools for data mining and data analysis.\n",
        "- [matplotlib](http://matplotlib.org) is a library for plotting graphs in Python."
      ],
      "metadata": {
        "id": "qiCkqus_CQjm"
      }
    },
    {
      "cell_type": "code",
      "source": [
        "import numpy as np\n",
        "import matplotlib.pyplot as plt\n",
        "\n",
        "np.random.seed(1) # set a seed so that the results are consistent"
      ],
      "metadata": {
        "id": "OdjTRZ1dCRhI"
      },
      "execution_count": null,
      "outputs": []
    },
    {
      "cell_type": "markdown",
      "source": [
        "# 1 - Build up Deep Neural Network"
      ],
      "metadata": {
        "id": "kSACvVmwaz9o"
      }
    },
    {
      "cell_type": "markdown",
      "source": [
        "## 1.1 - Initialization\n",
        "\n",
        "We will initialize the parameters of a DNN using a given `layer_dims` array, which specifies the size of each layer, including the input size `n_x` and output size `n_y`. As to deal with **symmetric patterns**, we use random initialization for weights and zero initialization for biases.\n",
        "\n",
        "Given a weigh matrix $W^{\\ell}\\in \\mathbb{R}^{n^{\\ell}\\times n^{\\ell-1}}$, each entry is randomly initialized using an i.i.d. Gaussian distribution:\n",
        "$$\n",
        "W^{\\ell}_{ij}\\sim \\mathcal{N}(0,1/n^{\\ell-1})\n",
        "$$\n",
        "\n",
        "**Exercise 1**:\n",
        "1. The method `initialize_dnn_parameters` takes `layer_dims` array as input\n",
        "2. Loop through the array using `stdv * np.random.randn(a.b) + mu` to random initialize weights `parameters['W' + str(l)]` and using `np.zeros((a,1))` to initialize bias `parameters['b' + str(1)]`\n",
        "3. Return `parameters` as a dictionary containing all weights and biases."
      ],
      "metadata": {
        "id": "OG30a4DVdfn3"
      }
    },
    {
      "cell_type": "code",
      "source": [
        "# Initialize weights and biases\n",
        "def initialize_dnn_parameters(layer_dims):\n",
        "    L = len(layer_dims) # number of layers\n",
        "    parameters = {}\n",
        "    for l in range(1, L):\n",
        "        ### Code here ### (~ 1 lines of code)\n",
        "        parameters['W' + str(l)] = stdv * np.random.randn(layer_dims[l], layer_dims[l-1]) + mu\n",
        "        ### Code here ### (~ 1 lines of code)\n",
        "        parameters['b' + str(l)] = np.zeros((layer_dims[l], 1))\n",
        "    return parameters"
      ],
      "metadata": {
        "id": "HO9GZPV_degc"
      },
      "execution_count": null,
      "outputs": []
    },
    {
      "cell_type": "code",
      "source": [
        "# Test initialization\n",
        "n_x = 5\n",
        "n_h = 4\n",
        "n_y = 3\n",
        "layer_dims = [n_x, n_h, n_y]\n",
        "parameters = initialize_dnn_parameters(layer_dims)\n",
        "for l in range(1, len(layer_dims)):\n",
        "    print(f\"W{l} = \\n{parameters['W' + str(l)]}\")\n",
        "    print(f\"b{l} = \\n{parameters['b' + str(l)]}\")"
      ],
      "metadata": {
        "colab": {
          "base_uri": "https://localhost:8080/"
        },
        "id": "jxjOYobCdenE",
        "outputId": "b3b0aadf-342b-44dc-8017-afca3a3f2b37"
      },
      "execution_count": null,
      "outputs": [
        {
          "output_type": "stream",
          "name": "stdout",
          "text": [
            "W1 = \n",
            "[[ 0.72642933 -0.27358579 -0.23620559 -0.47984616  0.38702206]\n",
            " [-1.0292794   0.78030354 -0.34042208  0.14267862 -0.11152182]\n",
            " [ 0.65387455 -0.92132293 -0.14418936 -0.17175433  0.50703711]\n",
            " [-0.49188633 -0.07711224 -0.39259022  0.01887856  0.26064289]]\n",
            "b1 = \n",
            "[[0.]\n",
            " [0.]\n",
            " [0.]\n",
            " [0.]]\n",
            "W2 = \n",
            "[[-0.55030959  0.57236185  0.45079536  0.25124717]\n",
            " [ 0.45042797 -0.34186393 -0.06144511 -0.46788472]\n",
            " [-0.13394404  0.26517773 -0.34583038 -0.19837676]]\n",
            "b2 = \n",
            "[[0.]\n",
            " [0.]\n",
            " [0.]]\n"
          ]
        }
      ]
    },
    {
      "cell_type": "markdown",
      "source": [
        "## 1.2 - Activation Functions and Its Derivatives\n",
        "In the preivous assignment, we implemented sigmoid activaiton function. In this assignment, we will focus on ReLU activaiton:\n",
        "$$\n",
        "f(x) = \\max\\{0,x\\}\n",
        "$$\n",
        "and its derivative is given by\n",
        "$$\n",
        "f^{\\prime}(x) =\n",
        "\\begin{cases}\n",
        "1, & x\\geq 0\\\\\n",
        "0, & x < 0\n",
        "\\end{cases}\n",
        "$$\n",
        "\n",
        "\n",
        "**Exercise 2**:\n",
        "1. We will implement activaiton function in a `class` form that includes both evaluation in `forward()` and `derivative()`\n",
        "1. Implement `forward()` method for ReLU function `class` so `forward()` is automatically evaluted when ReLU is called.\n",
        "2. Implement its `derivative` to compute the gradient during backpropagation."
      ],
      "metadata": {
        "id": "LvmRflTufv8R"
      }
    },
    {
      "cell_type": "code",
      "source": [
        "# Define Sigmoid activation function class\n",
        "class Sigmoid:\n",
        "    def __init__(self):\n",
        "        pass\n",
        "\n",
        "    def forward(self, x):\n",
        "        return 1 / (1 + np.exp(-x))\n",
        "\n",
        "    def derivative(self, x):\n",
        "        return self.forward(x) * (1 - self.forward(x))\n",
        "\n",
        "    def __call__(self, x):\n",
        "        return self.forward(x)\n",
        "\n",
        "# Define ReLU activation function class\n",
        "class ReLU:\n",
        "    def __init__(self):\n",
        "        pass\n",
        "\n",
        "    def forward(self, x):\n",
        "        ### Code here ### (~ 1 lines of code)\n",
        "\n",
        "        ### Code here ### (~ 1 lines of code)\n",
        "\n",
        "    def derivative(self, x):\n",
        "        ### Code here ### (~ 1 lines of code)\n",
        "\n",
        "        ### Code here ### (~ 1 lines of code)\n",
        "\n",
        "    def __call__(self, x):\n",
        "        return self.forward(x)\n"
      ],
      "metadata": {
        "id": "6dFrGNdj9pQJ"
      },
      "execution_count": null,
      "outputs": []
    },
    {
      "cell_type": "code",
      "source": [
        "# Test the forward and backward (derivative) of ReLU activaiton\n",
        "x = np.random.randn(10)\n",
        "print(f\"x = \\n{x}\")\n",
        "print(f\"ReLU(x) = \\n{ReLU()(x)}\")\n",
        "print(f\"ReLU'(x) = \\n{ReLU().derivative(x)}\")"
      ],
      "metadata": {
        "colab": {
          "base_uri": "https://localhost:8080/"
        },
        "id": "CzMKQ1q2UlNn",
        "outputId": "c4d4dfe6-a3e3-4872-c8e2-88d66a7b830a"
      },
      "execution_count": null,
      "outputs": [
        {
          "output_type": "stream",
          "name": "stdout",
          "text": [
            "x = \n",
            "[-0.6871727  -0.84520564 -0.67124613 -0.0126646  -1.11731035  0.2344157\n",
            "  1.65980218  0.74204416 -0.19183555 -0.88762896]\n",
            "ReLU(x) = \n",
            "[0.         0.         0.         0.         0.         0.2344157\n",
            " 1.65980218 0.74204416 0.         0.        ]\n",
            "ReLU'(x) = \n",
            "[0 0 0 0 0 1 1 1 0 0]\n"
          ]
        }
      ]
    },
    {
      "cell_type": "markdown",
      "source": [
        "## 1.3 - Forward Propogation\n",
        "With $A^{0}=X$ and $\\hat{Y}=A^{L}$, the forward propagation becomes\n",
        "        \\begin{align*}\n",
        "            &Z^{\\ell} = W^{\\ell} A^{\\ell-1} + b^{\\ell},&\\forall \\ell\\in [L]\\\\\n",
        "            &A^{\\ell}\n",
        "            =\\phi(Z^{\\ell}), & \\forall \\ell\\in [L]\n",
        "        \\end{align*}\n",
        "\n",
        "**Exercies 3**:\n",
        "1. Implement a `layer` of DNN that take previous output `A_prev`, weights `W`, bias `b`, and activaiton `act` as input\n",
        "2. The `layer` should perform a linear transform followed by a nonlinear activaiton\n",
        "3. Return both the pre-activaiton `Z` and the activation `A`"
      ],
      "metadata": {
        "id": "FIyZ0yFx3Vg5"
      }
    },
    {
      "cell_type": "code",
      "source": [
        "def layer(A_prev, W, b, act=ReLU()):\n",
        "  ### Code here ### (~ 1 lines of code)\n",
        "\n",
        "  ### Code here ### (~ 1 lines of code)\n",
        "  A = act(Z)\n",
        "  return A, Z"
      ],
      "metadata": {
        "id": "QHhRh9zWdepk"
      },
      "execution_count": null,
      "outputs": []
    },
    {
      "cell_type": "code",
      "source": [
        "# Testing the nonlinear layer\n",
        "num_samples = 5\n",
        "X = np.random.randn(n_x, num_samples)\n",
        "Y = np.random.randn(n_y, num_samples)\n",
        "\n",
        "A_prev = X\n",
        "W1 = parameters['W1']\n",
        "b1 = parameters['b1']\n",
        "A1, Z1 = layer(A_prev, W1, b1)\n",
        "print(f\"Z1 = \\n{Z1}\")\n",
        "print(f\"A1 = \\n{A1}\")"
      ],
      "metadata": {
        "colab": {
          "base_uri": "https://localhost:8080/"
        },
        "id": "sELTGJfNdesQ",
        "outputId": "55ef0ebc-3867-4082-844c-aae191793ef2"
      },
      "execution_count": null,
      "outputs": [
        {
          "output_type": "stream",
          "name": "stdout",
          "text": [
            "Z1 = \n",
            "[[-1.09575907  1.0266851  -0.31827206 -0.3506713  -0.12633385]\n",
            " [ 2.87245507 -1.45533316  0.57223289  0.59096241 -0.70441952]\n",
            " [-2.15866841  0.8461243  -0.40963115 -0.68640041  0.68699072]\n",
            " [ 0.80537242 -0.77691677  0.15346325  0.02594094 -0.07751913]]\n",
            "A1 = \n",
            "[[0.         1.0266851  0.         0.         0.        ]\n",
            " [2.87245507 0.         0.57223289 0.59096241 0.        ]\n",
            " [0.         0.8461243  0.         0.         0.68699072]\n",
            " [0.80537242 0.         0.15346325 0.02594094 0.        ]]\n"
          ]
        }
      ]
    },
    {
      "cell_type": "markdown",
      "source": [
        "Recall the forward propagation:\n",
        "$$\n",
        "        \\begin{align*}\n",
        "            &Z^{\\ell} = W^{\\ell} A^{\\ell-1} + b^{\\ell},&\\forall \\ell\\in [L]\\\\\n",
        "            &A^{\\ell}\n",
        "            =\\phi(Z^{\\ell}), & \\forall \\ell\\in [L]\n",
        "        \\end{align*}\n",
        "$$\n",
        "Using the `layer` function, DNNs can be built by staking `layer`:\n",
        "\n",
        "`layer_1 -> layer_2 -> ... -> layer_L`\n",
        "\n",
        "**Exercise 4**:\n",
        "In this exercise, you will stack multiple `layer` operations to build a DNN by implementing the `forward_propagation()` function.\n",
        "\n",
        " 1. The function `forward_propagation()` takes `X`, `parameters`, and `act` as inputs\n",
        " 2. Calculate the number of layers `L=len(parameters)//2`, since each layer has two parameters: weights and biases\n",
        " 3. For each layer, retrieve the weights and biases from parameters and apply the `layer()` function to propagate forward.\n",
        " 4. Store intermediate variables `Zl` and `Al` in `cache` for later use in backpropagation.\n",
        " 5. At the end, return the final output `AL` and the `cache`\n"
      ],
      "metadata": {
        "id": "aYrFV3_ygBlQ"
      }
    },
    {
      "cell_type": "code",
      "source": [
        "def forward_propagation(X, parameters, act=ReLU()):\n",
        "  L = len(parameters) // 2 # num of layers\n",
        "  A = X # Initialize A0 with X\n",
        "  caches = {}\n",
        "  caches['A0'] = A # Cache the initial activaiton\n",
        "\n",
        "  for l in range(1, L+1): # including the output layer\n",
        "    A_prev = A\n",
        "    W = parameters['W' + str(l)]\n",
        "    b = parameters['b' + str(l)]\n",
        "    ### Code here ### (~ 1 lines of code)\n",
        "\n",
        "    ### Code here ### (~ 1 lines of code)\n",
        "    caches['Z' + str(l)] = Z\n",
        "    caches['A' + str(l)] = A\n",
        "\n",
        "  return A, caches"
      ],
      "metadata": {
        "id": "ce-oQYNliBA7"
      },
      "execution_count": null,
      "outputs": []
    },
    {
      "cell_type": "code",
      "source": [
        "# Test forward propagation\n",
        "A, caches = forward_propagation(X, parameters)\n",
        "\n",
        "L = len(parameters) // 2\n",
        "for l in range(1, L+1):\n",
        "    print(f\"Z{l} = \\n{caches['Z' + str(l)]}\")"
      ],
      "metadata": {
        "colab": {
          "base_uri": "https://localhost:8080/"
        },
        "id": "RL3MR4ZNiBDv",
        "outputId": "3dce9247-11f5-42c2-9629-6c42f1d710d2"
      },
      "execution_count": null,
      "outputs": [
        {
          "output_type": "stream",
          "name": "stdout",
          "text": [
            "Z1 = \n",
            "[[-1.09575907  1.0266851  -0.31827206 -0.3506713  -0.12633385]\n",
            " [ 2.87245507 -1.45533316  0.57223289  0.59096241 -0.70441952]\n",
            " [-2.15866841  0.8461243  -0.40963115 -0.68640041  0.68699072]\n",
            " [ 0.80537242 -0.77691677  0.15346325  0.02594094 -0.07751913]]\n",
            "Z2 = \n",
            "[[ 1.84643125 -0.18356575  0.36608149  0.34476193  0.30969223]\n",
            " [-1.35881023  0.41045749 -0.2674289  -0.2141661  -0.04221222]\n",
            " [ 0.60194395 -0.43013384  0.12129988  0.15156399 -0.23758226]]\n"
          ]
        }
      ]
    },
    {
      "cell_type": "markdown",
      "source": [
        "## 1.4 Compute the Cost\n",
        "\n",
        "With the output estimate `AL` from forward propagation, we compute the cost using the square loss:\n",
        "$$\n",
        "L(\\theta)=\\frac{1}{2m} \\sum_{i=1}^{m} (a^{L}_i-y_i)^2 = \\frac{1}{2m}\\|A^{L}-Y\\|^2\n",
        "$$\n",
        "The `compute_cost()` method is implemented in the previous programming assignment and it is copyed here."
      ],
      "metadata": {
        "id": "1KqgaijN5AkV"
      }
    },
    {
      "cell_type": "code",
      "source": [
        "def compute_cost(A, Y):\n",
        "    m = Y.shape[1]\n",
        "    cost = np.sum((A - Y) ** 2) / (2 * m)\n",
        "    return cost"
      ],
      "metadata": {
        "id": "yrhUn6A0iBF4"
      },
      "execution_count": null,
      "outputs": []
    },
    {
      "cell_type": "code",
      "source": [
        "# Test the cost\n",
        "print(f\"cost = {compute_cost(A, Y)}\")"
      ],
      "metadata": {
        "colab": {
          "base_uri": "https://localhost:8080/"
        },
        "id": "44oqic2ciBID",
        "outputId": "d92ffaf0-1efd-417c-e2c9-dc379bdbe8df"
      },
      "execution_count": null,
      "outputs": [
        {
          "output_type": "stream",
          "name": "stdout",
          "text": [
            "cost = 1.7072853869205002\n"
          ]
        }
      ]
    },
    {
      "cell_type": "markdown",
      "source": [
        "## 1.5 - Backpropagation\n",
        "Using the `cache` computed during the `forward_propogation()`, we can compute the gradients using backpropogation.\n",
        "\n",
        "The gradient of the cost with respect to $Z^{L}$ is given by:\n",
        "$$d Z^{L} = \\frac{1}{m}( A^{L} -  Y) \\odot \\phi^{\\prime}(Z^{L}),$$\n",
        "Backpropagation for the gradients is then given by\n",
        "$$\n",
        "\\begin{align*}\n",
        "    &d W^{\\ell} = d Z^{\\ell}  * A^{(\\ell-1) \\top},&&\\forall \\ell\\in [L]\\\\\n",
        "    &d b^{\\ell} = d Z^{\\ell} * e,&&\\forall \\ell\\in [L]\\\\\n",
        "    &d Z^{\\ell-1} =\\phi^{\\prime}( Z^{\\ell-1}) \\odot \\left[ W^{(\\ell)\\top} d Z^{\\ell}\\right], &&\\forall \\ell\\in [2,3, ..., L]\\\\\n",
        "\\end{align*}\n",
        "$$\n",
        "Note that because we don't have $dZ^{0}$, so the backpropogate does not pass $dZ^{\\ell-1}$ for the first layer, when $\\ell=1$.\n",
        "\n",
        "**Exercise 4:** Implement `back_propogation()`\n",
        "1. The function `back_propogation()` takes data `Y`, `parameters`, and `caches` as inputs\n",
        "2. For each hidden layer, retrieve weights and biases from `parameters`, and intermediate variables `Zl` and `Al` from `caches`\n",
        "3. Compute the gradients `dWl`, `dbl`, using the formulas provided.\n",
        "4. Return the gradients in a variable `grads`\n"
      ],
      "metadata": {
        "id": "XySxmq-Q5Joc"
      }
    },
    {
      "cell_type": "code",
      "source": [
        "def back_propagation(Y, parameters, caches, act_derivative=ReLU().derivative):\n",
        "    L = len(parameters) // 2 # num of layers in DNN\n",
        "    m = Y.shape[1]           # num of training samples\n",
        "    grads = {}\n",
        "\n",
        "    ZL = caches['Z' + str(L)]\n",
        "    AL = caches['A' + str(L)]\n",
        "    dZ = (AL - Y) / m * act_derivative(ZL)  # Derivative of loss w.r.t. A\n",
        "\n",
        "    for l in reversed(range(1, L+1)):\n",
        "        # Compute the gradients using dZ and A_prev\n",
        "        A_prev = caches['A' + str(l-1)]\n",
        "        ### Code here ### (~ 2 lines of code)\n",
        "\n",
        "\n",
        "        ### Code here ### (~ 2 lines of code)\n",
        "\n",
        "        # Store the computed gradients\n",
        "        grads['dW' + str(l)] = dW\n",
        "        grads['db' + str(l)] = db\n",
        "\n",
        "        # Backpropogate dZ\n",
        "        W = parameters['W' + str(l)]\n",
        "        if l > 1:\n",
        "            Z_prev = caches['Z' + str(l - 1)]\n",
        "            dZ = W.T @ dZ * act_derivative(Z_prev)\n",
        "\n",
        "    return grads"
      ],
      "metadata": {
        "id": "iN0A9R8XiBKW"
      },
      "execution_count": null,
      "outputs": []
    },
    {
      "cell_type": "code",
      "source": [
        "# Test the backpropagation()\n",
        "grads = back_propagation(Y, parameters, caches)\n",
        "L = len(parameters) // 2\n",
        "for l in range(1, L+1):\n",
        "    print(f\"dW{l} = \\n{grads['dW' + str(l)]}\")\n",
        "    print(f\"db{l} = \\n{grads['db' + str(l)]}\")\n"
      ],
      "metadata": {
        "colab": {
          "base_uri": "https://localhost:8080/"
        },
        "id": "DyEm2jjNiBMm",
        "outputId": "3f21bffb-0867-4e08-9cdf-5f3d8829a3a7"
      },
      "execution_count": null,
      "outputs": [
        {
          "output_type": "stream",
          "name": "stdout",
          "text": [
            "dW1 = \n",
            "[[-0.07100506 -0.00504114  0.01465629 -0.0119815   0.01250615]\n",
            " [-0.1535268   0.2243261   0.06768908  0.00272228  0.07802137]\n",
            " [ 0.02370006 -0.02516877  0.05958518  0.09359966  0.0813598 ]\n",
            " [-0.06098153  0.1461884  -0.00877939  0.06790589  0.06303178]]\n",
            "db1 = \n",
            "[[-0.04195389]\n",
            " [ 0.41779308]\n",
            " [ 0.07912688]\n",
            " [ 0.21442471]]\n",
            "dW2 = \n",
            "[[ 0.          0.60078972  0.11186381  0.11598846]\n",
            " [-0.0956278   0.         -0.07880995  0.        ]\n",
            " [ 0.         -0.15898858  0.         -0.05413308]]\n",
            "db2 = \n",
            "[[ 0.93844522]\n",
            " [-0.09314229]\n",
            " [-0.09856997]]\n"
          ]
        }
      ]
    },
    {
      "cell_type": "markdown",
      "source": [
        "## 1.6 - Define Deep Neural Networks\n",
        "As we have implemented `initialize_dnn_parameters()`, `forward_propagation()`, and `back_propogation()`, we will combine everthing and define the `NeuralNetork()` class.\n",
        "\n",
        "**Exercise 5**:\n",
        "1. To define the `NeuralNetwork` class, we will take input size `n_x`, output size `n_y`, and width `n_h`, the depth `depth`, and activaiton function `act` as inputs.\n",
        "2. Store these hyperparameters `n_x`, `n_y`, `n_h`, `depth`, `act` as attributes of the class\n",
        "3. Next, we `initialize()` DNN by using `initialize_dnn_parameters()` to randomly initialze the network's `self.parameters`\n",
        "4. When the DNN is called, it will automcatically run `forward()` using the `forward_propogation()` method, and store the intermediate pre-activatios and activaitons along in `self.caches`.\n",
        "5. The DNN also implements a `backward()` method using `back_propogation()` to compute the `grads` and store them into `self.grads` for use in training\n",
        "\n",
        "**Note**: for simplicity, we assume each hidden layer has the same width `n_h`, but in pratice it can vary based on the learning task"
      ],
      "metadata": {
        "id": "p99Q4eKG-luN"
      }
    },
    {
      "cell_type": "code",
      "source": [
        "# Define the Neural Network class\n",
        "class NeuralNetwork:\n",
        "    def __init__(self, n_x, n_y, n_h, depth, act=ReLU()):\n",
        "        self.n_x = n_x\n",
        "        self.n_y = n_y\n",
        "        self.n_h = n_h\n",
        "        self.depth = depth\n",
        "        self.act = act\n",
        "        self.initialize()\n",
        "\n",
        "    def initialize(self):\n",
        "        layer_dims = [self.n_x] + [self.n_h] * (self.depth-1) + [self.n_y]\n",
        "        ### Code here ### (~ 1 lines of code)\n",
        "\n",
        "        ### Code here ### (~ 1 lines of code)\n",
        "\n",
        "    def forward(self, X):\n",
        "        self.caches = {}\n",
        "        output, caches = forward_propagation(X, self.parameters, self.act)\n",
        "        self.caches = caches\n",
        "        return output\n",
        "\n",
        "    def backward(self, Y):\n",
        "        self.grads = {}\n",
        "        ### Code here ### (~ 1 lines of code)\n",
        "\n",
        "        ### Code here ### (~ 1 lines of code)\n",
        "        self.grads = grads\n",
        "\n",
        "    def __call__(self, X):\n",
        "        return self.forward(X)"
      ],
      "metadata": {
        "id": "HCJ6c7rv-rol"
      },
      "execution_count": null,
      "outputs": []
    },
    {
      "cell_type": "code",
      "source": [
        "# Test NeuralNetwork and its forward()\n",
        "network = NeuralNetwork(n_x, n_y, n_h, depth=3, act=Sigmoid())\n",
        "for l in range(1, network.depth+1):\n",
        "    print(f\"W{l} = \\n{network.parameters['W' + str(l)]}\")\n",
        "    print(f\"b{l} = \\n{network.parameters['b' + str(l)]}\")\n",
        "\n",
        "A = network(X)\n",
        "print(f\"A = \\n{A}\")"
      ],
      "metadata": {
        "colab": {
          "base_uri": "https://localhost:8080/"
        },
        "id": "q7oFiL2jA4cA",
        "outputId": "1fa648fa-fba3-4c8d-aefa-1608eff0f90e"
      },
      "execution_count": null,
      "outputs": [
        {
          "output_type": "stream",
          "name": "stdout",
          "text": [
            "W1 = \n",
            "[[ 0.08343279  0.18338067  0.08868233  0.05322228 -0.29992929]\n",
            " [ 0.16885166  0.05448013  0.50512056  0.53617238  0.08280447]\n",
            " [-0.16783253 -0.28564892  0.18939243  0.03458753 -0.15377604]\n",
            " [ 0.01949711 -0.27727281  0.31216942 -0.19996197  0.54761649]]\n",
            "b1 = \n",
            "[[0.]\n",
            " [0.]\n",
            " [0.]\n",
            " [0.]]\n",
            "W2 = \n",
            "[[ 0.20174582  0.29678926 -0.54745592  0.08469122]\n",
            " [ 0.37027823 -0.4768503  -0.13310925  0.01630727]\n",
            " [-0.68655866  0.1575797   0.42308032 -0.42975797]\n",
            " [ 0.17527299 -0.65614171 -0.01934775 -0.80788618]]\n",
            "b2 = \n",
            "[[0.]\n",
            " [0.]\n",
            " [0.]\n",
            " [0.]]\n",
            "W3 = \n",
            "[[ 0.56070885  0.20445027 -0.01230848 -0.38758081]\n",
            " [ 0.63687797  0.98355087 -0.92899093  0.61808202]\n",
            " [ 0.81382538  0.16900585 -0.59963402  0.43167266]]\n",
            "b3 = \n",
            "[[0.]\n",
            " [0.]\n",
            " [0.]]\n",
            "A = \n",
            "[[0.5594009  0.56163771 0.56270777 0.55963543 0.56721295]\n",
            " [0.65571946 0.64975006 0.64269171 0.64587559 0.62735589]\n",
            " [0.60243733 0.5987133  0.59506056 0.59312079 0.58729086]]\n"
          ]
        }
      ]
    },
    {
      "cell_type": "code",
      "source": [
        "# Test the backward() method in NeuralNetwork\n",
        "network.backward(Y)\n",
        "\n",
        "for l in range(1, network.depth+1):\n",
        "    print(f\"dW{l} = \\n{network.grads['dW' + str(l)]}\")\n",
        "    print(f\"db{l} = \\n{network.grads['db' + str(l)]}\")"
      ],
      "metadata": {
        "colab": {
          "base_uri": "https://localhost:8080/"
        },
        "id": "W8jVn1mVFDUW",
        "outputId": "b7d5c57b-9cad-486a-da28-c39a4bb9055f"
      },
      "execution_count": null,
      "outputs": [
        {
          "output_type": "stream",
          "name": "stdout",
          "text": [
            "dW1 = \n",
            "[[-0.00819391  0.00434696  0.01032395 -0.00024787  0.00653069]\n",
            " [ 0.00220476 -0.00447719 -0.00122303  0.00096706 -0.00096016]\n",
            " [ 0.00773704 -0.00218865 -0.01071998 -0.00014516 -0.00656312]\n",
            " [-0.0032138  -0.00055366  0.00339891  0.00027155  0.00214983]]\n",
            "db1 = \n",
            "[[ 0.01889197]\n",
            " [-0.00765741]\n",
            " [-0.0164768 ]\n",
            " [ 0.00279429]]\n",
            "dW2 = \n",
            "[[ 0.02987019  0.03644857  0.03402445  0.03874588]\n",
            " [ 0.02737154  0.03083942  0.02911464  0.03225519]\n",
            " [-0.02720202 -0.03051821 -0.02837608 -0.03141728]\n",
            " [ 0.01224843  0.0119922   0.01098373  0.01152867]]\n",
            "db2 = \n",
            "[[ 0.0630978 ]\n",
            " [ 0.05643017]\n",
            " [-0.05552861]\n",
            " [ 0.02358812]]\n",
            "dW3 = \n",
            "[[0.06034881 0.053968   0.05274028 0.03386175]\n",
            " [0.09777237 0.09016585 0.08312728 0.0634621 ]\n",
            " [0.03890758 0.03489111 0.03297021 0.02320944]]\n",
            "db3 = \n",
            "[[0.1204913 ]\n",
            " [0.19279404]\n",
            " [0.07642293]]\n"
          ]
        }
      ]
    },
    {
      "cell_type": "markdown",
      "source": [
        "# 2 - Optimization Algorithms\n",
        "\n",
        "In this section, we will implement several optimization algorithms that improve the efficiency and effectiveness of training deep neural networks. Using the `class`-based approach, we will define various optimizers, such as Gradient Descent, Momentum, RMSProp, and Adam, which will be used to update the network’s weights. Each optimizer class will encapsulate the update rules specific to the algorithm, allowing for flexible and modular integration with the neural network during training."
      ],
      "metadata": {
        "id": "mYC2LEnhajGf"
      }
    },
    {
      "cell_type": "markdown",
      "source": [
        "## 2.1 - Gradient Descent\n",
        "\n",
        "Gradient descents are performed using the following rule:\n",
        "$$\n",
        "\\theta \\leftarrow \\theta - \\eta d\\theta\n",
        "$$\n",
        "where $\\eta>0$ is the learning rate.\n",
        "\n",
        "**Exercise 6**: Implemente `gradient_descent_step()`\n",
        "1. The function takes `parameters`, `grads`,  and `learning_rate` as inputs\n",
        "2. For each layer, it retrive weights and biases from `parameters`, gradients from `grads`\n",
        "3. Update the weights and biases using the gradient descent rule.\n",
        "4. Store the updated weights and biases back into `parameters`"
      ],
      "metadata": {
        "id": "lgGIWXbTFg1T"
      }
    },
    {
      "cell_type": "code",
      "source": [
        "def gradient_descent_step(parameters, grads, learning_rate):\n",
        "    L = len(parameters) // 2\n",
        "    for l in range(1, L+1):\n",
        "      W, b = parameters['W' + str(l)], parameters['b' + str(l)]\n",
        "      dW, db = grads['dW' + str(l)], grads['db' + str(l)]\n",
        "\n",
        "      ### Code here ### (~ 1 lines of code)\n",
        "\n",
        "      ### Code here ### (~ 1 lines of code)\n",
        "      b -= learning_rate * db\n",
        "\n",
        "      parameters['W' + str(l)] = W\n",
        "      parameters['b' + str(l)] = b"
      ],
      "metadata": {
        "id": "a6dhu4A2GvRr"
      },
      "execution_count": null,
      "outputs": []
    },
    {
      "cell_type": "code",
      "source": [
        "gradient_descent_step(network.parameters, network.grads, learning_rate=0.01)\n",
        "\n",
        "for l in range(1, network.depth+1):\n",
        "    print(f\"W{l} = \\n{network.parameters['W' + str(l)]}\")\n",
        "    print(f\"b{l} = \\n{network.parameters['b' + str(l)]}\")"
      ],
      "metadata": {
        "colab": {
          "base_uri": "https://localhost:8080/"
        },
        "id": "Ucmva98IHZSW",
        "outputId": "760c93a9-542e-46cf-a8c3-a4b174569586"
      },
      "execution_count": null,
      "outputs": [
        {
          "output_type": "stream",
          "name": "stdout",
          "text": [
            "W1 = \n",
            "[[ 0.08351473  0.1833372   0.08857909  0.05322476 -0.2999946 ]\n",
            " [ 0.16882961  0.0545249   0.50513279  0.53616271  0.08281407]\n",
            " [-0.1679099  -0.28562704  0.18949963  0.03458898 -0.15371041]\n",
            " [ 0.01952925 -0.27726727  0.31213543 -0.19996469  0.547595  ]]\n",
            "b1 = \n",
            "[[-1.88919658e-04]\n",
            " [ 7.65740929e-05]\n",
            " [ 1.64767984e-04]\n",
            " [-2.79428845e-05]]\n",
            "W2 = \n",
            "[[ 0.20144712  0.29642478 -0.54779617  0.08430376]\n",
            " [ 0.37000451 -0.4771587  -0.1334004   0.01598472]\n",
            " [-0.68628664  0.15788488  0.42336408 -0.4294438 ]\n",
            " [ 0.17515051 -0.65626163 -0.01945759 -0.80800146]]\n",
            "b2 = \n",
            "[[-0.00063098]\n",
            " [-0.0005643 ]\n",
            " [ 0.00055529]\n",
            " [-0.00023588]]\n",
            "W3 = \n",
            "[[ 0.56010537  0.20391059 -0.01283588 -0.38791943]\n",
            " [ 0.63590024  0.98264922 -0.92982221  0.61744739]\n",
            " [ 0.8134363   0.16865694 -0.59996372  0.43144056]]\n",
            "b3 = \n",
            "[[-0.00120491]\n",
            " [-0.00192794]\n",
            " [-0.00076423]]\n"
          ]
        }
      ]
    },
    {
      "cell_type": "markdown",
      "source": [
        "Next, we can testify the `gradient_descent_step` by creating a training `for` loop that applies `gradient_descent_step()` iteratively to update the `network.parameters` over multiple iterations."
      ],
      "metadata": {
        "id": "z2ar-WGkIn41"
      }
    },
    {
      "cell_type": "code",
      "source": [
        "learning_rate = 0.1\n",
        "max_iter = 10\n",
        "losses = []\n",
        "for i in range(max_iter):\n",
        "    A = network(X)\n",
        "    network.backward(Y)\n",
        "    losses.append(compute_cost(A, Y))\n",
        "    gradient_descent_step(network.parameters, network.grads, learning_rate)\n",
        "\n",
        "losses = np.array(losses)\n",
        "print(f\"Losses: \\n{losses}\")"
      ],
      "metadata": {
        "colab": {
          "base_uri": "https://localhost:8080/"
        },
        "id": "ITeio9JwInRW",
        "outputId": "4104fcbd-272c-41b3-9a18-ed602088ee73"
      },
      "execution_count": null,
      "outputs": [
        {
          "output_type": "stream",
          "name": "stdout",
          "text": [
            "Losses: \n",
            "[2.24437118 2.23186699 2.21949885 2.20728322 2.19523579 2.18337136\n",
            " 2.17170374 2.16024557 2.14900828 2.13800201]\n"
          ]
        }
      ]
    },
    {
      "cell_type": "markdown",
      "source": [
        "## 2.2 - Gradient Descent with Momentum\n"
      ],
      "metadata": {
        "id": "BQnO16bJKFBH"
      }
    },
    {
      "cell_type": "markdown",
      "source": [
        "Gradient descent with momentum follows the updated rule:\n",
        "$$\n",
        "\\begin{align}\n",
        "v^{+} =& \\beta v + (1-\\beta) \\nabla L(v)\\\\\n",
        "w^{+} =& w - \\eta v^{+}\n",
        "\\end{align}\n",
        "$$\n",
        "where $\\beta$ is the momentum factor and $\\eta$ is the learning rate.\n",
        "\n",
        "It’s important to note that we cannot simply implement `gradient_descent_with_momentum_step()` by passing the `network.parameters` and `network.grads`. That is because the momentum-based method rely on the **historical** information, which must be stored across iterations. This requirement also applies to methods like **RMSProp** and **Adam**. Therefore, we create an `Optimizer()` class, which includes internal variables to store the necessary historical data and can be extended to other optimizers.\n",
        "\n",
        "**Steps**:\n",
        "1. The `Optimizer` class takes an neural network `network` and `learning_rate` as inputs for initialization\n",
        "2. It should store the network `network` and `learning_rate` as internal variables\n",
        "3. It also have a method called `step()` that applies different optimizer step"
      ],
      "metadata": {
        "id": "ILR7HhIqKFEe"
      }
    },
    {
      "cell_type": "code",
      "source": [
        "class Optimizer:\n",
        "    def __init__(self, network, learning_rate):\n",
        "        self.network = network  # The entire neural network is passed in\n",
        "        self.learning_rate = learning_rate\n",
        "\n",
        "    def step(self):\n",
        "        raise NotImplementedError(\"Step method must be implemented in a subclass\")"
      ],
      "metadata": {
        "id": "Q2_dWjF7KELa"
      },
      "execution_count": null,
      "outputs": []
    },
    {
      "cell_type": "markdown",
      "source": [
        "By using this basic class `Optimizer`, we can extend it to other optimizers by overriding the `step()` method. Let us take implement `GradientDescent` as an example.\n",
        "\n",
        "**Exercies 7**:\n",
        "1. Inherit `GradientDescent` from `Optimizer` class by using `class GradientDescent(Optimizer)`\n",
        "2. Since `GradientDescent` requires no additional inputs, we can omite the `__init__()` method\n",
        "3. Implement the `step()` using the `gradient_descent_step()` function."
      ],
      "metadata": {
        "id": "dLouBYbIOWGq"
      }
    },
    {
      "cell_type": "code",
      "source": [
        "class GradientDescent(Optimizer):\n",
        "    # No need to redefine __init__() because it uses the same as Optimizer\n",
        "\n",
        "    def step(self):\n",
        "        ### Code here ### (~ 1 lines of code)\n",
        "\n",
        "        ### Code here ### (~ 1 lines of code)"
      ],
      "metadata": {
        "id": "Olr_bDa8OVkC"
      },
      "execution_count": null,
      "outputs": []
    },
    {
      "cell_type": "code",
      "source": [
        "# Test the `GradientDescent` optimizer by using the previous training loop\n",
        "optimizer = GradientDescent(network, learning_rate = 0.1)\n",
        "\n",
        "max_iter = 10\n",
        "losses = []\n",
        "for i in range(max_iter):\n",
        "    A = network(X)\n",
        "    network.backward(Y)\n",
        "    losses.append(compute_cost(A, Y))\n",
        "    optimizer.step()\n",
        "\n",
        "losses = np.array(losses)\n",
        "print(f\"Losses: \\n{losses}\")"
      ],
      "metadata": {
        "colab": {
          "base_uri": "https://localhost:8080/"
        },
        "id": "jLRp9_S8Qsy0",
        "outputId": "19bfd98d-8dac-4b05-f1c4-34ff9a2d4319"
      },
      "execution_count": null,
      "outputs": [
        {
          "output_type": "stream",
          "name": "stdout",
          "text": [
            "Losses: \n",
            "[2.12723555 2.11671634 2.10645047 2.09644267 2.0866964  2.07721384\n",
            " 2.06799602 2.05904287 2.05035331 2.04192534]\n"
          ]
        }
      ]
    },
    {
      "cell_type": "markdown",
      "source": [
        "Recall the Gradient descent with momentum update rule:\n",
        "$$\n",
        "\\begin{align}\n",
        "v^{+} =& \\beta v + (1-\\beta) \\nabla L(v)\\\\\n",
        "w^{+} =& w - \\eta v^{+}\n",
        "\\end{align}\n",
        "$$\n",
        "where $\\beta$ is the momentum factor and $\\eta$ is the learning rate.\n",
        "\n",
        "Using the same strategy, we can implement the `GradientDescentWithMomentum` optimizer.\n",
        "\n",
        "**Exercise 8**\n",
        "1. Unlike plain gradient descent, `GradientDescentWithMomentum` requires an additional input: the momentum factor `beta`. So, we will redefine the `__init__()` method to include it.\n",
        "2. Implement the `step()` method by using GD with momentum formula"
      ],
      "metadata": {
        "id": "OeTWN_f0RUBT"
      }
    },
    {
      "cell_type": "code",
      "source": [
        "class GradientDescentWithMomentum(Optimizer):\n",
        "    def __init__(self, network, learning_rate, beta=0.9):\n",
        "        super().__init__(network, learning_rate)\n",
        "        self.beta = beta\n",
        "        self.velocities = {}\n",
        "\n",
        "    def step(self):\n",
        "        for key in self.network.parameters.keys():\n",
        "            # Get corresponding gradient key: W1 -> dW1, b1 -> db1\n",
        "            grad_key = 'd' + key\n",
        "\n",
        "            # Get the parameter value and gradient value\n",
        "            param = self.network.parameters[key]\n",
        "            grad = self.network.grads[grad_key]\n",
        "\n",
        "            # Initialize velocity if not present\n",
        "            if key not in self.velocities:\n",
        "                self.velocities[key] = np.zeros_like(param)\n",
        "\n",
        "            # Get the previous velocity for this parameter\n",
        "            velocity = self.velocities[key]\n",
        "\n",
        "            # Update the velocity and parameter using the momentum formula\n",
        "            ### Code here ### (~ 2 lines of code)\n",
        "\n",
        "\n",
        "            ### Code here ### (~ 2 lines of code)\n",
        "\n",
        "            # Store the updated velocity and parameter back into the neural network\n",
        "            self.velocities[key] = velocity\n",
        "            self.network.parameters[key] = param\n"
      ],
      "metadata": {
        "id": "cijDYEV5SFbT"
      },
      "execution_count": null,
      "outputs": []
    },
    {
      "cell_type": "code",
      "source": [
        "optimizer = GradientDescentWithMomentum(network, learning_rate = 0.1, beta=0.8)\n",
        "\n",
        "max_iter = 10\n",
        "losses = []\n",
        "for i in range(max_iter):\n",
        "    A = network(X)\n",
        "    network.backward(Y)\n",
        "    losses.append(compute_cost(A, Y))\n",
        "    optimizer.step()\n",
        "\n",
        "losses = np.array(losses)\n",
        "print(f\"Losses: \\n{losses}\")"
      ],
      "metadata": {
        "colab": {
          "base_uri": "https://localhost:8080/"
        },
        "id": "99UZxpNmVmpr",
        "outputId": "e6a4ebaa-d4e0-48f3-b653-4148e338d27b"
      },
      "execution_count": null,
      "outputs": [
        {
          "output_type": "stream",
          "name": "stdout",
          "text": [
            "Losses: \n",
            "[2.03375613 2.03216316 2.02931359 2.02548826 2.02091931 2.01579704\n",
            " 2.01027639 2.00448266 1.99851656 1.99245847]\n"
          ]
        }
      ]
    },
    {
      "cell_type": "markdown",
      "source": [
        "## 2.3 - RMSProp\n",
        "\n",
        "As introduced in the lectures, we can also scale the gradient coordinates to obtain faster convergence. One of the commonly used method is `RMSProp`. The update rule is given by\n",
        "\n",
        "$$\n",
        "\\begin{align}\n",
        "s^{+} =& \\beta s + (1-\\beta) g^2\\\\\n",
        "w^{+} =& w - \\eta g/ \\sqrt{s^{+}}\n",
        "\\end{align}\n",
        "$$\n",
        "where $\\beta$ is the scaling factor.\n",
        "\n",
        "\n",
        "Using the same strategy we can implement the `RMSProp` optimizer.\n",
        "\n",
        "**Exercise 9**\n",
        "1. Like `GradientDescentWithMomentum` requires an additional input, the `RMSProp` also require a scaling factor `beta`, so we also need to redefine the `__init__()` method\n",
        "2. Implement the `step()` method by using RMSProp formula"
      ],
      "metadata": {
        "id": "UXEmx7WqV2oF"
      }
    },
    {
      "cell_type": "code",
      "source": [
        "class RMSProp(Optimizer):\n",
        "    def __init__(self, network, learning_rate, beta=0.9):\n",
        "        super().__init__(network, learning_rate)\n",
        "        self.beta = beta\n",
        "        self.squared_gradients = {}\n",
        "\n",
        "    def step(self):\n",
        "        for key in self.network.parameters.keys():\n",
        "            # Get corresponding gradient key: W1 -> dW1, b1 -> db1\n",
        "            grad_key = 'd' + key\n",
        "\n",
        "            # Get the parameter value and gradient value\n",
        "            param = self.network.parameters[key]\n",
        "            grad = self.network.grads[grad_key]\n",
        "\n",
        "            # Initialize running average of squared gradients if not present\n",
        "            if key not in self.squared_gradients:\n",
        "                self.squared_gradients[key] = np.zeros_like(param)\n",
        "\n",
        "            # Get the previous squared_gradient for this parameter\n",
        "            squared_gradient = self.squared_gradients[key]\n",
        "\n",
        "            # Update the squared_gradient and parameter using the RMSProp formula\n",
        "            ### Code here ### (~ 2 lines of code)\n",
        "\n",
        "\n",
        "            ### Code here ### (~ 2 lines of code)\n",
        "\n",
        "            # Store the updated parameter back into the neural network\n",
        "            self.squared_gradients[key] = squared_gradient\n",
        "            self.network.parameters[key] = param\n",
        "\n"
      ],
      "metadata": {
        "id": "Q80XO3ofV2BL"
      },
      "execution_count": null,
      "outputs": []
    },
    {
      "cell_type": "code",
      "source": [
        "# Test RMSProp\n",
        "optimizer = RMSProp(network, learning_rate = 0.1, beta=0.8)\n",
        "\n",
        "max_iter = 10\n",
        "losses = []\n",
        "for i in range(max_iter):\n",
        "    A = network(X)\n",
        "    network.backward(Y)\n",
        "    losses.append(compute_cost(A, Y))\n",
        "    optimizer.step()\n",
        "\n",
        "losses = np.array(losses)\n",
        "print(f\"Losses: \\n{losses}\")"
      ],
      "metadata": {
        "colab": {
          "base_uri": "https://localhost:8080/"
        },
        "id": "GZ9GQ8pHXKGe",
        "outputId": "d9ac42e0-6b0b-42eb-e766-654225ef374a"
      },
      "execution_count": null,
      "outputs": [
        {
          "output_type": "stream",
          "name": "stdout",
          "text": [
            "Losses: \n",
            "[1.98637207 1.81473496 1.77935884 1.75574723 1.73123266 1.69885805\n",
            " 1.65468703 1.59739508 1.52794071 1.45044982]\n"
          ]
        }
      ]
    },
    {
      "cell_type": "markdown",
      "source": [
        "## 2.4 -  Adam\n",
        "\n",
        "Using the same strategy we can implement the `Adam` optimizer. The update rules for `Adam` are:\n",
        "$$\n",
        "\\begin{align}\n",
        "v^+ = & \\beta_1 v + (1-\\beta_1) g\\\\\n",
        "s^{+} =& \\beta_2 s + (1-\\beta_2) g^2\\\\\n",
        "w^{+} =& w - \\eta v^+/ \\sqrt{s^{+} + \\epsilon }\n",
        "\\end{align}\n",
        "$$\n",
        "where $\\beta_1$ and $\\beta_2$ are momentum and scaling factors, respectively\n",
        "\n",
        "**Exercise 10**\n",
        "1. The `Adam` optimizer requires two factors `beta1` and `beta2`, so we also need to redefine the `__init__()` method\n",
        "2. Implement the `step()` method using Adam formula"
      ],
      "metadata": {
        "id": "YskatLb1XTU0"
      }
    },
    {
      "cell_type": "code",
      "source": [
        "class Adam(Optimizer):\n",
        "    def __init__(self, network, learning_rate, beta1=0.9, beta2=0.999):\n",
        "        super().__init__(network, learning_rate)\n",
        "        self.beta1 = beta1\n",
        "        self.beta2 = beta2\n",
        "        self.velocities = {}\n",
        "        self.squared_gradients = {}\n",
        "\n",
        "    def step(self):\n",
        "        for key in self.network.parameters.keys():\n",
        "            # Get corresponding gradient key: W1 -> dW1, b1 -> db1\n",
        "            grad_key = 'd' + key\n",
        "\n",
        "            # Get the parameter value and gradient value\n",
        "            param = self.network.parameters[key]\n",
        "            grad = self.network.grads[grad_key]\n",
        "\n",
        "            # Initialize velocity and running average of squared gradients if not present\n",
        "            if key not in self.velocities:\n",
        "              self.velocities[key] = np.zeros_like(param)\n",
        "\n",
        "            if key not in self.squared_gradients:\n",
        "              self.squared_gradients[key] = np.zeros_like(param)\n",
        "\n",
        "            # Get the previous velocity and squared_gradient for this parameter\n",
        "            velocity = self.velocities[key]\n",
        "            squared_gradient = self.squared_gradients[key]\n",
        "\n",
        "            # Update the velocity, squared_gradient, and parameters using the RMSProp formula\n",
        "            ### Code here ### (~ 3 lines of code)\n",
        "\n",
        "\n",
        "\n",
        "            ### Code here ### (~ 3 lines of code)\n",
        "\n",
        "            # Store the updated parameter back into the neural network\n",
        "            self.velocities[key] = velocity\n",
        "            self.squared_gradients[key] = squared_gradient\n",
        "            self.network.parameters[key] = param\n"
      ],
      "metadata": {
        "id": "LkOWKfwrXSo2"
      },
      "execution_count": null,
      "outputs": []
    },
    {
      "cell_type": "code",
      "source": [
        "# Test the Adam optimizer using the training loop\n",
        "optimizer = Adam(network, learning_rate = 0.1, beta1=0.8, beta2=0.9)\n",
        "\n",
        "max_iter = 10\n",
        "losses = []\n",
        "for i in range(max_iter):\n",
        "    A = network(X)\n",
        "    network.backward(Y)\n",
        "    losses.append(compute_cost(A, Y))\n",
        "    optimizer.step()\n",
        "\n",
        "losses = np.array(losses)\n",
        "print(f\"Losses: \\n{losses}\")"
      ],
      "metadata": {
        "colab": {
          "base_uri": "https://localhost:8080/"
        },
        "id": "N80VNM4FYxpU",
        "outputId": "7e69614b-8ea3-4d92-ee1c-0eb79b3eb997"
      },
      "execution_count": null,
      "outputs": [
        {
          "output_type": "stream",
          "name": "stdout",
          "text": [
            "Losses: \n",
            "[1.3747617  1.3401749  1.30033804 1.26212976 1.22939172 1.20369176\n",
            " 1.18448922 1.17062461 1.16050343 1.15281649]\n"
          ]
        }
      ]
    },
    {
      "cell_type": "markdown",
      "source": [
        "# 3 - Training with Optimizers\n",
        "\n",
        "We will build a general `train()` function that takes a `model`, an `optimizer`, along with `X_train` and `Y_train`, and returns the losses. We can then plot the losses to observe the convergence behavior.\n",
        "\n",
        "Additionally, we will test the trained model on `X_test` and `Y_test`. To improve code efficiency, we will create a `train_loop()` function that takes `model`, `optimizer`, `X`, `Y`, and a boolean flag `evaluate`.\n",
        "\n",
        "- If `evaluate=False`, the `train_loop()` performs a training step: the model runs `backward()` to compute gradients and `optimizer.step()` to update the parameters.\n",
        "- If `evaluate=True`, the `train_loop()` evaluates the model on `X` and `Y` without performing backpropagation or updating the parameters.\n"
      ],
      "metadata": {
        "id": "DqwjKKS1GfJU"
      }
    },
    {
      "cell_type": "code",
      "source": [
        "def train_loop(model, optimizer, X, Y, evaluate=False, print_cost=False):\n",
        "    outputs = model(X)\n",
        "    loss = compute_cost(outputs, Y)\n",
        "    if not evaluate:\n",
        "        model.backward(Y)\n",
        "        optimizer.step()\n",
        "\n",
        "    return loss"
      ],
      "metadata": {
        "id": "3_aOYmdQG_7d"
      },
      "execution_count": null,
      "outputs": []
    },
    {
      "cell_type": "code",
      "source": [
        "def train(model, optimizer, X_train, Y_train, X_test, Y_test, num_iterations=10, print_cost=False):\n",
        "    train_losses = []\n",
        "    test_losses = []\n",
        "\n",
        "    for i in range(num_iterations):\n",
        "        # Perform training and evaluation every iteration\n",
        "        test_loss = train_loop(model, optimizer, X_test, Y_test, evaluate=True, print_cost=print_cost)\n",
        "        train_loss = train_loop(model, optimizer, X_train, Y_train, evaluate=False, print_cost=print_cost)\n",
        "\n",
        "        # Store both train and test losses\n",
        "        train_losses.append(train_loss)\n",
        "        test_losses.append(test_loss)\n",
        "\n",
        "        # Optionally print the loss values\n",
        "        if print_cost and i % 10 == 0:\n",
        "            print(f\"Train Loss at {i}: {train_loss}; Test Loss at {i}: {test_loss}\")\n",
        "\n",
        "    return np.array(train_losses), np.array(test_losses)"
      ],
      "metadata": {
        "id": "2y6-akYOZNKD"
      },
      "execution_count": null,
      "outputs": []
    },
    {
      "cell_type": "code",
      "source": [
        "network = NeuralNetwork(n_x, n_y, n_h, depth=3)\n",
        "optimizer = Adam(network, learning_rate = 0.1, beta1=0.8, beta2=0.9)\n",
        "train_losses, test_losses = train(network, optimizer, X, Y, X, Y, num_iterations=10)\n",
        "print(f\"Train Losses: \\n{train_losses}\")\n",
        "print(f\"Test Losses: \\n{test_losses}\")"
      ],
      "metadata": {
        "colab": {
          "base_uri": "https://localhost:8080/"
        },
        "id": "KzG6G9WpMUe7",
        "outputId": "ef4aec4e-bc57-4f15-f8f6-506e40f3ecea"
      },
      "execution_count": null,
      "outputs": [
        {
          "output_type": "stream",
          "name": "stdout",
          "text": [
            "Train Losses: \n",
            "[1.8452532  1.80712141 1.74078336 1.75232359 1.72123482 1.7096015\n",
            " 1.70552052 1.68568429 1.5995576  1.52332713]\n",
            "Test Losses: \n",
            "[1.8452532  1.80712141 1.74078336 1.75232359 1.72123482 1.7096015\n",
            " 1.70552052 1.68568429 1.5995576  1.52332713]\n"
          ]
        }
      ]
    },
    {
      "cell_type": "markdown",
      "source": [
        "## 3.1 - Load Image Dataset: MNIST"
      ],
      "metadata": {
        "id": "8pVdp6dak3L6"
      }
    },
    {
      "cell_type": "markdown",
      "source": [
        "Let us test your DNN model on the MNIST dataset, which contains images of digits `0` through `9`. For simplicity, we will select only the digits `0` and `1` for binary classification."
      ],
      "metadata": {
        "id": "zS074a2RMjxz"
      }
    },
    {
      "cell_type": "code",
      "source": [
        "import tensorflow as tf\n",
        "import numpy as np\n",
        "\n",
        "# Load the MNIST dataset\n",
        "(X_train, y_train), (X_test, y_test) = tf.keras.datasets.mnist.load_data()\n",
        "\n",
        "# Flatten the 28x28 images into vectors of 784 elements and normalize to [0, 1]\n",
        "X_train = X_train.reshape(X_train.shape[0], -1).T / 255.0  # Transpose to (in_features, num_samples)\n",
        "X_test = X_test.reshape(X_test.shape[0], -1).T / 255.0     # Transpose to (in_features, num_samples)\n",
        "\n",
        "# Select only the samples of class '0' and '1' for binary classification\n",
        "train_filter = (y_train == 0) | (y_train == 1)\n",
        "test_filter = (y_test == 0) | (y_test == 1)\n",
        "\n",
        "X_train_binary = X_train[:, train_filter]\n",
        "y_train_binary = y_train[train_filter].reshape(1, -1)  # Reshape to (1, num_samples)\n",
        "\n",
        "X_test_binary = X_test[:, test_filter]\n",
        "y_test_binary = y_test[test_filter].reshape(1, -1)  # Reshape to (1, num_samples)\n",
        "\n",
        "# Verify the shapes\n",
        "print(f\"Training data shape: {X_train_binary.shape}\")  # Should be (784, num_samples)\n",
        "print(f\"Training labels shape: {y_train_binary.shape}\")  # Should be (1, num_samples)\n",
        "print(f\"Testing data shape: {X_test_binary.shape}\")  # Should be (784, num_samples)\n",
        "print(f\"Testing labels shape: {y_test_binary.shape}\")  # Should be (1, num_samples)\n",
        "\n",
        "# Print out some example labels to verify\n",
        "print(\"Training labels:\", np.unique(y_train_binary))\n",
        "print(\"Testing labels:\", np.unique(y_test_binary))"
      ],
      "metadata": {
        "colab": {
          "base_uri": "https://localhost:8080/"
        },
        "id": "ZG3M3A_PMpI8",
        "outputId": "7214c3b3-ac3e-4c30-da79-2f10f90e401f"
      },
      "execution_count": null,
      "outputs": [
        {
          "output_type": "stream",
          "name": "stdout",
          "text": [
            "Training data shape: (784, 12665)\n",
            "Training labels shape: (1, 12665)\n",
            "Testing data shape: (784, 2115)\n",
            "Testing labels shape: (1, 2115)\n",
            "Training labels: [0 1]\n",
            "Testing labels: [0 1]\n"
          ]
        }
      ]
    },
    {
      "cell_type": "markdown",
      "source": [
        "## 3.2 Optimizer Comparison\n",
        "\n",
        "In this exercise, we will test different optimization algorithms on a simple neural network trained for binary classification using the MNIST dataset (with digits ‘0’ and ‘1’). The code initializes a neural network with a specified number of input neurons, hidden neurons, output neurons, and depth.\n",
        "\n",
        "We then experiment with different optimization algorithms, including Gradient Descent and Momentum, to observe their effects on the model’s performance. The code runs each optimizer for a specified number of iterations and records the training and test losses.\n",
        "\n",
        "The results are plotted to compare how each optimizer influences the convergence of the model. This will help you understand the differences in performance between the optimizers and how they affect the model’s ability to generalize to new data."
      ],
      "metadata": {
        "id": "ubqhTcjWk0AS"
      }
    },
    {
      "cell_type": "code",
      "source": [
        "# Initialize neural network and optimizer settings\n",
        "input_size = X_train_binary.shape[0]\n",
        "hidden_size = 64\n",
        "output_size = 1\n",
        "depth = 3\n",
        "num_iterations = 100\n",
        "\n",
        "# Dictionary of optimizers and their settings\n",
        "optimizers = {\n",
        "    \"Gradient Descent\": lambda net: GradientDescent(net, learning_rate=0.1),\n",
        "    # \"Momentum\": lambda net: GradientDescentWithMomentum(net, learning_rate=0.9, beta=0.9),\n",
        "    \"RMSProp\": lambda net: RMSProp(net, learning_rate=0.001, beta=0.9),\n",
        "    # \"Adam\": lambda net: Adam(net, learning_rate=0.01, beta1=0.9, beta2=0.99)\n",
        "}\n",
        "\n",
        "# Define colors for each optimizer\n",
        "colors = {\n",
        "    \"Gradient Descent\": 'b',\n",
        "    # \"Momentum\": 'k',\n",
        "    \"RMSProp\": 'r',\n",
        "    # \"Adam\": 'c'\n",
        "}\n",
        "\n",
        "# Dictionary to store losses for each optimizer\n",
        "train_losses_dict = {}\n",
        "test_losses_dict = {}\n",
        "\n",
        "# Loop through each optimizer, reinitialize the network, and train\n",
        "for opt_name, optimizer_fn in optimizers.items():\n",
        "    print(f\"Training with {opt_name} ...\")\n",
        "    np.random.seed(1)\n",
        "    mnist_net = NeuralNetwork(input_size, output_size, hidden_size, depth)\n",
        "    optimizer = optimizer_fn(mnist_net)\n",
        "    train_losses, test_losses = train(mnist_net, optimizer, X_train_binary, y_train_binary, X_test_binary, y_test_binary, num_iterations=num_iterations)\n",
        "    train_losses_dict[opt_name] = train_losses\n",
        "    test_losses_dict[opt_name] = test_losses\n",
        "\n",
        "    print(f\"Train Losses: {train_losses[-1]:.4f}, Test Losses: {test_losses[-1]:.4f}\")\n",
        "\n",
        "\n",
        "\n",
        "# Plot both training and test losses in the same figure with the same color for each optimizer\n",
        "plt.figure(figsize=(10, 6))\n",
        "for opt_name in optimizers.keys():\n",
        "    color = colors[opt_name]\n",
        "    plt.plot(train_losses_dict[opt_name], label=f'{opt_name} Train Loss', linestyle='-', color=color)\n",
        "    plt.plot(test_losses_dict[opt_name], label=f'{opt_name} Test Loss', linestyle='--', color=color)\n",
        "\n",
        "plt.title(\"Training and Test Loss Comparison\")\n",
        "plt.xlabel(\"Iterations\")\n",
        "plt.ylabel(\"Loss\")\n",
        "plt.legend()\n",
        "plt.grid(True)\n",
        "plt.show()"
      ],
      "metadata": {
        "colab": {
          "base_uri": "https://localhost:8080/",
          "height": 632
        },
        "id": "zDvWqma4DGDL",
        "outputId": "95a029e0-4334-484e-f609-60d5b15b57f2"
      },
      "execution_count": null,
      "outputs": [
        {
          "output_type": "stream",
          "name": "stdout",
          "text": [
            "Training with Gradient Descent ...\n",
            "Train Losses: 0.0033, Test Losses: 0.0029\n",
            "Training with RMSProp ...\n",
            "Train Losses: 0.0035, Test Losses: 0.0041\n"
          ]
        },
        {
          "output_type": "display_data",
          "data": {
            "text/plain": [
              "<Figure size 1000x600 with 1 Axes>"
            ],
            "image/png": "[encoded data removed]"
          },
          "metadata": {}
        }
      ]
    },
    {
      "cell_type": "markdown",
      "source": [
        "## Congratulations\n",
        "\n",
        "on completing the assignment! You’ve successfully implemented a flexible deep neural network with customizable width and depth, along with advanced optimization algorithms such as Gradient Descent, Momentum, RMSProp and Adam. By exploring these optimizers, you’ve gained valuable insights into their impact on training efficiency and performance. Great work—keep pushing forward as you continue to master deep learning techniques!"
      ],
      "metadata": {
        "id": "wY0cmTmomEJy"
      }
    },
    {
      "cell_type": "code",
      "source": [],
      "metadata": {
        "id": "NYysOXdHcv5H"
      },
      "execution_count": null,
      "outputs": []
    }
  ]
}