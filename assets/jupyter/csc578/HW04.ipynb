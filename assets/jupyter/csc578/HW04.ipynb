{
  "nbformat": 4,
  "nbformat_minor": 0,
  "metadata": {
    "colab": {
      "provenance": [],
      "toc_visible": true,
      "gpuType": "T4"
    },
    "kernelspec": {
      "name": "python3",
      "display_name": "Python 3"
    },
    "language_info": {
      "name": "python"
    },
    "accelerator": "GPU"
  },
  "cells": [
    {
      "cell_type": "markdown",
      "source": [
        "# Homework 4: Generalizaiton and regularization\n",
        "\n"
      ],
      "metadata": {
        "id": "EW4y2n5GwR9X"
      }
    },
    {
      "cell_type": "markdown",
      "source": [
        "# 0 - Introduction to PyTorch and Autograd"
      ],
      "metadata": {
        "id": "IeUPWMrIwsGw"
      }
    },
    {
      "cell_type": "markdown",
      "source": [
        "In Week 2, we introduced the concept of a `computational graph`, which is used to efficiently compute gradients in deep neural networks. The key idea is to track intermediate values during forward computation, as these values are used again for backpropagation. By storing these intermediate values, we can significantly reduce the computational cost during gradient computation.\n",
        "\n",
        "This concept of using a computational graph to compute gradients is implemented in PyTorch, originally developed by Facebook’s AI Research (FAIR) group (now part of Meta), through a process called **automatic differentiation**, also known as `autograd`.\n",
        "\n",
        "Similar to `numpy`, in PyTorch, we define variables as **tensors**. PyTorch tensors have an additional feature: if `requires_grad=True`, they automatically track operations for gradient computation."
      ],
      "metadata": {
        "id": "xrrddIe_wsgR"
      }
    },
    {
      "cell_type": "code",
      "source": [
        "import torch\n",
        "\n",
        "torch.manual_seed(0) # seed for reproducing\n",
        "\n",
        "x = torch.tensor(1.0, requires_grad=True)\n",
        "y = torch.tensor(2.0, requires_grad=True)\n",
        "z = x ** 2 + 2*y ** 2\n",
        "\n",
        "print(f\"x.requires_grad: {x.requires_grad}\")\n",
        "print(f\"y.requires_grad: {y.requires_grad}\")\n",
        "print(f\"z.requires_grad: {z.requires_grad}\")"
      ],
      "metadata": {
        "id": "BTMmGILL1acx",
        "colab": {
          "base_uri": "https://localhost:8080/"
        },
        "outputId": "1efb2f34-b34c-4b1d-9e6f-54be46ebfd77"
      },
      "execution_count": null,
      "outputs": [
        {
          "output_type": "stream",
          "name": "stdout",
          "text": [
            "x.requires_grad: True\n",
            "y.requires_grad: True\n",
            "z.requires_grad: True\n"
          ]
        }
      ]
    },
    {
      "cell_type": "markdown",
      "source": [
        "In this example:\n",
        "\n",
        "- `x` and `y` are tensors with `requires_grad=True`, meaning they are being tracked for gradient computation.\n",
        "- The result, `z`, also has `requires_grad=True`, since it's the result of an operation involving tensors that require gradients."
      ],
      "metadata": {
        "id": "Vpr4p2ZwRBYj"
      }
    },
    {
      "cell_type": "markdown",
      "source": [
        "We define two tensor variables, `x` and `y`, and set `requires_grad=True` to indicate that PyTorch should track their gradients. This means that PyTorch will construct a computational graph involving `x` and `y` whenever operations are performed on them.\n",
        "\n",
        "In this example, we use `x` and `y` to compute `a`. To compute the gradients of `z` with respect to `x` and `y`, we simply call `z.backward()`. This applies the **chain rule**, propagating the gradients backward through the computational graph. The gradients of `z` with respect to `x` and `y` can then be accessed by calling `x.grad` and `y.grad`."
      ],
      "metadata": {
        "id": "SRZnhxbD13VM"
      }
    },
    {
      "cell_type": "code",
      "source": [
        "z.backward()\n",
        "print(f\"Gradient of x: {x.grad}\")\n",
        "print(f\"Gradient of y: {y.grad}\")"
      ],
      "metadata": {
        "colab": {
          "base_uri": "https://localhost:8080/"
        },
        "id": "gMkDLHzO2p_I",
        "outputId": "0e49937d-e75f-4def-a524-af9efa3a513b"
      },
      "execution_count": null,
      "outputs": [
        {
          "output_type": "stream",
          "name": "stdout",
          "text": [
            "Gradient of x: 2.0\n",
            "Gradient of y: 8.0\n"
          ]
        }
      ]
    },
    {
      "cell_type": "markdown",
      "source": [
        "We can also visualize the computational graph by inspecting `z.grad_fn`, which shows the function that created `z`. This is useful for understanding how PyTorch constructs the graph and tracks operations. Each operation is represented as a node in the graph, and by calling `grad_fn`, we can see the chain of operations that led to the final result, allowing us to trace the graph backward for gradient computation."
      ],
      "metadata": {
        "id": "J9fmr8J2297v"
      }
    },
    {
      "cell_type": "code",
      "source": [
        "x = torch.tensor(1.0, requires_grad=True)\n",
        "y = torch.tensor(2.0, requires_grad=True)\n",
        "z = x ** 2 + 2*y ** 2\n",
        "a = torch.sin(z)\n",
        "\n",
        "print(f\"a.requires_grad: {a.requires_grad}\")\n",
        "print(a.grad_fn)\n",
        "print(a.grad_fn.next_functions)\n",
        "print(z.grad_fn)\n",
        "print(x.grad_fn)"
      ],
      "metadata": {
        "colab": {
          "base_uri": "https://localhost:8080/"
        },
        "id": "fX3ZDzck29NH",
        "outputId": "06c3e432-d5ca-4282-df25-1f011a45b2d2"
      },
      "execution_count": null,
      "outputs": [
        {
          "output_type": "stream",
          "name": "stdout",
          "text": [
            "a.requires_grad: True\n",
            "<SinBackward0 object at 0x7fcd1f42fdc0>\n",
            "((<AddBackward0 object at 0x7fcd1f42e5f0>, 0),)\n",
            "<AddBackward0 object at 0x7fcd1f42fdc0>\n",
            "None\n"
          ]
        }
      ]
    },
    {
      "cell_type": "markdown",
      "source": [
        "In this example:\n",
        "- `print(a.grad_fn)`: Shows the function that created `a`, which will be `SinBackward`, indicating a was generated by the `sin` operation.\n",
        "\n",
        "- `print(a.grad_fn.next_functions)`: Displays the previous functions in the graph that led to `a`. This shows the operations applied to `z` before `sin`.\n",
        "\n",
        "- `print(z.grad_fn)`: Prints the function that created `z` (i.e., `AddBackward`), which matches `a.grad_fn.next_functions`.\n",
        "- `print(x.grad_fn)`: This shows `None` because `x` is a leaf tensor, meaning it was not created by any function but was initialized directly. Leaf tensors do not have a `grad_fn`."
      ],
      "metadata": {
        "id": "_TQRua7oSkuW"
      }
    },
    {
      "cell_type": "markdown",
      "source": [
        "To stop gradient tracking, we can use `.detach()` to remove a tensor from the computational graph. In this example, we detach the tensor `x`, creating `x_detached`. When we call `a.backward()`, the detached tensor will not have gradients, and its `requires_grad` flag will be set to `False`."
      ],
      "metadata": {
        "id": "jMxd1TZy37Zr"
      }
    },
    {
      "cell_type": "code",
      "source": [
        "x = torch.tensor(1.0, requires_grad=True)\n",
        "y = torch.tensor(2.0, requires_grad=True)\n",
        "z = x ** 2 + 2*y ** 2\n",
        "\n",
        "x_detached = x.detach()\n",
        "z.backward()\n",
        "\n",
        "print(f\"x.requires_grad: {x.requires_grad}\")\n",
        "print(f\"x_detached.requires_grad: {x_detached.requires_grad}\")\n",
        "\n",
        "print(f\"x.grad: {x.grad}\")\n",
        "print(f\"x_detached.grad: {x_detached.grad}\")"
      ],
      "metadata": {
        "colab": {
          "base_uri": "https://localhost:8080/"
        },
        "id": "2FRIC1yO4MBi",
        "outputId": "b7351d4f-c301-4f72-9968-e8a1b4f278f1"
      },
      "execution_count": null,
      "outputs": [
        {
          "output_type": "stream",
          "name": "stdout",
          "text": [
            "x.requires_grad: True\n",
            "x_detached.requires_grad: False\n",
            "x.grad: 2.0\n",
            "x_detached.grad: None\n"
          ]
        }
      ]
    },
    {
      "cell_type": "markdown",
      "source": [
        "However, it's important to note that `x_detached` is not a **deep copy** of `x`. Both tensors share the same memory location, but `x_detached` is excluded from the computational graph used for automatic differentiation. This means if you modify `x_detached` **in-place**, the value of `x` may also change.\n",
        "\n",
        "To avoid this, if you want to modify `x_detached` without affecting the original `x`, you can use `x.clone()` to create an actual copy of the tensor.\n",
        "\n",
        "To reduce this probalic senario, if you want to modify the value of `x_detached` but dont want to effect the value in the original `x`. You can use `x.clone()` to get a copy of `x`."
      ],
      "metadata": {
        "id": "hdbshDxG4t6C"
      }
    },
    {
      "cell_type": "code",
      "source": [
        "x = torch.tensor(1.0, requires_grad=True)\n",
        "y = torch.tensor(2.0, requires_grad=True)\n",
        "z = x ** 2 + 2*y ** 2\n",
        "\n",
        "x_clone = x.clone()\n",
        "x_clone = torch.tensor(5.0)\n",
        "print(f\"x_clone: {x_clone}\")\n",
        "print(f\"x: {x}\")\n",
        "\n",
        "print(f\"x_clone.requires_grad: {x_clone.requires_grad}\")"
      ],
      "metadata": {
        "colab": {
          "base_uri": "https://localhost:8080/"
        },
        "id": "6hko_VGB5nUN",
        "outputId": "f7a2c4d1-e901-4a5c-8ac2-e4c4acad8ac5"
      },
      "execution_count": null,
      "outputs": [
        {
          "output_type": "stream",
          "name": "stdout",
          "text": [
            "x_clone: 5.0\n",
            "x: 1.0\n",
            "x_clone.requires_grad: False\n"
          ]
        }
      ]
    },
    {
      "cell_type": "markdown",
      "source": [
        "In PyTorch, when you use the `clone()` method, the cloned tensor retains the same `requires_grad` setting as the original tensor. So if the original tensor `x` has `requires_grad=True`, the cloned tensor `x_clone` will also have `requires_grad=True`. This is why, in your example, `x_clone.requires_grad` is `True`.\n",
        "\n",
        "If you want the cloned tensor to **not track gradients**, you can explicitly set `requires_grad=False` after cloning:"
      ],
      "metadata": {
        "id": "qeWfmm4EW2tm"
      }
    },
    {
      "cell_type": "code",
      "source": [
        "x_clone = x.clone().detach()\n",
        "print(f\"x_clone.requires_grad: {x_clone.requires_grad}\")"
      ],
      "metadata": {
        "colab": {
          "base_uri": "https://localhost:8080/"
        },
        "id": "09d6wCUaZK5R",
        "outputId": "7fdb9465-5396-42d5-f9ce-adda61d92a77"
      },
      "execution_count": null,
      "outputs": [
        {
          "output_type": "stream",
          "name": "stdout",
          "text": [
            "x_clone.requires_grad: False\n"
          ]
        }
      ]
    },
    {
      "cell_type": "markdown",
      "source": [
        "Another way to **temporarily** prevent gradient tracking when you only need to use the current value of `x` for some computation is to use `torch.no_grad()`. This context manager disables gradient tracking for all operations inside its block, making it useful when you want to perform computations without affecting the computational graph."
      ],
      "metadata": {
        "id": "kl6ikGFl-1An"
      }
    },
    {
      "cell_type": "code",
      "source": [
        "x = torch.tensor(1.0, requires_grad=True)\n",
        "y = torch.tensor(2.0, requires_grad=True)\n",
        "z = x ** 2 + 2 * y ** 2\n",
        "\n",
        "with torch.no_grad():\n",
        "    a = torch.sin(x)\n",
        "\n",
        "print(f\"a.requires_grad: {a.requires_grad}\")"
      ],
      "metadata": {
        "colab": {
          "base_uri": "https://localhost:8080/"
        },
        "id": "EcIwXUpb_TUH",
        "outputId": "63f661c6-208a-4130-910b-f43e1dec4f11"
      },
      "execution_count": null,
      "outputs": [
        {
          "output_type": "stream",
          "name": "stdout",
          "text": [
            "a.requires_grad: False\n"
          ]
        }
      ]
    },
    {
      "cell_type": "markdown",
      "source": [
        "After exiting the `no_grad()` block, a no longer tracks gradients, as confirmed by `a.requires_grad` being `False`. This is useful when you want to do computations that don’t need gradients, such as during the inference phase or when updating non-trainable parameters."
      ],
      "metadata": {
        "id": "Et5ihEGi-1DR"
      }
    },
    {
      "cell_type": "markdown",
      "source": [
        "# 1 - Build a Neural Network and Train using `autograd`\n",
        "\n",
        "We have briefly introduced how `autograd` uses computational graphs to efficiently compute gradients. Now, let's use `autograd` to train a deep neural network (DNN)."
      ],
      "metadata": {
        "id": "1ncvZEGPwtIZ"
      }
    },
    {
      "cell_type": "markdown",
      "source": [
        "## 1.1 - Define `ShallowNet` [10/10]\n",
        "\n",
        "The first step is to define a two-layer neural network class called `ShallowNet` using `torch.nn`.\n",
        "\n",
        "**Exercise 1 [10/10]**\n",
        "1. The `ShallowNet` takes input size `n_x`, output size `n_y`, and width `n_h`.\n",
        "2. Instead of manually specifying weights and biases, use `nn.Linear()` to define **linear transformations** to compute preactivation that include weights and biases internally.\n",
        "3. Define the activation function `self.act` as a class attribute using `nn.ReLU()`.\n",
        "4. Implement the `forward()` method to perform forward propagation and return the output of the network.\n",
        "\n",
        "**Note** that, thanks to `autograd()`, you don't need to manually implement *backpropagation* as you did before.\n",
        "\n"
      ],
      "metadata": {
        "id": "7bWx7XUPHAaT"
      }
    },
    {
      "cell_type": "code",
      "source": [
        "import torch.nn as nn\n",
        "\n",
        "class ShallowNet(nn.Module):\n",
        "    def __init__(self, n_x, n_h, n_y):\n",
        "        super(ShallowNet, self).__init__()\n",
        "        self.fc1 = nn.Linear(n_x, n_h)\n",
        "        self.fc2 = nn.Linear(n_h, n_y)\n",
        "        self.act = nn.ReLU()\n",
        "\n",
        "    def forward(self, x):\n",
        "        # Forward pass: x -> linear() -> act() -> linear()\n",
        "        ### Code Here ###\n",
        "\n",
        "        ### Code Here ###\n",
        "        return x\n"
      ],
      "metadata": {
        "id": "0EF60xo_Dmz0"
      },
      "execution_count": null,
      "outputs": []
    },
    {
      "cell_type": "code",
      "source": [
        "# Example of how to initialize the network\n",
        "n_x = 4  # Input size\n",
        "n_h = 10  # Hidden layer width\n",
        "n_y = 1  # Output size\n",
        "\n",
        "model = ShallowNet(n_x, n_h, n_y)\n",
        "print(model)"
      ],
      "metadata": {
        "colab": {
          "base_uri": "https://localhost:8080/"
        },
        "id": "QPyis7kUa_f7",
        "outputId": "8a5fbd73-5502-4bf5-c2b0-0ef5b8d71b8b"
      },
      "execution_count": null,
      "outputs": [
        {
          "output_type": "stream",
          "name": "stdout",
          "text": [
            "ShallowNet(\n",
            "  (fc1): Linear(in_features=4, out_features=10, bias=True)\n",
            "  (fc2): Linear(in_features=10, out_features=1, bias=True)\n",
            "  (act): ReLU()\n",
            ")\n"
          ]
        }
      ]
    },
    {
      "cell_type": "code",
      "source": [
        "num_samples = 8\n",
        "x = torch.randn(num_samples, n_x)\n",
        "output = model(x)\n",
        "print(output)"
      ],
      "metadata": {
        "colab": {
          "base_uri": "https://localhost:8080/"
        },
        "id": "Gz8BQkeubr71",
        "outputId": "fea44718-5491-412a-b6d3-14635f008afd"
      },
      "execution_count": null,
      "outputs": [
        {
          "output_type": "stream",
          "name": "stdout",
          "text": [
            "tensor([[ 0.3817],\n",
            "        [ 0.3093],\n",
            "        [ 0.2687],\n",
            "        [ 0.1068],\n",
            "        [-0.0068],\n",
            "        [ 0.0091],\n",
            "        [ 0.1560],\n",
            "        [ 0.1721]], grad_fn=<AddmmBackward0>)\n"
          ]
        }
      ]
    },
    {
      "cell_type": "markdown",
      "source": [
        "Explanation:\n",
        "- `nn.Linear(n_x, n_h)`: Defines a fully connected layer from input size `n_x` to hidden layer size `n_h`.\n",
        "- `self.act = nn.ReLU()`: Defines the ReLU activation function.\n",
        "- `forward()` method: Implements the forward propagation, applying the activation function after the first layer and passing the result through the second layer to produce the output.\n",
        "\n",
        "You can now use `autograd()` to automatically handle backpropagation during training."
      ],
      "metadata": {
        "id": "NWNLuVTVbFpi"
      }
    },
    {
      "cell_type": "markdown",
      "source": [
        "## 1.2 - Define Loss Function and Optimizer [10/10]\n",
        "\n",
        "To train the `ShallowNet`, we need to specify both a loss function and an optimizer. For example, we can use `nn.MSELoss()` as the loss function, and `torch.optim.SGD()` as the optimizer. The optimizer requires `model.parameters()` and a learning rate, which we define as `learning_rate`."
      ],
      "metadata": {
        "id": "kkqXyIBAcBLv"
      }
    },
    {
      "cell_type": "code",
      "source": [
        "# Define the loss function\n",
        "criterion = nn.MSELoss()  #\n",
        "\n",
        "# Define the optimizer (SGD)\n",
        "learning_rate = 0.01\n",
        "optimizer = torch.optim.SGD(model.parameters(), lr=learning_rate)"
      ],
      "metadata": {
        "id": "veRjQiHKEAGV"
      },
      "execution_count": null,
      "outputs": []
    },
    {
      "cell_type": "markdown",
      "source": [
        "Next, let's train this simple neural network using *full-batch gradient descent*, where we use all the training data in each step, instead of mini-batches.\n",
        "\n",
        "**Exercise 2 [10/10]:**\n",
        "1. In each training loop, evaluate the `model` on the entire training set `x` to obtain the `output`.\n",
        "2. Compute the `loss` by using the predefined loss function `criterion` and comparing the `output` with the ground truth labels `y`.\n",
        "3. Use autograd to compute the gradients by calling `loss.backward()` instead of calling `model.backward()` like we did in the last assignment\n",
        "4. The computed gradients are automatically stored in the `model`’s parameters, which are passed into the `optimizer`. Apply a gradient descent update by calling `optimizer.step()` as done in the previous assignment.\n"
      ],
      "metadata": {
        "id": "9vlZj3hScxOE"
      }
    },
    {
      "cell_type": "code",
      "source": [
        "# Generate random data (full-batch)\n",
        "torch.manual_seed(0) # For reproduce\n",
        "\n",
        "x = torch.randn(num_samples, n_x)\n",
        "y = torch.randn(num_samples, 1)\n",
        "\n",
        "num_epochs = 10\n",
        "for epoch in range(num_epochs):\n",
        "    optimizer.zero_grad()  # Clear previous gradients\n",
        "\n",
        "    # Forward pass\n",
        "    ### Code Here ###\n",
        "\n",
        "\n",
        "    ### Code Here ###\n",
        "\n",
        "    # Backward pass and optimization\n",
        "    ### Code Here ###\n",
        "\n",
        "\n",
        "    ### Code Here ###\n",
        "\n",
        "    # Print the loss\n",
        "    print(f\"Epoch [{epoch + 1}/{num_epochs}], Loss: {loss.item():.4f}\")\n"
      ],
      "metadata": {
        "colab": {
          "base_uri": "https://localhost:8080/"
        },
        "id": "SVRnJsMEcwp_",
        "outputId": "593d5527-1b6d-4af4-eeb2-ba4fd32c69bb"
      },
      "execution_count": null,
      "outputs": [
        {
          "output_type": "stream",
          "name": "stdout",
          "text": [
            "Epoch [1/10], Loss: 0.9464\n",
            "Epoch [2/10], Loss: 0.9357\n",
            "Epoch [3/10], Loss: 0.9255\n",
            "Epoch [4/10], Loss: 0.9158\n",
            "Epoch [5/10], Loss: 0.9066\n",
            "Epoch [6/10], Loss: 0.8978\n",
            "Epoch [7/10], Loss: 0.8893\n",
            "Epoch [8/10], Loss: 0.8812\n",
            "Epoch [9/10], Loss: 0.8734\n",
            "Epoch [10/10], Loss: 0.8660\n"
          ]
        }
      ]
    },
    {
      "cell_type": "markdown",
      "source": [
        "**Note**:\n",
        "- In PyTorch, when using `torch.optim.SGD()`, gradient descent (GD) is automatically implemented if you pass the entire dataset as a single batch (like in the example above).\n",
        "- If you do not specify a batch size while loading data (e.g., using `DataLoader`), it defaults to using the full dataset, performing full-batch gradient descent.\n",
        "- To use mini-batch stochastic gradient descent (SGD), you need to load your data in mini-batches using a DataLoader with a specified batch_size."
      ],
      "metadata": {
        "id": "TsrSy1ikejmT"
      }
    },
    {
      "cell_type": "markdown",
      "source": [
        "## 1.3 - Use `DataLoader` for Mini-Batch SGD [20/20]\n",
        "\n",
        "In this exercise, we will modify the training loop to use mini-batch stochastic gradient descent (SGD) by loading the data in mini-batches using PyTorch's `DataLoader`.\n",
        "\n",
        "**Exercise 3 [10/10]**:\n",
        "1. Generate random data `x` and `y` as before.\n",
        "2. In PyTorch, use `TensorDataset(x, y)` to wrap the input tensor `x` and label tensor `y` into a dataset. Ensure that the first dimension (number of samples) matches for both tensors.\n",
        "3. PyTorch’s `DataLoader` can automatically divide a dataset into mini-batches and shuffle the data after each epoch when `shuffle=True` is set.\n",
        "4. Set the `batch_size=64` and shuffle=True when creating the data_loader.\n"
      ],
      "metadata": {
        "id": "D3TlzM07e8Fs"
      }
    },
    {
      "cell_type": "code",
      "source": [
        "import torch\n",
        "from torch.utils.data import DataLoader, TensorDataset\n",
        "\n",
        "# Generate random data (as tensors)\n",
        "num_samples = 1000\n",
        "n_x = 10  # Number of features\n",
        "n_y = 1  # Number of output features\n",
        "x = torch.randn(num_samples, n_x)  # Input data\n",
        "y = torch.randn(num_samples, 1)    # Target output\n",
        "\n",
        "# Create a TensorDataset and DataLoader for mini-batch processing\n",
        "dataset = TensorDataset(x, y)\n",
        "batch_size = 32\n",
        "data_loader = DataLoader(dataset, batch_size=batch_size, shuffle=True)"
      ],
      "metadata": {
        "id": "W6LXyfUdEGQP"
      },
      "execution_count": null,
      "outputs": []
    },
    {
      "cell_type": "markdown",
      "source": [
        "**Exercise 4 [10/10]:** Now that we have the mini-batches prepared, we can use SGD with mini-batches to train the `ShallowNet`.\n",
        "\n",
        "1. Define a `ShallowNet` with a hidden layer width `n_h=10`.\n",
        "2. Specifiy the loss `criterion` using `MSELoss()`\n",
        "3. Define the SGD `optimizer` using `torch.optim.SGD`\n",
        "4. For each mini-batch, `data_loader` return a `(inputs, targets)` pair.\n",
        " - We evaluate our `model` on the `inputs` to get `outputs`\n",
        " - Then compute the `loss` using `outputs` and `targets`\n",
        " - Compute the gradients by calling `loss.backward()`\n",
        " - Employ the gradient update using `optimizer.step()`"
      ],
      "metadata": {
        "id": "XfIGX7kWEKCR"
      }
    },
    {
      "cell_type": "code",
      "source": [
        "torch.random.manual_seed(0) # For reproduce\n",
        "# Define the model, loss function, and optimizer\n",
        "n_h = 10  # Hidden layer width\n",
        "model = ShallowNet(n_x=n_x, n_h=n_h, n_y=n_y)\n",
        "criterion = torch.nn.MSELoss()\n",
        "learning_rate = 0.01\n",
        "optimizer = torch.optim.SGD(model.parameters(), lr=learning_rate)\n",
        "\n",
        "# Training loop with mini-batch SGD\n",
        "num_epochs = 10\n",
        "\n",
        "for epoch in range(num_epochs):\n",
        "    running_loss = 0.0\n",
        "\n",
        "    # Loop over mini-batches\n",
        "    ### Code Here ###\n",
        "    for\n",
        "    ### Code Here ###\n",
        "        optimizer.zero_grad()  # Clear previous gradients\n",
        "\n",
        "        # Forward pass: compute the model's output for the mini-batch\n",
        "        ### Code Here ###\n",
        "\n",
        "        ### Code Here ###\n",
        "\n",
        "        # Backward pass and optimization\n",
        "        ### Code Here ###\n",
        "\n",
        "\n",
        "        ### Code Here ###\n",
        "\n",
        "        # Accumulate loss for printing\n",
        "        running_loss += loss.item()\n",
        "\n",
        "    # Print the average loss for the current epoch\n",
        "    avg_loss = running_loss / len(data_loader)\n",
        "    print(f\"Epoch [{epoch + 1}/{num_epochs}], Loss: {avg_loss:.4f}\")\n"
      ],
      "metadata": {
        "colab": {
          "base_uri": "https://localhost:8080/"
        },
        "id": "1MzDRh1wcwsh",
        "outputId": "331372df-4a21-46a6-92cc-b039c8f9f77d"
      },
      "execution_count": null,
      "outputs": [
        {
          "output_type": "stream",
          "name": "stdout",
          "text": [
            "Epoch [1/10], Loss: 1.1037\n",
            "Epoch [2/10], Loss: 1.0542\n",
            "Epoch [3/10], Loss: 1.0580\n",
            "Epoch [4/10], Loss: 1.0350\n",
            "Epoch [5/10], Loss: 1.0737\n",
            "Epoch [6/10], Loss: 1.0209\n",
            "Epoch [7/10], Loss: 1.0275\n",
            "Epoch [8/10], Loss: 1.0241\n",
            "Epoch [9/10], Loss: 1.0418\n",
            "Epoch [10/10], Loss: 1.0044\n"
          ]
        }
      ]
    },
    {
      "cell_type": "markdown",
      "source": [
        "**Note**:\n",
        "- `running_loss` is used to keep track of the total loss across all mini-batches within each epoch.\n",
        "- `avg_loss` computes the average loss over the entire epoch\n",
        "- `optimizer.zero_grad()` clears the previously computed gradients as, in PyTorch, gradients are accumulated over mini-batches by default.\n",
        "- `len(data_loader)` gives the number of *mini-batches* in the dataset: `num_samples` divided by `batch_size`. In our case, $\\lceil 1000/32\\rceil  = 32$\n",
        "- The total number of *training iterations (loops)* is calculated by multiplying the `num_epochs` by the number of mini-batches per epoch. In our example, we have $10 \\times 32 = 320$ training loops"
      ],
      "metadata": {
        "id": "LbS9s0_ihu6Y"
      }
    },
    {
      "cell_type": "markdown",
      "source": [
        "## 1.4 - Train on a realistic dataset using Pytorch [40/40]"
      ],
      "metadata": {
        "id": "lK1mFPPjGTyt"
      }
    },
    {
      "cell_type": "markdown",
      "source": [
        "Next, let us load the MNIST data set. This time we will use `torch`."
      ],
      "metadata": {
        "id": "1Ybv3FiqHfSb"
      }
    },
    {
      "cell_type": "code",
      "source": [
        "import torch\n",
        "import torchvision\n",
        "\n",
        "train_dataset = torchvision.datasets.MNIST(root='./data', train=True, download=True, transform=torchvision.transforms.ToTensor())\n",
        "test_dataset = torchvision.datasets.MNIST(root='./data', train=False, download=True, transform=torchvision.transforms.ToTensor())\n",
        "\n",
        "print(f\"Number of training samples: {len(train_dataset)}\")\n",
        "print(f\"Number of test samples: {len(test_dataset)}\")\n",
        "print(f\"Input shape: {train_dataset[0][0].shape}\")"
      ],
      "metadata": {
        "id": "YMuyaJfNI_Sx",
        "colab": {
          "base_uri": "https://localhost:8080/"
        },
        "outputId": "1bc7548a-d91f-4c67-8e8b-5ef15d0016ee"
      },
      "execution_count": null,
      "outputs": [
        {
          "output_type": "stream",
          "name": "stdout",
          "text": [
            "Downloading http://yann.lecun.com/exdb/mnist/train-images-idx3-ubyte.gz\n",
            "Failed to download (trying next):\n",
            "<urlopen error [Errno 111] Connection refused>\n",
            "\n",
            "Downloading https://ossci-datasets.s3.amazonaws.com/mnist/train-images-idx3-ubyte.gz\n",
            "Downloading https://ossci-datasets.s3.amazonaws.com/mnist/train-images-idx3-ubyte.gz to ./data/MNIST/raw/train-images-idx3-ubyte.gz\n"
          ]
        },
        {
          "output_type": "stream",
          "name": "stderr",
          "text": [
            "100%|██████████| 9.91M/9.91M [00:02<00:00, 4.12MB/s]\n"
          ]
        },
        {
          "output_type": "stream",
          "name": "stdout",
          "text": [
            "Extracting ./data/MNIST/raw/train-images-idx3-ubyte.gz to ./data/MNIST/raw\n",
            "\n",
            "Downloading http://yann.lecun.com/exdb/mnist/train-labels-idx1-ubyte.gz\n",
            "Failed to download (trying next):\n",
            "<urlopen error [Errno 111] Connection refused>\n",
            "\n",
            "Downloading https://ossci-datasets.s3.amazonaws.com/mnist/train-labels-idx1-ubyte.gz\n",
            "Downloading https://ossci-datasets.s3.amazonaws.com/mnist/train-labels-idx1-ubyte.gz to ./data/MNIST/raw/train-labels-idx1-ubyte.gz\n"
          ]
        },
        {
          "output_type": "stream",
          "name": "stderr",
          "text": [
            "100%|██████████| 28.9k/28.9k [00:00<00:00, 132kB/s]\n"
          ]
        },
        {
          "output_type": "stream",
          "name": "stdout",
          "text": [
            "Extracting ./data/MNIST/raw/train-labels-idx1-ubyte.gz to ./data/MNIST/raw\n",
            "\n",
            "Downloading http://yann.lecun.com/exdb/mnist/t10k-images-idx3-ubyte.gz\n",
            "Failed to download (trying next):\n",
            "<urlopen error [Errno 111] Connection refused>\n",
            "\n",
            "Downloading https://ossci-datasets.s3.amazonaws.com/mnist/t10k-images-idx3-ubyte.gz\n",
            "Downloading https://ossci-datasets.s3.amazonaws.com/mnist/t10k-images-idx3-ubyte.gz to ./data/MNIST/raw/t10k-images-idx3-ubyte.gz\n"
          ]
        },
        {
          "output_type": "stream",
          "name": "stderr",
          "text": [
            "100%|██████████| 1.65M/1.65M [00:01<00:00, 1.26MB/s]\n"
          ]
        },
        {
          "output_type": "stream",
          "name": "stdout",
          "text": [
            "Extracting ./data/MNIST/raw/t10k-images-idx3-ubyte.gz to ./data/MNIST/raw\n",
            "\n",
            "Downloading http://yann.lecun.com/exdb/mnist/t10k-labels-idx1-ubyte.gz\n",
            "Failed to download (trying next):\n",
            "<urlopen error [Errno 111] Connection refused>\n",
            "\n",
            "Downloading https://ossci-datasets.s3.amazonaws.com/mnist/t10k-labels-idx1-ubyte.gz\n",
            "Downloading https://ossci-datasets.s3.amazonaws.com/mnist/t10k-labels-idx1-ubyte.gz to ./data/MNIST/raw/t10k-labels-idx1-ubyte.gz\n"
          ]
        },
        {
          "output_type": "stream",
          "name": "stderr",
          "text": [
            "100%|██████████| 4.54k/4.54k [00:00<00:00, 4.22MB/s]"
          ]
        },
        {
          "output_type": "stream",
          "name": "stdout",
          "text": [
            "Extracting ./data/MNIST/raw/t10k-labels-idx1-ubyte.gz to ./data/MNIST/raw\n",
            "\n",
            "Number of training samples: 60000\n",
            "Number of test samples: 10000\n",
            "Input shape: torch.Size([1, 28, 28])\n"
          ]
        },
        {
          "output_type": "stream",
          "name": "stderr",
          "text": [
            "\n"
          ]
        }
      ]
    },
    {
      "cell_type": "markdown",
      "source": [
        "It is generally recommended to get familiar or get a sense of the dataset before working on the machine learning task. As MNIST is an image dataset, it would be nice just print the image and take a look using the following function."
      ],
      "metadata": {
        "id": "HYS5Roe_Mrh5"
      }
    },
    {
      "cell_type": "code",
      "source": [
        "import matplotlib.pyplot as plt\n",
        "def plot_images(dataset, num_images=5):\n",
        "    random_indices = torch.randperm(len(dataset))[:num_images]  # Randomly shuffle indices and pick num_images\n",
        "    fig, axes = plt.subplots(1, num_images, figsize=(12, 4))\n",
        "\n",
        "    for i, idx in enumerate(random_indices):\n",
        "        # Get image and label\n",
        "        image, label = dataset[idx]\n",
        "        if image.ndim == 3:  # Check if the image has 3 channels (RGB)\n",
        "            image = image.permute(1, 2, 0)  # Rearrange dimensions to (Height, Width, Channels)\n",
        "        else:\n",
        "            image = image.squeeze()  # Remove the channel dimension for plotting (1x28x28 -> 28x28)\n",
        "\n",
        "        # Plot the image\n",
        "        axes[i].imshow(image, cmap='gray')\n",
        "        axes[i].set_title(f\"Label: {label}\")\n",
        "        axes[i].axis('off')  # Turn off the axis\n",
        "\n",
        "    plt.show()"
      ],
      "metadata": {
        "id": "eGRaJ6_vM9jV"
      },
      "execution_count": null,
      "outputs": []
    },
    {
      "cell_type": "code",
      "source": [
        "# Plot the random 5 images from `train_data_full`\n",
        "plot_images(train_dataset, num_images=5)"
      ],
      "metadata": {
        "colab": {
          "base_uri": "https://localhost:8080/",
          "height": 219
        },
        "id": "Fw5gCL5-NF_E",
        "outputId": "4b2d1549-54d8-4f35-cc17-630c73ed263a"
      },
      "execution_count": null,
      "outputs": [
        {
          "output_type": "display_data",
          "data": {
            "text/plain": [
              "<Figure size 1200x400 with 5 Axes>"
            ],
            "image/png": "[encoded data removed]"
          },
          "metadata": {}
        }
      ]
    },
    {
      "cell_type": "markdown",
      "source": [
        "**Exercise 5 [10/10]**: To apply SGD with mini-batch, we need `DataLoader` to load the data as mini-batches. Additionally, to moniter the performance not only during the training but also the test dataset (or validation dataset for tuning), we need both `train_loader` and `test_loader`.\n",
        "1. Define `batch_size` with size value `64`\n",
        "2. Define `train_loader` using `DataLoader`, ensuring the `shuffle=True` flag is set to randomly shuffle the training data after each epoch.\n",
        "3. Define `test_loader` using `DataLoader` for the test dataset, and since it’s not necessary to shuffle the test data, you can leave the shuffle flag as the default (False).\n"
      ],
      "metadata": {
        "id": "LbKdy9uONFmQ"
      }
    },
    {
      "cell_type": "code",
      "source": [
        "# Create DataLoaders\n",
        "### Code Here ###\n",
        "\n",
        "### Code Here ###\n",
        "test_loader = DataLoader(test_dataset, batch_size=batch_size, shuffle=False)"
      ],
      "metadata": {
        "id": "aTiTKLTvHGgQ"
      },
      "execution_count": null,
      "outputs": []
    },
    {
      "cell_type": "markdown",
      "source": [
        "Now that we have the training and test datasets ready in **mini-batch form**, we can define our `model`, loss `criterion`, and `optimizer` to start training.\n",
        "\n",
        "**Exercise 6 [10/10]:**\n",
        "1. Use `ShallowNet` to define a two-layer network `model` with `10` hidden units and `n_y=10` as MNIST contains `10` digits.\n",
        "2. Specify the loss critarion to be `nn.MSELoss()`\n",
        "3. Define SGD optimizer using `torch.optim.SGD()` by passing the learning rate and the model's parameters\n",
        "4. For each epoch, we loop over each mini-batch `(inputs, targets)` loaded from `train_loader`:\n",
        "  - Since each image in `inputs` has shape `28x28`, but the MLP treats input as a **vector**, reshape inputs using `.view(-1)` to flatten the images.\n",
        "  - Compute the `outputs` by passing the `inputs` through the `model`\n",
        "  - The model is designed for `10` output classes, but targets are integer values (class labels). Convert targets to **One-Hot Encoding** using `torch.nn.functional.one_hot(targets, num_classes=10)`.\n",
        "  - Compute the `train_loss` using `critarion` on `outputs` and `targets`\n",
        "  - Accumulate the `train_loss` into `train_running_loss`\n",
        "  - Perform gradient computation and take the optimization step to update model's parameters.\n",
        "  - Apply the same steps to `test_loader` to compute `test_loss` and update `test_running_loss`, excpet for skipping gradient computaiton and optimization steps\n",
        "\n",
        "5. At end of each epoch, store the averaged `train_running_loss` and `test_running_loss` into `train_losses` and `test_losses`, respecitvely.\n",
        "\n"
      ],
      "metadata": {
        "id": "rq-vleGnQ1Xv"
      }
    },
    {
      "cell_type": "code",
      "source": [
        "from torch.nn.functional import one_hot\n",
        "\n",
        "torch.manual_seed(0) # For reproduce\n",
        "\n",
        "n_y = 10 # 10 classes\n",
        "model = ShallowNet(n_x=28*28, n_h=10, n_y=n_y)\n",
        "criterion = nn.MSELoss()\n",
        "learning_rate = 0.01\n",
        "optimizer = torch.optim.SGD(model.parameters(), lr=learning_rate)\n",
        "\n",
        "train_losses = []\n",
        "test_losses = []\n",
        "num_epochs = 10\n",
        "for epoch in range(num_epochs):\n",
        "    train_running_loss = 0.0\n",
        "    test_running_loss = 0.0\n",
        "\n",
        "    # Test loop\n",
        "    model.eval()  # Set the model to evaluation mode\n",
        "    with torch.no_grad():\n",
        "        for inputs, targets in test_loader:\n",
        "            ### Code Here ###\n",
        "\n",
        "\n",
        "            ### Code Here ###\n",
        "            outputs = model(inputs)\n",
        "            test_loss = criterion(outputs, targets)\n",
        "            test_running_loss += test_loss.item()\n",
        "\n",
        "    # Training loop\n",
        "    model.train()  # Set the model to training mode\n",
        "    for i, (inputs, targets) in enumerate(train_loader):\n",
        "        optimizer.zero_grad()  # Clear previous gradients\n",
        "        ### Code Here ###\n",
        "\n",
        "\n",
        "        ### Code Here ###\n",
        "\n",
        "        outputs = model(inputs)\n",
        "        train_loss = criterion(outputs, targets)\n",
        "        train_running_loss += train_loss.item()\n",
        "        train_loss.backward()\n",
        "        optimizer.step()\n",
        "\n",
        "    train_losses.append(train_running_loss / len(train_loader))\n",
        "    test_losses.append(test_running_loss / len(test_loader))\n",
        "    print(f\"Epoch [{epoch + 1}/{num_epochs}], Train Loss: {train_losses[-1]:.4f}, Test Loss: {test_losses[-1]:.4f}\")\n",
        "\n"
      ],
      "metadata": {
        "colab": {
          "base_uri": "https://localhost:8080/"
        },
        "id": "yxk8FAjBUB9Y",
        "outputId": "88acc842-19ad-4a45-edb0-e7af319bb778"
      },
      "execution_count": null,
      "outputs": [
        {
          "output_type": "stream",
          "name": "stdout",
          "text": [
            "Epoch [1/10], Train Loss: 0.0874, Test Loss: 0.1305\n",
            "Epoch [2/10], Train Loss: 0.0730, Test Loss: 0.0769\n",
            "Epoch [3/10], Train Loss: 0.0661, Test Loss: 0.0688\n",
            "Epoch [4/10], Train Loss: 0.0612, Test Loss: 0.0629\n",
            "Epoch [5/10], Train Loss: 0.0575, Test Loss: 0.0587\n",
            "Epoch [6/10], Train Loss: 0.0546, Test Loss: 0.0554\n",
            "Epoch [7/10], Train Loss: 0.0525, Test Loss: 0.0529\n",
            "Epoch [8/10], Train Loss: 0.0508, Test Loss: 0.0510\n",
            "Epoch [9/10], Train Loss: 0.0495, Test Loss: 0.0495\n",
            "Epoch [10/10], Train Loss: 0.0485, Test Loss: 0.0484\n"
          ]
        }
      ]
    },
    {
      "cell_type": "markdown",
      "source": [
        "Now that we have obtained `train_losses` and `test_losses`, it is essential to check the convergence behavior to determine whether it is smooth without significant damping or oscillation. If oscillations occur, we may need to consider shrinking the learning rate. In this exercise, you will implement a function `plot_losses()` to visualize the losses on the same plot.\n",
        "\n",
        "**Exercise 7 [10/10]:**\n",
        "1. We need to import `matplotlib.pyplot` as `plt` as for ploting\n",
        "2. The function `plot_losses` takes `train_losses` and `test_losses` as input\n",
        "3. Use `plt.figure()` to define a figure with specified `figsize=(10,6)`\n",
        "4. Plot train_losses using `plt.plot()`. To distinguish it from `test_losses`, specify parameters such as `label`, `color`, and `linestyle`.\n",
        "5. Plot `test_losses` as the `train_losses`\n",
        "6. Add labels and title\n",
        "7. Add legend\n",
        "8. Finish ploting, we `plt.show()` the plotted figure.\n"
      ],
      "metadata": {
        "id": "6c1tXBWjR8H_"
      }
    },
    {
      "cell_type": "code",
      "source": [
        "import matplotlib.pyplot as plt\n",
        "\n",
        "def plot_losses(train_losses, test_losses):\n",
        "    plt.figure(figsize=(10, 6))\n",
        "\n",
        "    # Plot training losses (blue dashed line)\n",
        "    plt.plot(train_losses, label='Training Loss', color='blue', linestyle='--')\n",
        "\n",
        "    # Plot test losses (red solid line)\n",
        "    ### Code Here ###\n",
        "\n",
        "\n",
        "    ### Code Here ###\n",
        "\n",
        "    # Add labels and title\n",
        "    plt.xlabel('Epochs')\n",
        "    plt.ylabel('Loss')\n",
        "    plt.title('Training and Test Loss Over Epochs')\n",
        "\n",
        "    # Add a legend\n",
        "    plt.legend()\n",
        "\n",
        "    # Show the plot\n",
        "    plt.show()"
      ],
      "metadata": {
        "id": "79NNzh98dYS1"
      },
      "execution_count": null,
      "outputs": []
    },
    {
      "cell_type": "code",
      "source": [
        "# Plot the train and test losses\n",
        "plot_losses(train_losses, test_losses)"
      ],
      "metadata": {
        "colab": {
          "base_uri": "https://localhost:8080/",
          "height": 564
        },
        "id": "-GAurU8udZGA",
        "outputId": "d2176e0f-241f-43cf-e84e-2627ab6e6218"
      },
      "execution_count": null,
      "outputs": [
        {
          "output_type": "display_data",
          "data": {
            "text/plain": [
              "<Figure size 1000x600 with 1 Axes>"
            ],
            "image/png": "[encoded data removed]"
          },
          "metadata": {}
        }
      ]
    },
    {
      "cell_type": "markdown",
      "source": [
        "Once the model is trained, we can use it to make predictions and calculate the accuracy.\n",
        "\n",
        "**Exercise 8 [10/10]**:\n",
        "1. The `predict_and_accuracy` takes a `model` and `data_loader`\n",
        "2. Loop over the `data_loader`, similar to how you handled the test loop:\n",
        " - For each mini-batch, compute the `outputs` by applying the `model` on `inputs`.\n",
        " - Use `torch.max(outputs.data, 1)` to retrieve the `predicted` class labels by finding the index of the maximum logit value in `outputs`.\n",
        " - We collect the `predicted` labels into the previous collection `predicitons` using `extend()` as to append a `list` to another `list` in Python\n",
        " - UUpdate the total number of predictions made (`total`) and the total number of correct predictions (`correct`).\n",
        "3. After completing the loop, compute the `accuracy` as the ratio of correct predictions to the total number of predictions (`correct / total`).\n",
        "4. Return total `predicitons` and `accuracy`"
      ],
      "metadata": {
        "id": "ZSG4gAk3vyQA"
      }
    },
    {
      "cell_type": "code",
      "source": [
        "def predict_and_accuracy(model, data_loader):\n",
        "    model.eval()  # Set the model to evaluation mode\n",
        "    correct = 0\n",
        "    total = 0\n",
        "    predictions = []\n",
        "\n",
        "    with torch.no_grad():  # Disable gradient computation during prediction\n",
        "        for inputs, targets in data_loader:\n",
        "            inputs = inputs.view(-1, 28 * 28)  # Flatten the images\n",
        "            outputs = model(inputs)\n",
        "            ### Code Here ###\n",
        "\n",
        "\n",
        "            ### Code Here ###\n",
        "            predictions.extend(predicted.tolist())\n",
        "            total += targets.size(0)\n",
        "            correct += (predicted == targets).sum().item()\n",
        "\n",
        "    ### Code Here ###\n",
        "\n",
        "\n",
        "    ### Code Here ###\n",
        "    return predictions, accuracy\n"
      ],
      "metadata": {
        "id": "77b4a-ZZvJyx"
      },
      "execution_count": null,
      "outputs": []
    },
    {
      "cell_type": "code",
      "source": [
        "# Train Accuracy:\n",
        "predictions, accuracy = predict_and_accuracy(model, train_loader)\n",
        "print(f\"Training Accuracy:: {accuracy:.4f}\")"
      ],
      "metadata": {
        "colab": {
          "base_uri": "https://localhost:8080/"
        },
        "id": "l4Dz3aXss-fq",
        "outputId": "7ce5a657-399d-4111-c974-b32b5e42ed44"
      },
      "execution_count": null,
      "outputs": [
        {
          "output_type": "stream",
          "name": "stdout",
          "text": [
            "Training Accuracy:: 0.8137\n"
          ]
        }
      ]
    },
    {
      "cell_type": "code",
      "source": [
        "# Test Accuracy\n",
        "predictions, accuracy = predict_and_accuracy(model, test_loader)\n",
        "print(f\"Testing Accuracy: {accuracy:.4f}\")"
      ],
      "metadata": {
        "colab": {
          "base_uri": "https://localhost:8080/"
        },
        "id": "f1CNehuqsUYu",
        "outputId": "caf1be29-2dd1-4061-cca9-d8607c62c47d"
      },
      "execution_count": null,
      "outputs": [
        {
          "output_type": "stream",
          "name": "stdout",
          "text": [
            "Testing Accuracy: 0.8259\n"
          ]
        }
      ]
    },
    {
      "cell_type": "markdown",
      "source": [
        "# 2 - Tuning Hyperparameters"
      ],
      "metadata": {
        "id": "eMjp0XqxaFmy"
      }
    },
    {
      "cell_type": "markdown",
      "source": [
        "As introduced in the lectures, training deep neural networks (DNNs) involves a variety of choices for hyperparameters, such as:\n",
        "- chocie of loss funcitons,\n",
        "- activaiton funcitons,\n",
        "- leanring rate,\n",
        "- optimizers,\n",
        "- network achetecrures,\n",
        "- etc\n",
        "\n",
        "In this seciton, we will review the tunning strategies introduced in lectures.\n",
        "\n"
      ],
      "metadata": {
        "id": "X8TRVqIbUrXz"
      }
    },
    {
      "cell_type": "markdown",
      "source": [
        "## 2.1 - Train with Cross Entropy Loss [10/10]"
      ],
      "metadata": {
        "id": "9DQAq3jbX75j"
      }
    },
    {
      "cell_type": "markdown",
      "source": [
        "Let’s first explore the effect of changing the loss function from mean square error to **cross-entropy loss**. Specifically, we want to check if switching the loss function results in significant differences in training performance.\n",
        "\n",
        "**Note**: When we define `ShallowNet`, the model outputs raw real values (*logits*). However, when using cross-entropy loss, the loss function expects the input to represent probabilities, where each value is in $[0,1]$ and the sum is euqal to $1$. This is achieved by applying the **softmax** activation function:\n",
        "$$\n",
        "b_i = \\frac{\\exp(a_i)}{\\sum_{j=1}^{n} \\exp(a_i)}\n",
        "$$\n",
        "However, do not apply softmax **manually** in the `ShallowNet` definition, because `nn.CrossEntropyLoss()` automatically applies softmax internally. Applying softmax twice would result in incorrect behavior and training."
      ],
      "metadata": {
        "id": "NTR50l-GaXIF"
      }
    },
    {
      "cell_type": "markdown",
      "source": [
        "**Exercise 9 [10/10]**:\n",
        "1. Define `model` as `ShallowNet` with `10` hidden units.\n",
        "2. Specify the loss `criterion` as `nn.CrossEntropyLoss()`.\n",
        "3. Set the `optimizer` to SGD (with mini-batches), using a learning rate of `0.01`.\n",
        "4. Train the `mode`l for `10` epochs, recording the `train_losses` and `test_losses` at each epoch.\n",
        "5. Plot the `train_losses` and `test_losses` to visualize the convergence behavior.\n",
        "6. Make predictions on both the training and test datasets, and return their respective `accuracy`."
      ],
      "metadata": {
        "id": "wiNA_w0OVUfJ"
      }
    },
    {
      "cell_type": "code",
      "source": [
        "torch.manual_seed(0) # For reproduce\n",
        "\n",
        "model = ShallowNet(n_x=28*28, n_h=8, n_y=n_y)\n",
        "### Code Here ### (Define loss criterion)\n",
        "\n",
        "\n",
        "### Code Here ###\n",
        "learning_rate = 0.01\n",
        "optimizer = torch.optim.SGD(model.parameters(), lr=learning_rate)\n",
        "\n",
        "train_losses = []\n",
        "test_losses = []\n",
        "num_epochs = 10\n",
        "for epoch in range(num_epochs):\n",
        "    train_running_loss = 0.0\n",
        "    test_running_loss = 0.0\n",
        "    # Test loop\n",
        "    model.eval()\n",
        "    with torch.no_grad():\n",
        "        for inputs, targets in test_loader:\n",
        "            ### Code Here ###\n",
        "\n",
        "\n",
        "            ### Code Here ###\n",
        "            test_running_loss += test_loss.item()\n",
        "\n",
        "    # Training loop\n",
        "    model.train()\n",
        "    for inputs, targets in train_loader:\n",
        "        optimizer.zero_grad()  # Clear previous gradients\n",
        "        ### Code Here ###\n",
        "\n",
        "        ### Code Here ###\n",
        "\n",
        "    train_losses.append(train_running_loss / len(train_loader))\n",
        "    test_losses.append(test_running_loss / len(test_loader))\n",
        "    print(f\"Epoch [{epoch + 1}/{num_epochs}], Train Loss: {train_losses[-1]:.4f}, Test Loss: {test_losses[-1]:.4f}\")"
      ],
      "metadata": {
        "colab": {
          "base_uri": "https://localhost:8080/"
        },
        "id": "NDP73yxTJVQ7",
        "outputId": "a7d603f9-7f04-44a2-a1d2-4905d6af16a4"
      },
      "execution_count": null,
      "outputs": [
        {
          "output_type": "stream",
          "name": "stdout",
          "text": [
            "Epoch [1/10], Train Loss: 1.3421, Test Loss: 2.3165\n",
            "Epoch [2/10], Train Loss: 0.5694, Test Loss: 0.6852\n",
            "Epoch [3/10], Train Loss: 0.4494, Test Loss: 0.4663\n",
            "Epoch [4/10], Train Loss: 0.4003, Test Loss: 0.4021\n",
            "Epoch [5/10], Train Loss: 0.3716, Test Loss: 0.3670\n",
            "Epoch [6/10], Train Loss: 0.3530, Test Loss: 0.3458\n",
            "Epoch [7/10], Train Loss: 0.3402, Test Loss: 0.3344\n",
            "Epoch [8/10], Train Loss: 0.3308, Test Loss: 0.3231\n",
            "Epoch [9/10], Train Loss: 0.3237, Test Loss: 0.3176\n",
            "Epoch [10/10], Train Loss: 0.3177, Test Loss: 0.3128\n"
          ]
        }
      ]
    },
    {
      "cell_type": "code",
      "source": [
        "# Plot the train and test losses\n",
        "### Code Here ###\n",
        "plot_losses(train_losses, test_losses)\n",
        "### Code Here ###"
      ],
      "metadata": {
        "id": "k8CzczUXXc54",
        "colab": {
          "base_uri": "https://localhost:8080/",
          "height": 564
        },
        "outputId": "3b16ff3d-9dd3-4212-ef72-861da26b6982"
      },
      "execution_count": null,
      "outputs": [
        {
          "output_type": "display_data",
          "data": {
            "text/plain": [
              "<Figure size 1000x600 with 1 Axes>"
            ],
            "image/png": "[encoded data removed]"
          },
          "metadata": {}
        }
      ]
    },
    {
      "cell_type": "code",
      "source": [
        "### Code Here ###\n",
        "_, train_accuracy = predict_and_accuracy(model, train_loader)\n",
        "_, test_accuracy = predict_and_accuracy(model, test_loader)\n",
        "### Code Here ###\n",
        "print(f\"Training Accuracy: {train_accuracy:.4f}\")\n",
        "print(f\"Testing Accuracy: {test_accuracy:.4f}\")"
      ],
      "metadata": {
        "colab": {
          "base_uri": "https://localhost:8080/"
        },
        "id": "PS6-MSbLXGB7",
        "outputId": "edb7201d-9b78-4c33-c3e0-389e95e12647"
      },
      "execution_count": null,
      "outputs": [
        {
          "output_type": "stream",
          "name": "stdout",
          "text": [
            "Training Accuracy: 0.9115\n",
            "Testing Accuracy: 0.9132\n"
          ]
        }
      ]
    },
    {
      "cell_type": "markdown",
      "source": [
        "As you can see, using `CrossEntropyLoss()` results in beter `train_losses` and `test_losses` compared to using `MSELoss()`, but the `accuracy` is much better. Hence, the chocie of hyperparameters influence the performance of DNNs."
      ],
      "metadata": {
        "id": "WGH-AWhUXZJm"
      }
    },
    {
      "cell_type": "markdown",
      "source": [
        "## 2.2 - Tune network width and learning rate [10/10]\n",
        "\n",
        "We will use **random search** to tune two hyperparameters: the **width** (number of hidden units) and the **learning rate**.\n",
        "\n",
        "The possible combinations of learning rate and network width can be represented in a grid as follows:\n",
        "\n",
        "| Learning Rate \\ Width | 2    | 16   | 128  | 1024 |\n",
        "|-----------------------|------|------|------|------|\n",
        "| 1                     |val.  |val.  |val.  |val.  |\n",
        "| 0.1                   |val.  |val.  |val.  |val.  |\n",
        "| 0.01                  |val.  |val.  |val.  |val.  |\n",
        "| 0.001                 |val.  |val.  |val.  |val.  |\n",
        "\n",
        "**Note**: both learning rate and width are in **log scale**.\n",
        "\n"
      ],
      "metadata": {
        "id": "AJwty2cYYF-r"
      }
    },
    {
      "cell_type": "markdown",
      "source": [
        "**Exercise 10 [10/10]**:\n",
        "The first step is to split the `train_dataset` into `train_data` and `val_data`. Since the MNIST dataset is relatively straightforward, the results are not very sensitive to the choice of hyperparameters. Therefore, we can use a `90/10` split ratio by applying the `random_split(data, [size1, size2])` function.\n",
        "\n",
        "Next, to simplify the coding process, we will write the training loop as a function `train_model()` that takes `model`, `train_loader`, loss `criterion`, `optimizer` and `num_epoches` as input.\n",
        "\n",
        "In the third step, we need to define the search space. Create a range of values for both the learning rate and network width, ensuring that both are sampled using **log-scale**. Next, randomly sample `4` learning rates and widths from the defined search space to evaluate different combinations.\n",
        "\n",
        "For each randomly selected combination of learning rate and width, train the model on the training set and validate it on the validation set. Track the performance (e.g., validation accuracy) for comparison.\n",
        "\n"
      ],
      "metadata": {
        "id": "AMPcSbXzequ7"
      }
    },
    {
      "cell_type": "code",
      "source": [
        "from torch.utils.data import random_split\n",
        "train_size = int(0.9 * len(train_dataset))\n",
        "val_size = len(train_dataset) - train_size\n",
        "\n",
        "### Code Here ### (random_split train_dataset into train_data and val_data)\n",
        "\n",
        "\n",
        "### Code Here ###\n",
        "print(f\"Number of training samples: {len(train_data)}\")\n",
        "print(f\"Number of validation samples: {len(val_data)}\")\n",
        "\n",
        "# Redefine valudation set loader\n",
        "batch_size = 64\n",
        "train_loader = DataLoader(train_data, batch_size=batch_size, shuffle=True)\n",
        "val_loader = DataLoader(val_data, batch_size=batch_size, shuffle=False)"
      ],
      "metadata": {
        "colab": {
          "base_uri": "https://localhost:8080/"
        },
        "id": "3EMEhxp8XNku",
        "outputId": "2082ae0b-7c16-4066-b0d9-cdc09abe5ce7"
      },
      "execution_count": null,
      "outputs": [
        {
          "output_type": "stream",
          "name": "stdout",
          "text": [
            "Number of training samples: 54000\n",
            "Number of validation samples: 6000\n"
          ]
        }
      ]
    },
    {
      "cell_type": "code",
      "source": [
        "def train_model(model, train_loader, criterion, optimizer, num_epochs=10):\n",
        "    for epoch in range(num_epochs):\n",
        "        running_loss = 0.0\n",
        "        for inputs, targets in train_loader:\n",
        "            ### Code Here ###\n",
        "\n",
        "\n",
        "\n",
        "\n",
        "            ### Code Here ###\n",
        "\n",
        "        print(f\"Epoch [{epoch + 1}/{num_epochs}], Train Loss: {running_loss / len(train_loader):.4f}\")"
      ],
      "metadata": {
        "id": "4DRi2ZnafWKb"
      },
      "execution_count": null,
      "outputs": []
    },
    {
      "cell_type": "code",
      "source": [
        "learning_rates = torch.logspace(-3, 0, 5)\n",
        "widths = [2, 16, 128, 1024]\n",
        "print(f\"Learning Rate: {learning_rates}\")\n",
        "print(f\"Width: {widths}\")"
      ],
      "metadata": {
        "colab": {
          "base_uri": "https://localhost:8080/"
        },
        "id": "5B8KsXFigFBi",
        "outputId": "75929619-a971-4e59-e543-c2514de4127b"
      },
      "execution_count": null,
      "outputs": [
        {
          "output_type": "stream",
          "name": "stdout",
          "text": [
            "Learning Rate: tensor([0.0010, 0.0056, 0.0316, 0.1778, 1.0000])\n",
            "Width: [2, 16, 128, 1024]\n"
          ]
        }
      ]
    },
    {
      "cell_type": "code",
      "source": [
        "import random\n",
        "random.seed(4) # For reproducibility\n",
        "# Sample random combinations of learning rates and widths\n",
        "random_combinations = [(random.choice(learning_rates), random.choice(widths)) for _ in range(4)]  # Example with 20 combinations\n",
        "print(f\"Random Combinations: {random_combinations}\")"
      ],
      "metadata": {
        "colab": {
          "base_uri": "https://localhost:8080/"
        },
        "id": "xQFVxhMrhGo5",
        "outputId": "afbf383e-c951-49fb-bf10-dad7bfd382d2"
      },
      "execution_count": null,
      "outputs": [
        {
          "output_type": "stream",
          "name": "stdout",
          "text": [
            "Random Combinations: [(tensor(0.0056), 128), (tensor(0.0010), 1024), (tensor(0.1778), 16), (tensor(0.0010), 2)]\n"
          ]
        }
      ]
    },
    {
      "cell_type": "code",
      "source": [
        "best_params = None\n",
        "best_val_accuracy = 0.0\n",
        "\n",
        "for lr, width in random_combinations:\n",
        "    print(f\"Training with Learning Rate = {lr:.6f}, Width = {width}\")\n",
        "\n",
        "    torch.manual_seed(0)  # For reproducibility\n",
        "    # Build and initialize the model with the given width\n",
        "    model = ShallowNet(n_x=28*28, n_h=width, n_y=n_y)\n",
        "\n",
        "    # Define the optimizer with the sampled learning rate\n",
        "    optimizer = torch.optim.SGD(model.parameters(), lr=lr)\n",
        "\n",
        "    # Define loss criterion\n",
        "    criterion = nn.CrossEntropyLoss()\n",
        "\n",
        "    # Train the model on the training set\n",
        "    ### Code Here ###\n",
        "\n",
        "\n",
        "    ### Code Here ###\n",
        "\n",
        "    # Validate the model on the validation set\n",
        "    ### Code Here ###\n",
        "\n",
        "\n",
        "    ### Code Here ###\n",
        "\n",
        "    # Track the best-performing combination\n",
        "    ### Code Here ###\n",
        "    if\n",
        "    ### Code Here ###\n",
        "        best_val_accuracy = val_accuracy\n",
        "        best_params = (lr, width)\n",
        "\n",
        "print(f\"Best parameters found: Learning Rate = {best_params[0]}, Width = {best_params[1]}\")"
      ],
      "metadata": {
        "colab": {
          "base_uri": "https://localhost:8080/"
        },
        "id": "KfkPb9uIfOpq",
        "outputId": "92a9ab3b-da2b-4e1c-f0c8-935601ef1613"
      },
      "execution_count": null,
      "outputs": [
        {
          "output_type": "stream",
          "name": "stdout",
          "text": [
            "Training with Learning Rate = 0.005623, Width = 128\n",
            "Epoch [1/10], Loss: 1.6581\n",
            "Epoch [2/10], Loss: 0.7577\n",
            "Epoch [3/10], Loss: 0.5312\n",
            "Epoch [4/10], Loss: 0.4482\n",
            "Epoch [5/10], Loss: 0.4049\n",
            "Epoch [6/10], Loss: 0.3779\n",
            "Epoch [7/10], Loss: 0.3588\n",
            "Epoch [8/10], Loss: 0.3442\n",
            "Epoch [9/10], Loss: 0.3323\n",
            "Epoch [10/10], Loss: 0.3223\n",
            "Training with Learning Rate = 0.001000, Width = 1024\n",
            "Epoch [1/10], Loss: 2.1743\n",
            "Epoch [2/10], Loss: 1.8915\n",
            "Epoch [3/10], Loss: 1.5737\n",
            "Epoch [4/10], Loss: 1.2786\n",
            "Epoch [5/10], Loss: 1.0545\n",
            "Epoch [6/10], Loss: 0.8986\n",
            "Epoch [7/10], Loss: 0.7903\n",
            "Epoch [8/10], Loss: 0.7127\n",
            "Epoch [9/10], Loss: 0.6548\n",
            "Epoch [10/10], Loss: 0.6100\n",
            "Training with Learning Rate = 0.177828, Width = 16\n",
            "Epoch [1/10], Loss: 0.4211\n",
            "Epoch [2/10], Loss: 0.2501\n",
            "Epoch [3/10], Loss: 0.2155\n",
            "Epoch [4/10], Loss: 0.1946\n",
            "Epoch [5/10], Loss: 0.1815\n",
            "Epoch [6/10], Loss: 0.1732\n",
            "Epoch [7/10], Loss: 0.1668\n",
            "Epoch [8/10], Loss: 0.1619\n",
            "Epoch [9/10], Loss: 0.1551\n",
            "Epoch [10/10], Loss: 0.1495\n",
            "Training with Learning Rate = 0.001000, Width = 2\n",
            "Epoch [1/10], Loss: 2.2896\n",
            "Epoch [2/10], Loss: 2.1741\n",
            "Epoch [3/10], Loss: 2.0789\n",
            "Epoch [4/10], Loss: 1.9932\n",
            "Epoch [5/10], Loss: 1.9205\n",
            "Epoch [6/10], Loss: 1.8617\n",
            "Epoch [7/10], Loss: 1.8131\n",
            "Epoch [8/10], Loss: 1.7711\n",
            "Epoch [9/10], Loss: 1.7336\n",
            "Epoch [10/10], Loss: 1.6996\n",
            "Best parameters found: Learning Rate = 0.17782793939113617, Width = 16\n",
            "Epoch [1/10], Loss: 0.4183\n",
            "Epoch [2/10], Loss: 0.2366\n",
            "Epoch [3/10], Loss: 0.2000\n",
            "Epoch [4/10], Loss: 0.1784\n",
            "Epoch [5/10], Loss: 0.1650\n",
            "Epoch [6/10], Loss: 0.1533\n",
            "Epoch [7/10], Loss: 0.1476\n",
            "Epoch [8/10], Loss: 0.1402\n",
            "Epoch [9/10], Loss: 0.1340\n",
            "Epoch [10/10], Loss: 0.1309\n"
          ]
        }
      ]
    },
    {
      "cell_type": "code",
      "source": [
        "# Train with the best parameters\n",
        "torch.manual_seed(0)\n",
        "model = ShallowNet(n_x=28*28, n_h=best_params[1], n_y=n_y)\n",
        "optimizer = torch.optim.SGD(model.parameters(), lr=best_params[0])\n",
        "train_model(model, train_loader, criterion, optimizer)"
      ],
      "metadata": {
        "colab": {
          "base_uri": "https://localhost:8080/"
        },
        "id": "KYwlWuqiAdTj",
        "outputId": "6c6c7db3-cdac-40a1-ac56-fc0e8d8eff34"
      },
      "execution_count": null,
      "outputs": [
        {
          "output_type": "stream",
          "name": "stdout",
          "text": [
            "Epoch [1/10], Loss: 0.4211\n",
            "Epoch [2/10], Loss: 0.2501\n",
            "Epoch [3/10], Loss: 0.2155\n",
            "Epoch [4/10], Loss: 0.1946\n",
            "Epoch [5/10], Loss: 0.1815\n",
            "Epoch [6/10], Loss: 0.1732\n",
            "Epoch [7/10], Loss: 0.1668\n",
            "Epoch [8/10], Loss: 0.1619\n",
            "Epoch [9/10], Loss: 0.1551\n",
            "Epoch [10/10], Loss: 0.1495\n"
          ]
        }
      ]
    },
    {
      "cell_type": "code",
      "source": [
        "_, train_accuracy = predict_and_accuracy(model,train_loader)\n",
        "_, val_accuracy = predict_and_accuracy(model,val_loader)\n",
        "_, test_accuracy = predict_and_accuracy(model,test_loader)\n",
        "print(f\"Training Accuracy: {train_accuracy:.4f}\")\n",
        "print(f\"Validation Accuracy: {val_accuracy:.4f}\")\n",
        "print(f\"Testing Accuracy: {test_accuracy:.4f}\")"
      ],
      "metadata": {
        "colab": {
          "base_uri": "https://localhost:8080/"
        },
        "id": "O_jIgMi5iTsT",
        "outputId": "fc52b4b3-a5e8-4f01-d25c-6cc567d37a0e"
      },
      "execution_count": null,
      "outputs": [
        {
          "output_type": "stream",
          "name": "stdout",
          "text": [
            "Training Accuracy: 0.9624\n",
            "Validation Accuracy: 0.9495\n",
            "Testing Accuracy: 0.9538\n"
          ]
        }
      ]
    },
    {
      "cell_type": "markdown",
      "source": [
        "# 3- Overparameterizaiton\n",
        "\n",
        "In the lectures, we introduced the concept of overparameterization, where models are built with many more parameters or hidden units than necessary. Here, we define a shallow network with a large number of hidden units, specifically 2048, and use a high learning rate of 1.\n",
        "\n",
        "Because we use a much larger width, the model complexity increases, leading to lower bias and potentially good performance on the training set. However, due to high variance, this may not translate to the test set.\n",
        "\n",
        "Interestingly, the following experiments will demonstrate that an overparameterized model not only struggles to achieve good performance on the training set but can also generalize to the test set. Additionally, the model can be successfully trained even with a large learning rate."
      ],
      "metadata": {
        "id": "NHWWg9Q_rNAq"
      }
    },
    {
      "cell_type": "code",
      "source": [
        "torch.manual_seed(0) # for reproduct\n",
        "width = 2048 # large width\n",
        "model = ShallowNet(n_x=28*28, n_h=width, n_y=10)\n",
        "learning_rate = 1.0\n",
        "optimizer = torch.optim.SGD(model.parameters(), lr=learning_rate)\n",
        "criterion = nn.CrossEntropyLoss()\n",
        "print(f\"Training with Learning Rate = {learning_rate}, Width = {width}\")\n",
        "train_model(model, train_loader, criterion, optimizer, num_epochs=10)"
      ],
      "metadata": {
        "colab": {
          "base_uri": "https://localhost:8080/"
        },
        "id": "Ici2d5fnnPxG",
        "outputId": "33033ef3-7721-442f-83d0-8ef0da1daa88"
      },
      "execution_count": null,
      "outputs": [
        {
          "output_type": "stream",
          "name": "stdout",
          "text": [
            "Training with Learning Rate = 1.0, Width = 2048\n",
            "Epoch [1/10], Loss: 0.2541\n",
            "Epoch [2/10], Loss: 0.0846\n",
            "Epoch [3/10], Loss: 0.0558\n",
            "Epoch [4/10], Loss: 0.0360\n",
            "Epoch [5/10], Loss: 0.0240\n",
            "Epoch [6/10], Loss: 0.0158\n",
            "Epoch [7/10], Loss: 0.0094\n",
            "Epoch [8/10], Loss: 0.0066\n",
            "Epoch [9/10], Loss: 0.0038\n",
            "Epoch [10/10], Loss: 0.0015\n"
          ]
        }
      ]
    },
    {
      "cell_type": "code",
      "source": [
        "_, train_accuracy = predict_and_accuracy(model,train_loader)\n",
        "_, val_accuracy = predict_and_accuracy(model,val_loader)\n",
        "_, test_accuracy = predict_and_accuracy(model,test_loader)\n",
        "print(f\"Training Accuracy: {train_accuracy:.4f}\")\n",
        "print(f\"Validation Accuracy: {val_accuracy:.4f}\")\n",
        "print(f\"Testing Accuracy: {test_accuracy:.4f}\")"
      ],
      "metadata": {
        "colab": {
          "base_uri": "https://localhost:8080/"
        },
        "id": "KH-e9Q3ur2RC",
        "outputId": "a40fa675-3a79-4e1d-f875-f6846a1a6bc2"
      },
      "execution_count": null,
      "outputs": [
        {
          "output_type": "stream",
          "name": "stdout",
          "text": [
            "Training Accuracy: 1.0000\n",
            "Validation Accuracy: 0.9852\n",
            "Testing Accuracy: 0.9846\n"
          ]
        }
      ]
    },
    {
      "cell_type": "code",
      "source": [],
      "metadata": {
        "id": "JOHrFm-n8vna"
      },
      "execution_count": null,
      "outputs": []
    }
  ]
}