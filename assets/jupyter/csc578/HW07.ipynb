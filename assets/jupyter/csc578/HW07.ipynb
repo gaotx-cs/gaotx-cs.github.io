{
  "nbformat": 4,
  "nbformat_minor": 0,
  "metadata": {
    "colab": {
      "provenance": [],
      "toc_visible": true
    },
    "kernelspec": {
      "name": "python3",
      "display_name": "Python 3"
    },
    "language_info": {
      "name": "python"
    }
  },
  "cells": [
    {
      "cell_type": "markdown",
      "source": [
        "# Homework 7: Recurrent Neural Networks\n",
        "\n",
        "In this homework, you will implement a simple Recurrent Neural Network (RNN) that processes an input sequence $x=\\{x_1, \\cdots, x_T\\}$ to generate an output sequence $y=\\{y_1, \\cdots, y_T\\}$. The tasks includes\n",
        "- Tanh and softmax\n",
        "- Forward propogation\n",
        "- Backpropogation through time\n",
        "- RNN class"
      ],
      "metadata": {
        "id": "jqVj_MwtQVUM"
      }
    },
    {
      "cell_type": "markdown",
      "source": [
        "## 0 - Import Libraries and Tanh [1/1]\n",
        "\n",
        "In this assingment, we only use `numpy` to implement RNN and `matplotlib` for plot."
      ],
      "metadata": {
        "id": "fDCSeKZcQJs2"
      }
    },
    {
      "cell_type": "code",
      "execution_count": null,
      "metadata": {
        "id": "ASbkW0aWpzXH"
      },
      "outputs": [],
      "source": [
        "import numpy as np\n",
        "import matplotlib.pyplot as plt\n",
        "np.random.seed(1)"
      ]
    },
    {
      "cell_type": "markdown",
      "source": [
        "As discussed in the lectures, the Tanh activation function is commonly used in Natural Language Processing (NLP). Here, you’ll define a class `Tanh` with two methods: `forward()` for activation and `derivative()` for computing gradients during backpropagation.\n",
        "\n",
        "$$\n",
        "\\tanh(x) = \\frac{e^{x}-e^{-x}}{e^{x}+e^{-x}}\n",
        "$$\n",
        "\n",
        "**Exercise [0.5/0.5]**: Implement class `Tanh`."
      ],
      "metadata": {
        "id": "ELBSbul6TKDM"
      }
    },
    {
      "cell_type": "code",
      "source": [
        "class Tanh:\n",
        "    def __init__(self):\n",
        "        pass\n",
        "\n",
        "    def forward(self, x):\n",
        "        ### Code Here ###\n",
        "\n",
        "        ### Code Here ###\n",
        "\n",
        "    def derivative(self, x):\n",
        "        ### Code Here ###\n",
        "\n",
        "        ### Code Here ###\n",
        "\n",
        "    def __call__(self, x):\n",
        "        return self.forward(x)"
      ],
      "metadata": {
        "id": "CzqPYQLR8Xhb"
      },
      "execution_count": null,
      "outputs": []
    },
    {
      "cell_type": "code",
      "source": [
        "## Test Tanh\n",
        "act = Tanh()\n",
        "x = np.random.randn(2,3)\n",
        "print(f\"act(x) =\\n {act(x)}\")\n",
        "print(f\"act.derivative(x) =\\n {act.derivative(x)}\")"
      ],
      "metadata": {
        "colab": {
          "base_uri": "https://localhost:8080/"
        },
        "id": "ztARRX9vVFRF",
        "outputId": "fc960cc4-03bc-4011-ec70-992470e7a717"
      },
      "execution_count": null,
      "outputs": [
        {
          "output_type": "stream",
          "name": "stdout",
          "text": [
            "act(x) =\n",
            " [[ 0.92525207 -0.5453623  -0.48398233]\n",
            " [-0.79057703  0.69903334 -0.98015695]]\n",
            "act.derivative(x) =\n",
            " [[0.1439086  0.70257996 0.76576111]\n",
            " [0.37498795 0.51135239 0.03929236]]\n"
          ]
        }
      ]
    },
    {
      "cell_type": "markdown",
      "source": [
        "Additionally, we will define the Softmax activation to compute the output $\\hat{y}$.\n",
        "\n",
        "Note: The input $x$ has shape `(batch_size, input_size)`. Your implementation should ensure the output `y = softmax(x)` retains the shape `(batch_size, input_size)`, and the sum of `y` across each sample should be `1`.\n",
        "\n",
        "**Exercise [0.5/0.5]**: Implement softmax."
      ],
      "metadata": {
        "id": "_dDpsfG1TsJ3"
      }
    },
    {
      "cell_type": "code",
      "source": [
        "def softmax(x):\n",
        "    ### Code Here ###\n",
        "\n",
        "    ### Code Here ###"
      ],
      "metadata": {
        "id": "rjxVXLXXTvfD"
      },
      "execution_count": null,
      "outputs": []
    },
    {
      "cell_type": "code",
      "source": [
        "## Test softmax\n",
        "x = np.random.randn(4,5)\n",
        "y = softmax(x)\n",
        "print(f\"softmax(x) =\\n {y}\")\n",
        "print(f\"sum of y for each sample =\\n {np.sum(y, axis=1, keepdims=True)}\")\n"
      ],
      "metadata": {
        "colab": {
          "base_uri": "https://localhost:8080/"
        },
        "id": "57lH_uHIU6Wo",
        "outputId": "714c3639-6ae2-40e9-c07a-8caae481b3be"
      },
      "execution_count": null,
      "outputs": [
        {
          "output_type": "stream",
          "name": "stdout",
          "text": [
            "softmax(x) =\n",
            " [[0.18376865 0.4103551  0.03269533 0.28088273 0.09229819]\n",
            " [0.17606771 0.11032588 0.11556621 0.08852581 0.50951439]\n",
            " [0.39110427 0.27540117 0.05782917 0.19338811 0.08227728]\n",
            " [0.10790932 0.17883443 0.21565153 0.24922814 0.24837658]]\n",
            "sum of y for each sample =\n",
            " [[1.]\n",
            " [1.]\n",
            " [1.]\n",
            " [1.]]\n"
          ]
        }
      ]
    },
    {
      "cell_type": "markdown",
      "source": [
        "## 1 - Implement Recurrent Neural Network\n"
      ],
      "metadata": {
        "id": "DulWZP4dqkTE"
      }
    },
    {
      "cell_type": "markdown",
      "source": [
        "### 1.1 Initialization [1/1]\n",
        "\n",
        "Recall that we initialize the weights and bias in MLP using random initializaiton. Here we do the same random initializaiton for RNN. Specifically, for a weight matrix $W\\in \\mathbb{R}^{m\\times n}$, each entry is randomly initialized using an i.i.d. Gaussian distribution:\n",
        "$$\n",
        "W_{ij}\\sim N\\left(0,\\frac{2}{n+m}\\right)\n",
        "$$\n",
        "We are fine to use zero initializaiton for bias. Note that in RNN, we have three weight matrices shared across all time steps: $W_x\\in \\mathbb{R}^{n_h\\times n_x}$, $W_y\\in \\mathbb{R}^{n_y\\times n_h}$, and $W_h\\in \\mathbb{R}^{n_h \\times n_h}$."
      ],
      "metadata": {
        "id": "uV-NcrFxzzLc"
      }
    },
    {
      "cell_type": "markdown",
      "source": [
        "**Exercise [2/2]**: Implement `initialize_rnn_parameters` to randomly initilaize weights `Wx`, `Wy`, `Wh`, and biases `bh` and `by`. Return a dictionary `parameters` that contains all parameters."
      ],
      "metadata": {
        "id": "IFWUaHn1-eU6"
      }
    },
    {
      "cell_type": "code",
      "source": [
        "# Initialize weights and biases\n",
        "def initialize_rnn_parameters(n_x, n_h, n_y):\n",
        "    parameters = {}\n",
        "    ### Code Here ###\n",
        "\n",
        "    ### Code Here ###\n",
        "\n",
        "    parameters['Wx'] = Wx\n",
        "    parameters['Wh'] = Wh\n",
        "    parameters['Wy'] = Wy\n",
        "    parameters['bh'] = bh\n",
        "    parameters['by'] = by\n",
        "    return parameters"
      ],
      "metadata": {
        "id": "mLRR4B57-gKo"
      },
      "execution_count": null,
      "outputs": []
    },
    {
      "cell_type": "code",
      "source": [
        "# Test initialize_rnn_parameters\n",
        "np.random.seed(1)\n",
        "n_x = 3\n",
        "n_h = 9\n",
        "n_y = 5\n",
        "parameters = initialize_rnn_parameters(n_x, n_h, n_y)\n",
        "print(\"Wx:\", parameters['Wx'])\n",
        "print(\"Wh:\", parameters['Wh'])\n",
        "print(\"Wy:\", parameters['Wy'])"
      ],
      "metadata": {
        "colab": {
          "base_uri": "https://localhost:8080/"
        },
        "id": "vGbdkf-k_qXc",
        "outputId": "fc0eefec-c642-4319-ad5e-9890609f634f"
      },
      "execution_count": null,
      "outputs": [
        {
          "output_type": "stream",
          "name": "stdout",
          "text": [
            "Wx: [[ 0.66313622 -0.24974851 -0.21562521]\n",
            " [-0.43803761  0.35330119 -0.93959924]\n",
            " [ 0.71231642 -0.31076142  0.13024717]\n",
            " [-0.10180503  0.59690307 -0.84104892]\n",
            " [-0.13162627 -0.15678953  0.46285944]\n",
            " [-0.44902873 -0.07039352 -0.3583842 ]\n",
            " [ 0.01723369  0.23793331 -0.4493259 ]\n",
            " [ 0.4673315   0.36807287  0.20514245]\n",
            " [ 0.3677729  -0.27913073 -0.05016972]]\n",
            "Wh: [[-0.31192314 -0.08929603  0.17678516 -0.23055358 -0.13225118 -0.22905757\n",
            "  -0.28173521 -0.22374871 -0.00422153]\n",
            " [-0.37243678  0.07813857  0.55326739  0.24734805 -0.06394518 -0.29587632\n",
            "  -0.24905276  0.56415153  0.01693592]\n",
            " [-0.21233188  0.06363849  0.70008505  0.04005298  0.20573437  0.10005677\n",
            "  -0.11741662 -0.3808394  -0.11644757]\n",
            " [-0.06963141  0.19554106  0.27966114  0.31036736  0.09519578  0.29504705\n",
            "  -0.25146598  0.41762272  0.17097661]\n",
            " [-0.09936428  0.16283938 -0.02519057  0.3772098   0.50660561  0.72852514\n",
            "  -0.46549878 -0.48137127 -0.16815529]\n",
            " [ 0.05334569  0.29205631  0.10521165 -0.67406707 -0.102068    0.27599155\n",
            "   0.07669825  0.25400373 -0.07410938]\n",
            " [-0.06691936  0.06218713  0.13668388  0.06609991  0.03966955 -0.2235541\n",
            "   0.1258546   0.04060709  0.37649464]\n",
            " [ 0.39963929  0.06171881 -0.12509498 -0.21291014  0.14116478  0.02578002\n",
            "  -0.11461789  0.01453229 -0.20666695]\n",
            " [ 0.23267734 -0.14904285  0.40816923  0.13449721  0.19785951 -0.36497062\n",
            "   0.05646081  0.24685215 -0.3179002 ]]\n",
            "Wy: [[-0.70434796  0.08628998 -3.63292695  0.83383337  2.23873064 -2.27406543\n",
            "   0.92745748 -3.47197556 -0.10237869]\n",
            " [-4.27493183  2.96699237  1.08184913 -0.06513034 -2.05088487  3.37004142\n",
            "   5.20446203 -4.91575795  3.2705826 ]\n",
            " [ 4.30635911  0.89429489 -3.17296497  2.28419701 -0.47867013 -1.59782379\n",
            "  -3.25442793  1.4565853   2.0975698 ]\n",
            " [-1.64970725  1.37731553 -3.02764273  2.12152488  0.12320549 -0.49361722\n",
            "  -0.26919428  2.29885669  1.98540258]\n",
            " [ 1.40083358  0.36432316  0.20589535  1.63608039  0.61512278  1.80586128\n",
            "  -0.82049186 -6.44197521  2.74847155]]\n"
          ]
        }
      ]
    },
    {
      "cell_type": "markdown",
      "source": [
        "### 1-2 RNN Layer [2/2]\n",
        "\n",
        "implement RNN. Recall that give a sequence $\\{x_1, \\dots, x_T\\}$, a RNN unit take a hidden state vector $h_{t-1}$ from previous layer and the current input $x_t$ from the sequence, then update the hidden state\n",
        "$$\n",
        "h_t = \\tanh(W_h h_{t-1} + W_x x_t + b_h)\n",
        "$$\n",
        "Then this update hidden state is used to compute the output at time $t$:\n",
        "$$\n",
        "\\hat{y}_t = \\text{softmax}(W_y h_t + b_y)\n",
        "$$\n",
        "\n",
        "However, to facility backpropogation, we will introduce extra intermediate variables and their values will be stored in the `cache` that will be used in backpropogation to compute the gradients.\n",
        "\n",
        "$$\n",
        "\\begin{align}\n",
        "&z_t = W_h h_{t-1} + W_x x_t + b_h\\\\\n",
        "&h_t = \\phi(z_t)\\\\\n",
        "&u_t = W_y h_t + b_y\\\\\n",
        "&\\hat{y}_t = \\text{softmax}(u_t)\n",
        "\\end{align}\n",
        "$$\n",
        "Note that we will not store the values of $u_t$, since it does not explicitly use thanks to the combination of cross entropy loss and softmax. Thus, we only need to return `yhat_t`, `h_t`, and `z_t`.\n",
        "\n",
        "**Exercise [2/2]**: Implement one layer RNN `rnn_layer` with input `x_t` and `h_prev`, and `parameters`. Return the `yhat_t`, `h_t`, and `z_t`"
      ],
      "metadata": {
        "id": "aTIOPPqE_3k3"
      }
    },
    {
      "cell_type": "code",
      "source": [
        "def rnn_layer(x_t, h_prev, parameters, act=Tanh()):\n",
        "    # xt: input at time t, shape (batch_size, input_size)\n",
        "    # h_prev: previous hidden state, shape (batch_size, hidden_size)\n",
        "    # Wh: weights for hidden to hidden, shape (hidden_size, hidden_size)\n",
        "    # Wx: weights for input to hidden, shape (hidden_size, input_size)\n",
        "    # Wy: weights for hidden to output, shape (output_size, hidden_size)\n",
        "    # bh: bias for hidden state, shape (hidden_size, 1)\n",
        "    # by: bias for output, shape (output_size, 1)\n",
        "\n",
        "    Wh = parameters['Wh']\n",
        "    Wx = parameters['Wx']\n",
        "    Wy = parameters['Wy']\n",
        "    bh = parameters['bh']\n",
        "    by = parameters['by']\n",
        "\n",
        "    ### Code Here ###\n",
        "\n",
        "    ### Code Here ###\n",
        "\n",
        "    return yhat_t, h_t, z_t"
      ],
      "metadata": {
        "id": "fukEn0qFqtp7"
      },
      "execution_count": null,
      "outputs": []
    },
    {
      "cell_type": "code",
      "source": [
        "# Test rnn_layer()\n",
        "np.random.seed(1)\n",
        "batch_size = 2\n",
        "x = np.random.randn(batch_size, n_x)\n",
        "pre_h = np.random.randn(batch_size, n_h)\n",
        "\n",
        "y_t, h_t, z_t = rnn_layer(x, pre_h, parameters)\n",
        "print(\"y_t.shape:\", y_t.shape)\n",
        "print(\"y_t:\", y_t)"
      ],
      "metadata": {
        "colab": {
          "base_uri": "https://localhost:8080/"
        },
        "id": "h0V6ZFvht-Uk",
        "outputId": "f1d3590b-33b7-4d41-c8eb-44417d22f55a"
      },
      "execution_count": null,
      "outputs": [
        {
          "output_type": "stream",
          "name": "stdout",
          "text": [
            "y_t.shape: (2, 5)\n",
            "y_t: [[2.31497458e-04 9.24265539e-03 9.75012681e-01 1.44409055e-02\n",
            "  1.07226113e-03]\n",
            " [1.08739880e-05 9.99969433e-01 1.37498024e-08 4.22887287e-06\n",
            "  1.54503763e-05]]\n"
          ]
        }
      ]
    },
    {
      "cell_type": "markdown",
      "source": [
        "### 1-3 RNN Forward Pass [2/2]\n",
        "\n",
        "Now, we are ready to build the `forward()` pass for RNN. Given `inputs`, we stack the `rnn_layer` w.r.t. the `sequence_length`. We store all the intermediate values `h_t`, `yhat_t`, `z_t`, and `x_t` are stored in the `cache`. At the end, we return the output `yhats` and `cache`.\n",
        "\n",
        "**Exercise [2/2]**: Implement `forward()` by stackin the `rnn_layer` and return the outputs `yhats` and `cache` that stores `hs`, `zs`, `yhats`, and `inputs`."
      ],
      "metadata": {
        "id": "P1WZbQQZBUNL"
      }
    },
    {
      "cell_type": "code",
      "source": [
        "def forward(inputs, parameters, act=Tanh()):\n",
        "    # inputs: (batch_size, sequence_length, input_size)\n",
        "    # parameters: dictionary, containing (Wh, Wx, Wy, bh, by)\n",
        "    batch_size, sequence_length, input_size = inputs.shape\n",
        "    hidden_size = parameters['Wh'].shape[0]\n",
        "    output_size = parameters['Wy'].shape[0]\n",
        "\n",
        "    # Initialize outputs, hidden states, pre activation\n",
        "    yhats = np.zeros((batch_size, sequence_length, output_size))\n",
        "    hs = np.zeros((batch_size, sequence_length, hidden_size))\n",
        "    zs = np.zeros((batch_size, sequence_length, hidden_size))\n",
        "\n",
        "    # Initialize the previous hidden state\n",
        "    h_prev = np.zeros((batch_size, hidden_size))\n",
        "\n",
        "    # Loop through each time step\n",
        "    for t in range(sequence_length):\n",
        "        # Extract the input at time t and perform RNN layer calculations\n",
        "        ### Code Here ###\n",
        "\n",
        "        ### Code Here ###\n",
        "\n",
        "        # Store the results and Update the previous hidden state\n",
        "        ### Code Here ###\n",
        "\n",
        "        ### Code Here ###\n",
        "\n",
        "    # Cache the intermediate values\n",
        "    ### Code Here ###\n",
        "\n",
        "    ### Code Here ###\n",
        "\n",
        "    return yhats, cache"
      ],
      "metadata": {
        "id": "I-6Ks_fsF8wS"
      },
      "execution_count": null,
      "outputs": []
    },
    {
      "cell_type": "code",
      "source": [
        "## Test\n",
        "np.random.seed(1)\n",
        "batch_size = 7\n",
        "sequence_length = 2\n",
        "n_x = 3\n",
        "n_h = 9\n",
        "n_y = 5\n",
        "\n",
        "x = np.random.randn(batch_size, sequence_length, n_x)\n",
        "parameters = initialize_rnn_parameters(n_x, n_h, n_y)\n",
        "\n",
        "outputs, cache = forward(x, parameters)\n",
        "print(\"y_pred.shape:\", outputs.shape)\n",
        "print(\"y_pred:\", outputs)"
      ],
      "metadata": {
        "colab": {
          "base_uri": "https://localhost:8080/"
        },
        "id": "E_3iELCSF8y7",
        "outputId": "cab57632-1bc7-4a4c-a93b-5746f3f06aa8"
      },
      "execution_count": null,
      "outputs": [
        {
          "output_type": "stream",
          "name": "stdout",
          "text": [
            "y_pred.shape: (7, 2, 5)\n",
            "y_pred: [[[8.14030433e-01 1.85697573e-01 1.19428504e-04 1.50260441e-04\n",
            "   2.30558817e-06]\n",
            "  [9.15500527e-01 5.76525372e-04 8.38080431e-02 7.74767803e-05\n",
            "   3.74277242e-05]]\n",
            "\n",
            " [[2.25965257e-01 7.70775868e-01 1.28454261e-03 1.82887200e-03\n",
            "   1.45460715e-04]\n",
            "  [7.46652214e-01 9.38900248e-03 2.41129282e-01 2.58439814e-03\n",
            "   2.45103162e-04]]\n",
            "\n",
            " [[6.74700721e-04 2.42456728e-02 2.17135742e-02 1.73002039e-01\n",
            "   7.80364014e-01]\n",
            "  [8.76059591e-01 1.12555365e-01 9.12727590e-03 1.98127191e-03\n",
            "   2.76496978e-04]]\n",
            "\n",
            " [[7.75369988e-01 1.82259822e-02 1.86318767e-01 1.21015190e-02\n",
            "   7.98374302e-03]\n",
            "  [2.08883982e-05 9.38296085e-05 2.43152289e-02 2.77351744e-02\n",
            "   9.47834879e-01]]\n",
            "\n",
            " [[6.52061336e-01 3.45708061e-01 5.87547698e-04 1.58770786e-03\n",
            "   5.53476937e-05]\n",
            "  [4.03010060e-02 1.03779191e-02 7.59748679e-01 8.62274703e-02\n",
            "   1.03344925e-01]]\n",
            "\n",
            " [[9.56819502e-01 3.64582631e-02 3.55765118e-03 2.85283239e-03\n",
            "   3.11751088e-04]\n",
            "  [7.69509091e-01 1.84469051e-02 2.83176522e-02 9.55487248e-02\n",
            "   8.81776273e-02]]\n",
            "\n",
            " [[2.23020703e-07 6.61925876e-06 9.91300502e-03 4.96653305e-03\n",
            "   9.85113620e-01]\n",
            "  [1.52567204e-01 8.46430959e-01 8.59757875e-05 8.82382096e-04\n",
            "   3.34785553e-05]]]\n"
          ]
        }
      ]
    },
    {
      "cell_type": "markdown",
      "source": [
        "### 1-4 Compute Cost [1/1]\n",
        "\n",
        "Now let us compute the cost using cross entropy loss. Note that we have target sequence $y=(y_1, \\dots, y_T)$ and output sequence $\\bar{y}=(\\bar{y}_1, \\dots, \\bar{y}_T)$, where each $y_t$ and $\\bar{y}_t$ are a $n_y\\times 1$ vector. Their cross entropy loss at time $t$ is\n",
        "$$\n",
        "\\ell(y_t, \\bar{y}_t) = -y_t \\cdot \\log \\bar{y}_t\n",
        "$$\n",
        "Then the coss across all time is\n",
        "$$\n",
        "\\ell(y, \\bar{y}) = \\frac{1}{T}\\sum_{t} \\ell(y_t, \\bar{y}_t)\n",
        "$$\n",
        "Considering all training sample, we have\n",
        "$$\n",
        "L = \\frac{1}{N}\\sum_{i=1}^{N} \\ell(y^{(i)}, \\bar{y}^{(i)}) = \\frac{1}{NT}\\sum_{i=1}^{N}\\sum_{t=1}^{T} \\ell(y_t^{(i)}, \\bar{y}_t^{(i)})\n",
        "=-\\frac{1}{NT} \\sum_{i=1}^{N}\\sum_{t=1}^{T} y_t \\cdot \\log \\bar{y}_t\n",
        "$$\n",
        "\n",
        "**Exercise [1/1]**: Implemente the `compute_cost()`"
      ],
      "metadata": {
        "id": "JWVA5kXoK26S"
      }
    },
    {
      "cell_type": "code",
      "source": [
        "def compute_cost(targets, outputs):\n",
        "    # Compute the cross-entropy loss for the predicted outputs\n",
        "    # targets: (batch_size, sequence_length, output_size)\n",
        "    # outputs: (batch_size, sequence_length, output_size)\n",
        "    batch_size, sequence_length, output_size = targets.shape\n",
        "\n",
        "    # Compute the cross-entropy loss\n",
        "    ### Code Here ###\n",
        "\n",
        "    ### Code Here ###\n",
        "    return loss"
      ],
      "metadata": {
        "id": "YzHG_S5yK4Y0"
      },
      "execution_count": null,
      "outputs": []
    },
    {
      "cell_type": "code",
      "source": [
        "def generate_one_hot_targets(batch_size, sequence_length, n_y):\n",
        "    random_class_indices = np.random.randint(0, n_y, size=(batch_size, sequence_length))\n",
        "    one_hot_targets = np.zeros((batch_size, sequence_length, n_y))\n",
        "    one_hot_targets[np.arange(batch_size)[:, None], np.arange(sequence_length), random_class_indices] = 1\n",
        "    return one_hot_targets\n",
        "\n",
        "np.random.seed(123)\n",
        "targets = generate_one_hot_targets(batch_size, sequence_length, n_y)\n",
        "loss = compute_cost(targets, outputs)\n",
        "print(\"loss:\", loss)"
      ],
      "metadata": {
        "colab": {
          "base_uri": "https://localhost:8080/"
        },
        "id": "XL6N2R06UDw0",
        "outputId": "28acd4e2-ee90-4542-9821-b186546b076f"
      },
      "execution_count": null,
      "outputs": [
        {
          "output_type": "stream",
          "name": "stdout",
          "text": [
            "loss: 5.676070798625509\n"
          ]
        }
      ]
    },
    {
      "cell_type": "markdown",
      "source": [
        "### 1-5 Backpropogation [3/3]"
      ],
      "metadata": {
        "id": "AXbaEOYnefFJ"
      }
    },
    {
      "cell_type": "markdown",
      "source": [
        "Recall that we have forward\n",
        "$$\n",
        "\\begin{align}\n",
        "z_t = &W_h h_{t-1} + W_x x_t + b_h\\\\\n",
        "h_t = &\\phi(z_t)\\\\\n",
        "u_t = & W_y h_t + b_y\\\\\n",
        "\\bar{y}_t = & \\text{softmax}(u_t)\n",
        "\\end{align}\n",
        "$$\n",
        "\n",
        "Using chain rule, we have\n",
        "$$\n",
        "\\begin{align}\n",
        "&du_t= \\bar{y}_t-y_t\\\\\n",
        "&dW_y = d u_t h_t^{\\top}\\\\\n",
        "&db_y = d u_t\\\\\n",
        "&dh_t = W_y^{\\top} d u_t + W_h^{\\top} dz_{t+1} \\\\\n",
        "&dz_t = \\phi^{\\prime}(z_t) \\odot dh_t\\\\\n",
        "&dW_h = dz_t h_{t-1}^{\\top}\\\\\n",
        "&dW_x = dz_t x_t^{\\top}\\\\\n",
        "&db_h = dz_t\n",
        "\\end{align}\n",
        "$$\n",
        "We can see we need to pass $d z_t$ to the next time step for back propogate."
      ],
      "metadata": {
        "id": "BXt5FwZ4efHu"
      }
    },
    {
      "cell_type": "markdown",
      "source": [
        "To use vectorizaiton, suppose `x_t` is a batch of input with shape `(batch_size, input_size)`. Then the forward becomes\n",
        "$$\n",
        "\\begin{align}\n",
        "&Z_t = H_{t-1}W_h^{\\top} + X_t W_x^{\\top} + e b_h^{\\top} \\\\\n",
        "&H_t = \\phi(Z_t)\\\\\n",
        "&U_t = H_t W_y^{\\top} + e b_y^{\\top}\\\\\n",
        "&\\bar{Y}_t = \\text{softmax}(U_t)\n",
        "\\end{align}\n",
        "$$\n",
        "where\n",
        "$$\n",
        "\\begin{align}\n",
        "Z_t = \\begin{bmatrix}\n",
        "z_t^{(1)} & z_t^{(2)} & \\cdots & z_t^{(N)}\n",
        "\\end{bmatrix}\n",
        "^{\\top}\n",
        "\\in \\mathbb{R}^{N\\times n_h},\n",
        "\\quad\n",
        "e =\n",
        "\\begin{bmatrix}\n",
        "1 & 1 & \\cdots & 1\n",
        "\\end{bmatrix}^{\\top}\n",
        "\\in \\mathbb{R}^{N\\times 1}\n",
        "\\end{align}\n",
        "$$\n",
        "Then the gradients become\n",
        "$$\n",
        "\\begin{align}\n",
        "&dU_t =\\frac{1}{NT} (\\bar{Y}_t - Y_t)\\\\\n",
        "&dW_y = \\sum_t dU_t^{\\top} H_t\\\\\n",
        "&db_y = \\sum_t dU_t^{\\top} e\\\\\n",
        "&dH_t = dU_t W_y+ dZ_{t+1} W_h\\\\\n",
        "&dZ_t = \\phi^{\\prime}(Z_t) \\odot dH_t\\\\\n",
        "&dW_h = \\sum_t (dZ_t)^{\\top} H_{t-1}\\\\\n",
        "&dW_x = \\sum_t (dZ_t)^{\\top} X_t\\\\\n",
        "&db_h = \\sum_t (dZ_t)^{\\top} e\n",
        "\\end{align}\n",
        "$$\n",
        "**Note**: because the weights and baises are shared across all steps. The gradients are also accumulated across all time steps.\n",
        "\n",
        "**Exercise [3/3]**: Impelente `backward()` method and return `grads`."
      ],
      "metadata": {
        "id": "lCqDQHhRmOLO"
      }
    },
    {
      "cell_type": "code",
      "source": [
        "def backward(y, parameters, caches, act_derivative=Tanh().derivative):\n",
        "    # y: (batch_size, sequence_length, output_size)\n",
        "    # parameters: dictionary, containing (Wh, Wx, Wy, bh, by)\n",
        "    # caches: dictionary, containing (yhats, hs, zs, inputs)\n",
        "\n",
        "    batch_size, sequence_length, output_size = y.shape\n",
        "    hidden_size = parameters['Wh'].shape[0]\n",
        "    input_size = parameters['Wx'].shape[1]\n",
        "\n",
        "    Wy = parameters['Wy']\n",
        "    Wh = parameters['Wh']\n",
        "    Wx = parameters['Wx']\n",
        "    bh = parameters['bh']\n",
        "    by = parameters['by']\n",
        "\n",
        "    # Initialize gradients\n",
        "    dWh = np.zeros_like(parameters['Wh'])\n",
        "    dWx = np.zeros_like(parameters['Wx'])\n",
        "    dWy = np.zeros_like(parameters['Wy'])\n",
        "    dbh = np.zeros_like(parameters['bh'])\n",
        "    dby = np.zeros_like(parameters['by'])\n",
        "    grads ={}\n",
        "\n",
        "    dz_t_next = np.zeros((batch_size, hidden_size))\n",
        "    for t in reversed(range(sequence_length)):\n",
        "        # Retrieve cached values for current time step\n",
        "        ### Code Here ###\n",
        "\n",
        "        ### Code Here ###\n",
        "\n",
        "        # Handle previous hidden state (use zeros if t=0)\n",
        "        ### Code Here ###\n",
        "\n",
        "        ### Code Here ###\n",
        "\n",
        "        # Compute output error\n",
        "        ### Code Here ###\n",
        "\n",
        "        ### Code Here ###\n",
        "\n",
        "        # Compute gradients for output weights and biases\n",
        "        ### Code Here ###\n",
        "\n",
        "        ### Code Here ###\n",
        "\n",
        "        # Backpropagate error to hidden state\n",
        "        ### Code Here ###\n",
        "\n",
        "        ### Code Here ###\n",
        "\n",
        "        # Compute gradient w.r.t. pre-activation z_t\n",
        "        ### Code Here ###\n",
        "\n",
        "        ### Code Here ###\n",
        "\n",
        "        # Compute gradients for hidden-to-hidden weights, input-to-hidden weights, and biases\n",
        "        ### Code Here ###\n",
        "\n",
        "        ### Code Here ###\n",
        "\n",
        "        # Update dz_t_next\n",
        "        ### Code Here ###\n",
        "\n",
        "        ### Code Here ###\n",
        "\n",
        "    grads['dWh'] = dWh\n",
        "    grads['dWx'] = dWx\n",
        "    grads['dWy'] = dWy\n",
        "    grads['dbh'] = dbh\n",
        "    grads['dby'] = dby\n",
        "\n",
        "    return grads"
      ],
      "metadata": {
        "id": "3r8fw45imNxD"
      },
      "execution_count": null,
      "outputs": []
    },
    {
      "cell_type": "code",
      "source": [
        "## Test\n",
        "grads = backward(targets, parameters, cache)\n",
        "print(\"grads['dWx'].shape:\", grads['dWx'].shape)\n",
        "print(\"grads['dWx']:\", grads['dWx'])"
      ],
      "metadata": {
        "colab": {
          "base_uri": "https://localhost:8080/"
        },
        "id": "CNdG4885p2p_",
        "outputId": "f5732668-4764-4aee-9b45-fc5b400b5912"
      },
      "execution_count": null,
      "outputs": [
        {
          "output_type": "stream",
          "name": "stdout",
          "text": [
            "grads['dWx'].shape: (9, 3)\n",
            "grads['dWx']: [[-0.59072159  0.40433816  1.10746108]\n",
            " [ 0.958936    0.05239214  1.00942008]\n",
            " [-0.5482359   0.32950661 -1.2185552 ]\n",
            " [ 0.28912497  0.23787591 -3.48232618]\n",
            " [-1.60721343  0.91352167  0.52073181]\n",
            " [ 0.72894355 -0.49311288  0.55852002]\n",
            " [-0.04680902 -0.37165716  2.42702709]\n",
            " [ 1.07534461 -0.60867996  1.19172103]\n",
            " [-0.96090388  0.4181982   0.33683314]]\n"
          ]
        }
      ]
    },
    {
      "cell_type": "markdown",
      "source": [
        "### 1.6 Build RNN [1/1]\n",
        "\n",
        "Now that we have all the components, it is time to build the `RecurrentNeuralNetwork` class. It has three essential methods\n",
        "- `initialize_parameters` random initialize each weights and zero initialize biases\n",
        "- `forward()`: given `inputs`, we use `self.parameters` to compute the `outputs` and return. Meanwhile, we store the intermediate values in `self.cache`.\n",
        "- `backward()`: Employ backpropogation through time to compute the gradients for weights and biases.\n",
        "\n",
        "Exercise [1/1]: Implement the `RecurrentNeuralNetwork` class."
      ],
      "metadata": {
        "id": "UGoLe6YPXCuY"
      }
    },
    {
      "cell_type": "code",
      "source": [
        "class RecurrentNeuralNetwork:\n",
        "    def __init__(self, input_size, output_size, hidden_size, act=Tanh()):\n",
        "        # Save input parameters to attributes and initialize parameters\n",
        "        ### Code Here ###\n",
        "\n",
        "        ### Code Here ###\n",
        "\n",
        "    def initialize_parameters(self):\n",
        "        self.parameters = {}\n",
        "        ### Code Here ###\n",
        "\n",
        "        ### Code Here ###\n",
        "\n",
        "    def forward(self, inputs):\n",
        "        self.caches = {}\n",
        "        ### Code Here ###\n",
        "\n",
        "        ### Code Here ###\n",
        "        return outputs\n",
        "\n",
        "    def backward(self, y):\n",
        "        self.grads = {}\n",
        "        ### Code Here ###\n",
        "\n",
        "        ### Code Here ###\n",
        "        self.grads = grads\n",
        "\n",
        "    def __call__(self, inputs):\n",
        "        return self.forward(inputs)"
      ],
      "metadata": {
        "id": "C7G1_zA6xaVi"
      },
      "execution_count": null,
      "outputs": []
    },
    {
      "cell_type": "code",
      "source": [
        "# Test Recurrent NeuralNetwork and its forward()\n",
        "np.random.seed(1)\n",
        "n_x = 3\n",
        "n_h = 9\n",
        "n_y = 5\n",
        "batch_size = 4\n",
        "sequence_length = 2\n",
        "x = np.random.randn(batch_size, sequence_length, n_x)\n",
        "y = generate_one_hot_targets(batch_size, sequence_length, n_y)\n",
        "\n",
        "network = RecurrentNeuralNetwork(n_x, n_y, n_h)\n",
        "\n",
        "outputs = network(x)\n",
        "print(f\"Shape of outputs: {outputs.shape}\")\n",
        "# print(f\"outputs = \\n{outputs}\")"
      ],
      "metadata": {
        "colab": {
          "base_uri": "https://localhost:8080/"
        },
        "id": "2Ms-0Mj1yI8P",
        "outputId": "eb42625e-5b62-4b44-d296-3c3eb181229b"
      },
      "execution_count": null,
      "outputs": [
        {
          "output_type": "stream",
          "name": "stdout",
          "text": [
            "Shape of outputs: (4, 2, 5)\n"
          ]
        }
      ]
    },
    {
      "cell_type": "code",
      "source": [
        "# Test the backward() method in NeuralNetwork\n",
        "network.backward(y)\n",
        "print(f\"Shape of grads: {network.grads['dWx'].shape}\")\n",
        "print(f\"grads['dWx'] = \\n{network.grads['dWx']}\")"
      ],
      "metadata": {
        "colab": {
          "base_uri": "https://localhost:8080/"
        },
        "id": "239a4qU_yXe5",
        "outputId": "2478f31d-f563-48d5-d802-b63c783572f7"
      },
      "execution_count": null,
      "outputs": [
        {
          "output_type": "stream",
          "name": "stdout",
          "text": [
            "Shape of grads: (9, 3)\n",
            "grads['dWx'] = \n",
            "[[-0.33408226  0.20717265 -0.17950987]\n",
            " [ 0.42339331  0.24859148  0.09659816]\n",
            " [ 0.85870903 -0.41918044  0.00496727]\n",
            " [ 0.45031315 -0.47297622  0.71640565]\n",
            " [ 0.52565742 -0.23802471  0.01545178]\n",
            " [ 0.06318471 -0.34500968  0.19753802]\n",
            " [-0.01849903  0.19205179  0.17765888]\n",
            " [ 0.23638977 -0.05530361 -0.19717733]\n",
            " [ 0.67169325 -0.48560953  0.41511517]]\n"
          ]
        }
      ]
    },
    {
      "cell_type": "markdown",
      "source": [
        "## 2 - Training RNN using Gradient Descent\n",
        "\n",
        "We now can train the RNN using gradient descent."
      ],
      "metadata": {
        "id": "bHCEmx9uz171"
      }
    },
    {
      "cell_type": "code",
      "source": [
        "def gradient_descent_step(parameters, grads, learning_rate):\n",
        "    for key in parameters.keys():\n",
        "        parameters[key] -= learning_rate * grads[f'd{key}']"
      ],
      "metadata": {
        "id": "fbHIr_epyriY"
      },
      "execution_count": null,
      "outputs": []
    },
    {
      "cell_type": "code",
      "source": [
        "gradient_descent_step(network.parameters, network.grads, learning_rate=0.01)\n",
        "\n",
        "for key in network.parameters:\n",
        "    print(f\"{key} = \\n{network.parameters[f'{key}']}\")"
      ],
      "metadata": {
        "colab": {
          "base_uri": "https://localhost:8080/"
        },
        "id": "Q79DC18T0D9M",
        "outputId": "a8c73396-ec0b-4662-cda4-7520ca3c3cc2"
      },
      "execution_count": null,
      "outputs": [
        {
          "output_type": "stream",
          "name": "stdout",
          "text": [
            "Wx = \n",
            "[[-0.01985759 -0.32381429  0.0294375 ]\n",
            " [-0.4283655  -0.11013178  0.21877389]\n",
            " [ 0.61532254  0.80300178  0.1951748 ]\n",
            " [ 0.04421935 -0.34532894 -0.31822794]\n",
            " [ 0.25573856  0.02178268  1.271471  ]\n",
            " [-0.21800838  0.14453404 -0.17569076]\n",
            " [-0.9137896   0.71471729 -0.10963308]\n",
            " [ 0.34313437  0.85245801  0.21690564]\n",
            " [ 0.39492141 -0.77987877 -0.36946202]]\n",
            "Wh = \n",
            "[[ 0.10986031  0.3496242   0.44979252  0.41524094 -0.23131324  0.42734633\n",
            "  -0.24182157 -0.26638211 -0.00153421]\n",
            " [ 0.17096413 -0.0548569   0.44763083 -0.20553441 -0.24781734  0.33887128\n",
            "  -0.18461997  0.14480114 -0.04988595]\n",
            " [ 0.00799085 -0.08548738  0.6127309  -0.06509604  0.52612364  0.25211712\n",
            "  -0.17554081 -0.25126458  0.02946636]\n",
            " [ 0.56049949 -0.06302826 -0.05351696 -0.45793266  0.01562913 -0.52317622\n",
            "  -0.43101348  0.02469749 -0.29477515]\n",
            " [-0.07760832 -0.31835933  0.00785813 -0.32343905 -0.25461273 -0.08842911\n",
            "  -0.05770037 -0.62784493  0.5360078 ]\n",
            " [ 0.38216656 -0.16221317  0.34092179 -0.32828395 -0.41293664  0.64027094\n",
            "  -0.14951357  0.51540084 -0.63782513]\n",
            " [-0.331346   -0.13554117  0.03370381 -0.28909834  0.12165935 -0.31296643\n",
            "  -0.4624453  -0.11332773 -0.05977637]\n",
            " [-0.08033296 -0.08249913 -0.05623839  0.19120769 -0.31898973 -0.21712552\n",
            "   0.23985408  0.41145335 -0.08891493]\n",
            " [ 0.52267962 -0.32835657  0.02762499  0.00970381 -0.38607831 -0.36657855\n",
            "  -0.0409012  -0.24448924  0.2266115 ]]\n",
            "Wy = \n",
            "[[-1.1509867  -2.70785963  0.33763363  1.89973091  1.02847637  2.83459239\n",
            "   3.11818766 -2.39918769  4.53899388]\n",
            " [ 0.4360091   1.33122474 -2.38190165  4.3178705  -1.3831266  -1.51272681\n",
            "   3.78791469 -2.23010359 -1.37526698]\n",
            " [-0.11224725 -1.1086377  -1.31274024  3.07604818 -1.09776538  0.25854946\n",
            "  -1.69262062 -0.58312581  1.4589016 ]\n",
            " [-0.12766189 -0.91789953 -5.44624739  0.02015283 -2.57381152  0.23709946\n",
            "   2.66270509 -2.35274898 -3.53495414]\n",
            " [-0.67905862  1.04181555 -5.01694331 -2.28537271 -2.69671482  0.55621664\n",
            "  -0.32703492  0.7893244   1.52645133]]\n",
            "bh = \n",
            "[[ 0.00441775]\n",
            " [ 0.00093143]\n",
            " [-0.00193035]\n",
            " [-0.00258762]\n",
            " [-0.00288833]\n",
            " [-0.00309124]\n",
            " [-0.00920422]\n",
            " [ 0.00148524]\n",
            " [ 0.00653478]]\n",
            "by = \n",
            "[[-0.00085045]\n",
            " [-0.00016961]\n",
            " [ 0.00106684]\n",
            " [-0.00045858]\n",
            " [ 0.0004118 ]]\n"
          ]
        }
      ]
    },
    {
      "cell_type": "code",
      "source": [
        "def train(network, inputs, targets, learning_rate=0.01, max_iter=100):\n",
        "    losses = []\n",
        "    for i in range(max_iter):\n",
        "        outputs = network(inputs)\n",
        "        losses.append(compute_cost(outputs, targets))\n",
        "        network.backward(y)\n",
        "        gradient_descent_step(network.parameters, network.grads, learning_rate)\n",
        "        if i % 100 == 0:\n",
        "            print(f\"Iteration {i}: Loss = {losses[-1]}\")\n",
        "    return losses"
      ],
      "metadata": {
        "id": "pbFnaIyI0r7Q"
      },
      "execution_count": null,
      "outputs": []
    },
    {
      "cell_type": "code",
      "source": [
        "np.random.seed(1)\n",
        "n_x = 3\n",
        "n_h = 100\n",
        "n_y = 5\n",
        "batch_size = 10\n",
        "sequence_length = 50\n",
        "x = np.random.randn(batch_size, sequence_length, n_x)\n",
        "y = generate_one_hot_targets(batch_size, sequence_length, n_y)\n",
        "\n",
        "network = RecurrentNeuralNetwork(n_x, n_y, n_h)\n",
        "losses = train(network, x, y, learning_rate=0.01, max_iter=1000)\n",
        "plt.plot(losses)\n",
        "plt.show()"
      ],
      "metadata": {
        "colab": {
          "base_uri": "https://localhost:8080/",
          "height": 609
        },
        "id": "dhVoEcGXld4v",
        "outputId": "69e5cc35-a4c7-479c-ea7d-459de550265b"
      },
      "execution_count": null,
      "outputs": [
        {
          "output_type": "stream",
          "name": "stdout",
          "text": [
            "Iteration 0: Loss = 18.15663669722336\n",
            "Iteration 100: Loss = 0.8782191175534547\n",
            "Iteration 200: Loss = 0.5335292699306723\n",
            "Iteration 300: Loss = 0.4342417973404307\n",
            "Iteration 400: Loss = 0.37848605036261607\n",
            "Iteration 500: Loss = 0.3405588773870283\n",
            "Iteration 600: Loss = 0.3119290213417056\n",
            "Iteration 700: Loss = 0.2888488852341271\n",
            "Iteration 800: Loss = 0.26941228378657167\n",
            "Iteration 900: Loss = 0.25255578204420387\n"
          ]
        },
        {
          "output_type": "display_data",
          "data": {
            "text/plain": [
              "<Figure size 640x480 with 1 Axes>"
            ],
            "image/png": "[encoded data removed]"
          },
          "metadata": {}
        }
      ]
    },
    {
      "cell_type": "code",
      "source": [],
      "metadata": {
        "id": "xuR7176gliiN"
      },
      "execution_count": null,
      "outputs": []
    }
  ]
}