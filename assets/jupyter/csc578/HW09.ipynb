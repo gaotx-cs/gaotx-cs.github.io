{
  "nbformat": 4,
  "nbformat_minor": 0,
  "metadata": {
    "colab": {
      "provenance": [],
      "toc_visible": true,
      "gpuType": "T4"
    },
    "kernelspec": {
      "name": "python3",
      "display_name": "Python 3"
    },
    "language_info": {
      "name": "python"
    },
    "accelerator": "GPU"
  },
  "cells": [
    {
      "cell_type": "markdown",
      "source": [
        "# Homework 9 - Building GPT Model from Scratch\n",
        "\n",
        "In this assignment, you will build a simplified version of a GPT model from scratch, implementing key components step-by-step. This assignment is inspired by the following papers and YouTube video:\n",
        "- [Attention is All You Need](https://arxiv.org/pdf/1706.03762)\n",
        "- [GPT-1: Improving Language Understanding by Generative Pre-Training](https://cdn.openai.com/research-covers/language-unsupervised/language_understanding_paper.pdf)\n",
        "- [GPT-2: Language Models are Unsupervised Multitask Learners](https://cdn.openai.com/better-language-models/language_models_are_unsupervised_multitask_learners.pdf)\n",
        "- [GPT-3: Language Models are Few-Shot Learners](https://arxiv.org/pdf/2005.14165)\n",
        "- [Let’s build GPT: from scratch, in code, spelled out by Andrej Karpathy](https://youtu.be/kCc8FmEb1nY?si=wVpARi1LfM_S9rcr)\n",
        "\n",
        "The main tasks are summarized below:\n",
        "- **Prepare Data**: Download and load a simple text dataset, build a character-level vocabulary and tokenized sequences, and create data loaders.\n",
        "- **Define the GPT Model**: Implement the core model components:\n",
        "  - Token Embeddings\n",
        "  - Positional Encoding [10/10]\n",
        "  - Single-Head Self-Attention [20/20]\n",
        "  - Multi-Head Self-Attention [10/10]\n",
        "  - Feed-Forward Network [10/10]\n",
        "  - Transformer Decoder Layer [10/10]\n",
        "  - Stacking Multiple Decoder Layers [10/10]\n",
        "  - Complete GPT Model [30/30]\n",
        "- **Train the Model**: Train the model to learn a language model from text.\n",
        "- **Evaluate the Model**: Assess model quality by generating text."
      ],
      "metadata": {
        "id": "9wNJyUVCehII"
      }
    },
    {
      "cell_type": "markdown",
      "source": [
        "## 0 - Useful Libraries\n",
        "First, let’s import all the necessary libraries for this assignment. The primary libraries we’ll use are:\n",
        "- [PyTorch](https://pytorch.org/): For building and training neural network models.\n",
        "- [Matplotlib](https://matplotlib.org/stable/): For plotting results.\n",
        "- [math](https://docs.python.org/3/library/math.html): For mathematical functions used in the positional encoding and scaling."
      ],
      "metadata": {
        "id": "qGFEVec8Bm6R"
      }
    },
    {
      "cell_type": "code",
      "source": [
        "import torch\n",
        "import matplotlib.pyplot as plt\n",
        "import math"
      ],
      "metadata": {
        "id": "kH9_pLUbG-Io"
      },
      "execution_count": null,
      "outputs": []
    },
    {
      "cell_type": "markdown",
      "source": [
        "## 1 - Preparting Data"
      ],
      "metadata": {
        "id": "u6YKu6nHPVYT"
      }
    },
    {
      "cell_type": "markdown",
      "source": [
        "We first download and read a toy text dataset, [TinyShakespeare](https://raw.githubusercontent.com/karpathy/char-rnn/master/data/tinyshakespeare/input.txt), which comprises approximately 40,000 lines from various works by William Shakespeare."
      ],
      "metadata": {
        "id": "eMPg9d_oPVdS"
      }
    },
    {
      "cell_type": "code",
      "execution_count": null,
      "metadata": {
        "id": "KigUDqwRE1-2",
        "colab": {
          "base_uri": "https://localhost:8080/"
        },
        "outputId": "a793e58e-864e-4701-fa41-7ce7ba97a89c"
      },
      "outputs": [
        {
          "output_type": "stream",
          "name": "stdout",
          "text": [
            "--2024-11-14 20:54:32--  https://raw.githubusercontent.com/karpathy/char-rnn/master/data/tinyshakespeare/input.txt\n",
            "Resolving raw.githubusercontent.com (raw.githubusercontent.com)... 185.199.108.133, 185.199.109.133, 185.199.110.133, ...\n",
            "Connecting to raw.githubusercontent.com (raw.githubusercontent.com)|185.199.108.133|:443... connected.\n",
            "HTTP request sent, awaiting response... 200 OK\n",
            "Length: 1115394 (1.1M) [text/plain]\n",
            "Saving to: ‘input.txt’\n",
            "\n",
            "\rinput.txt             0%[                    ]       0  --.-KB/s               \rinput.txt           100%[===================>]   1.06M  --.-KB/s    in 0.04s   \n",
            "\n",
            "2024-11-14 20:54:33 (25.5 MB/s) - ‘input.txt’ saved [1115394/1115394]\n",
            "\n"
          ]
        }
      ],
      "source": [
        "# We always start with a dataset to train on. Let's download the tiny shakespeare dataset\n",
        "!wget https://raw.githubusercontent.com/karpathy/char-rnn/master/data/tinyshakespeare/input.txt"
      ]
    },
    {
      "cell_type": "code",
      "source": [
        "# read it in to inspect it\n",
        "with open('input.txt', 'r', encoding='utf-8') as f:\n",
        "    text = f.read()"
      ],
      "metadata": {
        "id": "I_8z7iQQFceb"
      },
      "execution_count": null,
      "outputs": []
    },
    {
      "cell_type": "code",
      "source": [
        "print(text[:1000])"
      ],
      "metadata": {
        "colab": {
          "base_uri": "https://localhost:8080/"
        },
        "id": "yU_NxRNeF5PP",
        "outputId": "6905edcf-d955-41eb-ba87-aeff4da4f504"
      },
      "execution_count": null,
      "outputs": [
        {
          "output_type": "stream",
          "name": "stdout",
          "text": [
            "First Citizen:\n",
            "Before we proceed any further, hear me speak.\n",
            "\n",
            "All:\n",
            "Speak, speak.\n",
            "\n",
            "First Citizen:\n",
            "You are all resolved rather to die than to famish?\n",
            "\n",
            "All:\n",
            "Resolved. resolved.\n",
            "\n",
            "First Citizen:\n",
            "First, you know Caius Marcius is chief enemy to the people.\n",
            "\n",
            "All:\n",
            "We know't, we know't.\n",
            "\n",
            "First Citizen:\n",
            "Let us kill him, and we'll have corn at our own price.\n",
            "Is't a verdict?\n",
            "\n",
            "All:\n",
            "No more talking on't; let it be done: away, away!\n",
            "\n",
            "Second Citizen:\n",
            "One word, good citizens.\n",
            "\n",
            "First Citizen:\n",
            "We are accounted poor citizens, the patricians good.\n",
            "What authority surfeits on would relieve us: if they\n",
            "would yield us but the superfluity, while it were\n",
            "wholesome, we might guess they relieved us humanely;\n",
            "but they think we are too dear: the leanness that\n",
            "afflicts us, the object of our misery, is as an\n",
            "inventory to particularise their abundance; our\n",
            "sufferance is a gain to them Let us revenge this with\n",
            "our pikes, ere we become rakes: for the gods know I\n",
            "speak this in hunger for bread, not in thirst for revenge.\n",
            "\n",
            "\n"
          ]
        }
      ]
    },
    {
      "cell_type": "code",
      "source": [
        "len(text)"
      ],
      "metadata": {
        "colab": {
          "base_uri": "https://localhost:8080/"
        },
        "id": "kZP0IvWXFohF",
        "outputId": "351e1aa2-df31-4943-a617-8da46b014674"
      },
      "execution_count": null,
      "outputs": [
        {
          "output_type": "execute_result",
          "data": {
            "text/plain": [
              "1115394"
            ]
          },
          "metadata": {},
          "execution_count": 5
        }
      ]
    },
    {
      "cell_type": "markdown",
      "source": [
        "### 1-1 Encoding Text"
      ],
      "metadata": {
        "id": "1NnYo-4tExj3"
      }
    },
    {
      "cell_type": "markdown",
      "source": [
        "Next, we extract the unique characters (`chars`) from the `text` to build a character-level vocabulary. The number of distinct characters will define our `vocab_size`, which represents the total number of possible tokens in our character-based language model."
      ],
      "metadata": {
        "id": "UoigphLfDLg9"
      }
    },
    {
      "cell_type": "code",
      "source": [
        "chars = sorted(list(set(text)))\n",
        "vocab_size = len(chars)\n",
        "print(\"vocab: \", chars)\n",
        "print(\"vocab_size:\", vocab_size)"
      ],
      "metadata": {
        "colab": {
          "base_uri": "https://localhost:8080/"
        },
        "id": "7uTjLKQBGk0T",
        "outputId": "2894ce69-6786-46fe-b9dd-ef53572c5665"
      },
      "execution_count": null,
      "outputs": [
        {
          "output_type": "stream",
          "name": "stdout",
          "text": [
            "vocab:  ['\\n', ' ', '!', '$', '&', \"'\", ',', '-', '.', '3', ':', ';', '?', 'A', 'B', 'C', 'D', 'E', 'F', 'G', 'H', 'I', 'J', 'K', 'L', 'M', 'N', 'O', 'P', 'Q', 'R', 'S', 'T', 'U', 'V', 'W', 'X', 'Y', 'Z', 'a', 'b', 'c', 'd', 'e', 'f', 'g', 'h', 'i', 'j', 'k', 'l', 'm', 'n', 'o', 'p', 'q', 'r', 's', 't', 'u', 'v', 'w', 'x', 'y', 'z']\n",
            "vocab_size: 65\n"
          ]
        }
      ]
    },
    {
      "cell_type": "markdown",
      "source": [
        "A vocabulary maps each unique character to a distinct integer, which allows us to work with characters as numerical inputs. We’ll implement the vocabulary using a dictionary called `s2i` (string-to-integer). For convenience, we’ll also define a reverse dictionary, `i2s` (integer-to-string), to map integers back to their respective characters.\n",
        "\n",
        "Additionally, we’ll define two functions, `encode` and `decode`, to freely convert between sequences of characters and sequences of integers. The `encode` function converts a string of characters to their corresponding integer indices, while `decode` converts a sequence of integers back to characters."
      ],
      "metadata": {
        "id": "jL5XfyjODV64"
      }
    },
    {
      "cell_type": "code",
      "source": [
        "s2i = {ch:i for i,ch in enumerate(chars)}\n",
        "i2s = {i:ch for i,ch in enumerate(chars)}\n",
        "encode = lambda s: [s2i[c] for c in s]\n",
        "decode = lambda l: ''.join([i2s[i] for i in l])\n",
        "\n",
        "print(encode(\"Hello World!\"))\n",
        "print(decode(encode(\"Hello World!\")))"
      ],
      "metadata": {
        "colab": {
          "base_uri": "https://localhost:8080/"
        },
        "id": "HXvXmvMoHBpl",
        "outputId": "cea2845a-5f38-4281-e78b-457f56291702"
      },
      "execution_count": null,
      "outputs": [
        {
          "output_type": "stream",
          "name": "stdout",
          "text": [
            "[20, 43, 50, 50, 53, 1, 35, 53, 56, 50, 42, 2]\n",
            "Hello World!\n"
          ]
        }
      ]
    },
    {
      "cell_type": "markdown",
      "source": [
        "Next, we use the `encode` function to convert the `text` input into `encoded_text`, where each character (or token) is represented by an integer. This encoded form allows us to work with the text in a format suitable for model training."
      ],
      "metadata": {
        "id": "YWeLfjY4EbPq"
      }
    },
    {
      "cell_type": "code",
      "source": [
        "encoded_text = encode(text)\n",
        "print(encoded_text[:50])"
      ],
      "metadata": {
        "colab": {
          "base_uri": "https://localhost:8080/"
        },
        "id": "32XyEeA0Y55-",
        "outputId": "66f7cf45-f73e-4f9b-b982-71ae8d56c93c"
      },
      "execution_count": null,
      "outputs": [
        {
          "output_type": "stream",
          "name": "stdout",
          "text": [
            "[18, 47, 56, 57, 58, 1, 15, 47, 58, 47, 64, 43, 52, 10, 0, 14, 43, 44, 53, 56, 43, 1, 61, 43, 1, 54, 56, 53, 41, 43, 43, 42, 1, 39, 52, 63, 1, 44, 59, 56, 58, 46, 43, 56, 6, 1, 46, 43, 39, 56]\n"
          ]
        }
      ]
    },
    {
      "cell_type": "markdown",
      "source": [
        "### 1-2 Prepare Dataset and Data Loader\n",
        "\n",
        "Now that we have `encoded_text`, we can prepare the dataset and data loader for training."
      ],
      "metadata": {
        "id": "bVuDhvLyE1Md"
      }
    },
    {
      "cell_type": "markdown",
      "source": [
        "We will build the training and validation datasets and data loaders to contain `(src, tgt)` pairs, where `src` is the source sequence and `tgt` is the target sequence that the model will learn to predict.\n",
        "\n",
        "For GPT, as a language model, it continuously predicts the next token by modeling the conditional probability:\n",
        "$$\n",
        "p(x_t|x_1, \\cdots, x_{t-1}) = f_{\\theta}(x_1, \\cdots, x_{t-1})\n",
        "$$\n",
        "where $f_{\\theta}$ denotes the model.\n",
        "\n",
        "This means that, given a *source* sequence $(x_1,\\cdots, x_t)$, the model can continuously make predictions for the sequence $(x_2, \\cdots, x_t, x_{t+1})$, which is treated as the *target* sequence. By using the ground-truth sequence as a guide during training to predict the next token, this approach is known as **teacher forcing**."
      ],
      "metadata": {
        "id": "AaRrb7UcE7Ii"
      }
    },
    {
      "cell_type": "code",
      "source": [
        "context_len = 100\n",
        "source_sequences = [encoded_text[i:i + context_len] for i in range(len(encoded_text)-context_len)]\n",
        "target_sequences = [encoded_text[i+1:i+1+context_len] for i in range(len(encoded_text)-context_len)]"
      ],
      "metadata": {
        "id": "hlvtxMh2Y58W"
      },
      "execution_count": null,
      "outputs": []
    },
    {
      "cell_type": "code",
      "source": [
        "src, tgt = source_sequences[0], target_sequences[0]\n",
        "for t in range(10):\n",
        "    context = src[:t+1]\n",
        "    target = tgt[t]\n",
        "    print(f\"when input is {context} or '{decode(context)}' the target: {target} or {decode([target])}\")"
      ],
      "metadata": {
        "colab": {
          "base_uri": "https://localhost:8080/"
        },
        "id": "YR65PD-v7FqM",
        "outputId": "4888462f-7c7b-457f-f2de-bdb18a5cdf00"
      },
      "execution_count": null,
      "outputs": [
        {
          "output_type": "stream",
          "name": "stdout",
          "text": [
            "when input is [18] or 'F' the target: 47 or i\n",
            "when input is [18, 47] or 'Fi' the target: 56 or r\n",
            "when input is [18, 47, 56] or 'Fir' the target: 57 or s\n",
            "when input is [18, 47, 56, 57] or 'Firs' the target: 58 or t\n",
            "when input is [18, 47, 56, 57, 58] or 'First' the target: 1 or  \n",
            "when input is [18, 47, 56, 57, 58, 1] or 'First ' the target: 15 or C\n",
            "when input is [18, 47, 56, 57, 58, 1, 15] or 'First C' the target: 47 or i\n",
            "when input is [18, 47, 56, 57, 58, 1, 15, 47] or 'First Ci' the target: 58 or t\n",
            "when input is [18, 47, 56, 57, 58, 1, 15, 47, 58] or 'First Cit' the target: 47 or i\n",
            "when input is [18, 47, 56, 57, 58, 1, 15, 47, 58, 47] or 'First Citi' the target: 64 or z\n"
          ]
        }
      ]
    },
    {
      "cell_type": "code",
      "source": [
        "import torch\n",
        "source_tensor = torch.tensor(source_sequences)\n",
        "target_tensor = torch.tensor(target_sequences)"
      ],
      "metadata": {
        "id": "3RSBo_HoneZm"
      },
      "execution_count": null,
      "outputs": []
    },
    {
      "cell_type": "markdown",
      "source": [
        "Next, to build our *customized* dataset, we’ll use PyTorch’s `Dataset` class to define a custom class called `TextDataset`. This class will handle input sequences (`src_seqs`) and target sequences (`tgt_seqs`), allowing us to efficiently load the data for training.\n",
        "\n",
        "Specifically:\n",
        "1. **Initialization (`__init__`)**: The class will take `src_seqs` and `tgt_seqs` as inputs and store them as instance attributes.\n",
        "2. **Length (`__len__`)**: Implement the `__len__()` method to return the total number of samples, based on the length of `src_seqs` or `tgt_seqs`.\n",
        "3. **Get Item (`__getitem__`)**: Implement the `__getitem__()` method to take an index `idx` and return the corresponding input-target pair from `src_seqs` and `tgt_seqs`.\n",
        "\n",
        "**Exercise [1/1]**: Implement the class `TextDataset`."
      ],
      "metadata": {
        "id": "KOjVBSU7HLfe"
      }
    },
    {
      "cell_type": "code",
      "source": [
        "class TextDataset(torch.utils.data.Dataset):\n",
        "    def __init__(self, src_seqs, tgt_seqs):\n",
        "        self.src_seqs = src_seqs\n",
        "        self.tgt_seqs = tgt_seqs\n",
        "\n",
        "    def __len__(self):\n",
        "        return len(self.src_seqs)\n",
        "\n",
        "    def __getitem__(self, idx):\n",
        "        return self.src_seqs[idx], self.tgt_seqs[idx]"
      ],
      "metadata": {
        "id": "UhixG7wTnlEy"
      },
      "execution_count": null,
      "outputs": []
    },
    {
      "cell_type": "markdown",
      "source": [
        "Next, we split the dataset into training and validation sets to allow for proper model evaluation. We’ll then convert these datasets into data loaders, specifying a `batch_size` to enable mini-batch processing during training.\n",
        "\n",
        "This setup will help us efficiently feed the model with data in batches, improving training speed and stability."
      ],
      "metadata": {
        "id": "aDi5ZS-rIOja"
      }
    },
    {
      "cell_type": "code",
      "source": [
        "dataset = TextDataset(source_tensor, target_tensor)\n",
        "n = int(0.9*len(dataset))\n",
        "train_dataset, val_dataset = torch.utils.data.random_split(dataset, [n, len(dataset)-n])\n",
        "\n",
        "batch_size = 64\n",
        "train_dataloader = torch.utils.data.DataLoader(train_dataset, batch_size=batch_size, shuffle=True)\n",
        "val_dataloader = torch.utils.data.DataLoader(val_dataset, batch_size=batch_size, shuffle=False)"
      ],
      "metadata": {
        "id": "CeL8YgYQnuRs"
      },
      "execution_count": null,
      "outputs": []
    },
    {
      "cell_type": "code",
      "source": [
        "batch = next(iter(train_dataloader))\n",
        "src, tgt = batch  # TensorDataset returns tuples, so no need for ['source'] or ['target']\n",
        "print(src.shape) # (batch_size, context_len)\n",
        "print(tgt.shape)\n",
        "print(src)\n",
        "print(tgt)"
      ],
      "metadata": {
        "colab": {
          "base_uri": "https://localhost:8080/"
        },
        "id": "Dx6KId9Nn2qu",
        "outputId": "b30dcbeb-dd64-4112-8948-146ae520cb15"
      },
      "execution_count": null,
      "outputs": [
        {
          "output_type": "stream",
          "name": "stdout",
          "text": [
            "torch.Size([64, 100])\n",
            "torch.Size([64, 100])\n",
            "tensor([[54, 43, 39,  ..., 58, 46, 43],\n",
            "        [61, 46, 39,  ..., 47, 50, 58],\n",
            "        [42,  1, 47,  ..., 52, 45,  1],\n",
            "        ...,\n",
            "        [ 5, 50, 50,  ..., 19, 53,  6],\n",
            "        [ 1, 52, 53,  ..., 43,  1, 44],\n",
            "        [45,  1, 58,  ...,  1, 61, 47]])\n",
            "tensor([[43, 39, 56,  ..., 46, 43, 56],\n",
            "        [46, 39, 58,  ..., 50, 58,  1],\n",
            "        [ 1, 47, 58,  ..., 45,  1, 58],\n",
            "        ...,\n",
            "        [50, 50,  1,  ..., 53,  6,  1],\n",
            "        [52, 53, 58,  ...,  1, 44, 53],\n",
            "        [ 1, 58, 46,  ..., 61, 47, 50]])\n"
          ]
        }
      ]
    },
    {
      "cell_type": "markdown",
      "source": [
        "## 2 - Define the GPT Model\n",
        "The implementation primarily follows the structure described in the [Transformer paper](https://arxiv.org/pdf/1706.03762), with modifications specific to GPT's decoder-only architecture."
      ],
      "metadata": {
        "id": "88aofmvwojsh"
      }
    },
    {
      "cell_type": "markdown",
      "source": [
        "### 2.1 - Word Embeddings\n",
        "Rather than loading a pre-trained embedding matrix, we will jointly learn the word embeddings along with the GPT model. Specifically, the embedding matrix is a linear transformation with shape `(vocab_size, d_model)`, where `d_model` is the embedding dimension.\n",
        "\n",
        "In the Transformer architecture, each layer has a consistent input and output dimension, meaning the input and output dimensions for all layers are `d_model`. This consistency applies to various layers, including the embedding layer, positional encoding layer, attention layers, and the feed-forward (FFC) layer."
      ],
      "metadata": {
        "id": "iwmBtvU-I3eh"
      }
    },
    {
      "cell_type": "code",
      "source": [
        "d_model = 128\n",
        "word_embdedding = nn.Embedding(vocab_size, d_model)\n",
        "src_word_embdedding = word_embdedding(src)\n",
        "print(src_word_embdedding.shape) # (batch_size, context_len, d_model)\n",
        "print(src_word_embdedding[0,:5,:10])"
      ],
      "metadata": {
        "colab": {
          "base_uri": "https://localhost:8080/"
        },
        "id": "N9y-b5jIfK-f",
        "outputId": "33652029-afcf-4229-b3a3-540234edd645"
      },
      "execution_count": null,
      "outputs": [
        {
          "output_type": "stream",
          "name": "stdout",
          "text": [
            "torch.Size([64, 100, 128])\n",
            "tensor([[-1.0554e+00,  1.6954e+00, -2.4202e-01, -4.9427e-01, -1.0299e+00,\n",
            "          6.5240e-01,  6.9196e-01,  7.8295e-01,  1.3119e+00, -1.5066e+00],\n",
            "        [ 3.9102e-01, -2.7864e-01,  9.8735e-01, -1.2710e+00,  2.3319e-01,\n",
            "         -1.4863e+00, -1.1901e+00,  1.3984e+00,  2.9241e-01,  2.3703e+00],\n",
            "        [ 2.3685e+00, -1.2216e+00,  3.9153e-01,  1.5304e+00, -1.0921e+00,\n",
            "         -8.5030e-01,  2.9027e-01,  3.0096e-01, -1.5025e+00,  1.0787e+00],\n",
            "        [ 7.3105e-01, -1.1671e+00,  6.2290e-02, -2.4366e+00,  1.8173e-01,\n",
            "         -5.8675e-01,  7.5963e-04,  2.5695e-01, -4.7041e-01,  6.3607e-01],\n",
            "        [-1.3759e+00, -7.8917e-01, -1.6203e+00, -4.5433e-01, -1.7818e+00,\n",
            "          3.3061e-01, -3.7878e-01,  1.7102e+00,  1.4141e+00, -1.8137e+00]],\n",
            "       grad_fn=<SliceBackward0>)\n"
          ]
        }
      ]
    },
    {
      "cell_type": "markdown",
      "source": [
        "### 2.2 - Positional Encoding [1/1]\n",
        "\n",
        "As discussed in the lectures, the attention mechanism does **not** inherently consider *sequence order*. To enable a language model to use attention while preserving positional information, the Transformer model introduces **positional encoding**, which embeds positional information into the representation space.\n",
        "\n",
        "The positional encoding used in Transformers is defined as:\n",
        "$$\n",
        "\\begin{align}\n",
        "&PE_{pos,2i} = \\sin\\left(\\frac{pos}{10000^{2i/d_{model}}}\\right)\\\\\n",
        "&PE_{pos,2i+1} = \\cos\\left(\\frac{pos}{10000^{2i/d_{model}}}\\right)\n",
        "\\end{align}\n",
        "$$\n",
        "\n",
        "In our `PositionalEncoding` class, we will create a lookup table `pe` with shape `(num_range, d_model)`, where `num_range` is greater than `context_len`. Here, `pe` is a matrix in which each row corresponds to the positional encoding for that row’s index. For instance, `pe[0]` is the encoding for position `0`, `pe[1]` is for position `1`, and so on.\n",
        "\n",
        "**Exercise [1/1]**: Implement the `forward()` method in the `PositionalEncoding` class. The `forward` method takes an embedded sequence `x` with shape `(batch_size, context_len, d_model)`, adds the corresponding positional encoding from `pe`, and returns the result.\n",
        "\n",
        "**Note**: We store `pe` as a *registered buffer* so that it can be used during forward passes without being a learnable parameter."
      ],
      "metadata": {
        "id": "7rNGd1FLo1xW"
      }
    },
    {
      "cell_type": "code",
      "source": [
        "from torch import nn\n",
        "import torch\n",
        "import math\n",
        "\n",
        "class PositionalEncoding(nn.Module):\n",
        "    def __init__(self, d_model, num_range=5000):\n",
        "        super(PositionalEncoding, self).__init__()\n",
        "        self.d_model = d_model\n",
        "        self.num_range = num_range\n",
        "        pe = torch.zeros(num_range, d_model)\n",
        "        position = torch.arange(0, num_range).unsqueeze(1)\n",
        "        div_term = torch.exp(torch.arange(0, d_model, 2) * -(math.log(10000.0) / d_model))\n",
        "        pe[:, 0::2] = torch.sin(position * div_term)\n",
        "        pe[:, 1::2] = torch.cos(position * div_term)\n",
        "        pe = pe.unsqueeze(0)  # Add batch dimension\n",
        "        # Register `pe` as a buffer\n",
        "        self.register_buffer('pe', pe)\n",
        "\n",
        "    def forward(self, x):\n",
        "        # x: (batch_size, sequence_length, d_model)\n",
        "        # pe: (1, context_len, d_model)\n",
        "        ### Code HERE ### (~ 1 line)\n",
        "\n",
        "        ### Code HERE ###\n",
        "        return x"
      ],
      "metadata": {
        "id": "im7sFSlQonRM"
      },
      "execution_count": null,
      "outputs": []
    },
    {
      "cell_type": "code",
      "source": [
        "pos_encoding = PositionalEncoding(d_model=d_model, num_range=context_len)\n",
        "print(pos_encoding.pe.shape)\n",
        "# print(pos_encoding.pe)\n",
        "\n",
        "# Apply positional encoding to the word embeddings\n",
        "src_embedded = pos_encoding(src_word_embdedding)\n",
        "print(src_embedded.shape)\n",
        "print(src_embedded[0,:5,:10])"
      ],
      "metadata": {
        "colab": {
          "base_uri": "https://localhost:8080/"
        },
        "id": "8c4sB2z4eT07",
        "outputId": "454bc3b2-86af-44b6-9208-08478632a4f3"
      },
      "execution_count": null,
      "outputs": [
        {
          "output_type": "stream",
          "name": "stdout",
          "text": [
            "torch.Size([1, 100, 128])\n",
            "torch.Size([64, 100, 128])\n",
            "tensor([[-1.0554,  2.6954, -0.2420,  0.5057, -1.0299,  1.6524,  0.6920,  1.7829,\n",
            "          1.3119, -0.5066],\n",
            "        [ 1.2325,  0.2617,  1.7491, -0.6231,  0.9148, -0.7545, -0.5854,  2.1948,\n",
            "          0.8256,  3.2163],\n",
            "        [ 3.2778, -1.6378,  1.3786,  1.3699, -0.0946, -0.7794,  1.2535,  0.5697,\n",
            "         -0.6004,  1.5102],\n",
            "        [ 0.8722, -2.1571,  0.5796, -3.2924,  0.9600, -1.2147,  0.9304, -0.1115,\n",
            "          0.5228,  0.5201],\n",
            "        [-2.1327, -1.4428, -1.9370, -1.4029, -1.6402, -0.6593,  0.1388,  0.8545,\n",
            "          2.1926, -2.4414]], grad_fn=<SliceBackward0>)\n"
          ]
        }
      ]
    },
    {
      "cell_type": "markdown",
      "source": [
        "Let’s visualize the positional embeddings for positions from $0$ to $99$. By comparing these embeddings to the *binary representation* of integers $0$ through $99$, we can observe that both serve the same purpose: encoding unique positions in a way that can be used by the model to distinguish order.\n",
        "\n",
        "While `positional embedding` generally uses a higher dimension than binary representation, it still resides in a low-dimensional subspace that provides the model with sufficient position information. This approach is efficient for capturing sequential order in the embedding space."
      ],
      "metadata": {
        "id": "tzs9KhGQL31a"
      }
    },
    {
      "cell_type": "code",
      "source": [
        "# Import necessary libraries\n",
        "import matplotlib.pyplot as plt\n",
        "import numpy as np\n",
        "\n",
        "# Extract positional encodings for the first 100 positions and 16 dimensions\n",
        "positional_encodings = pos_encoding.pe[:,:context_len, :d_model].numpy()\n",
        "print(positional_encodings.shape)  # Verify shape should be (100, 16)\n",
        "\n",
        "# Plot the positional encodings using imshow\n",
        "plt.figure(figsize=(14, 6))\n",
        "plt.imshow(positional_encodings.T, aspect='auto', cmap='gray', interpolation='nearest')\n",
        "plt.colorbar(label='Positional Encoding Value')\n",
        "\n",
        "# Set axis labels and titles\n",
        "plt.xlabel(f'Position (0 to {context_len-1})')\n",
        "plt.ylabel(f'Encoding Dimension (0 to {d_model-1})')\n",
        "plt.title(f'Positional Encoding of Numbers from 0 to {context_len-1}')\n",
        "\n",
        "# Set x-ticks for positions (adjusted for clarity)\n",
        "plt.xticks(np.arange(0, pos_encoding.num_range, step=5))\n",
        "\n",
        "# Set y-ticks for every second encoding dimension, labeled as 'Dim 0', 'Dim 2', etc.\n",
        "plt.yticks(np.arange(0, d_model, step=10), labels=[f'Dim {i}' for i in range(0, d_model, 10)])\n",
        "\n",
        "plt.show()"
      ],
      "metadata": {
        "colab": {
          "base_uri": "https://localhost:8080/",
          "height": 581
        },
        "id": "L6YqVmMtd7IZ",
        "outputId": "4890eb6f-6091-4379-bc30-0b36ab5a01c6"
      },
      "execution_count": null,
      "outputs": [
        {
          "output_type": "stream",
          "name": "stdout",
          "text": [
            "(1, 100, 128)\n"
          ]
        },
        {
          "output_type": "display_data",
          "data": {
            "text/plain": [
              "<Figure size 1400x600 with 2 Axes>"
            ],
            "image/png": "[encoded data removed]"
          },
          "metadata": {}
        }
      ]
    },
    {
      "cell_type": "code",
      "source": [
        "import numpy as np\n",
        "import matplotlib.pyplot as plt\n",
        "\n",
        "# Generate binary representation of numbers from 0 to 99 with 20 bits\n",
        "bit_length = d_model # Number of bits to represent each number (20 bits)\n",
        "binary_representation = [np.binary_repr(i, width=bit_length) for i in range(context_len)]\n",
        "\n",
        "# Convert binary strings to a 2D numpy array of integers and reverse the order of bits\n",
        "binary_matrix = np.array([[int(bit) for bit in bin_str[::-1]] for bin_str in binary_representation])\n",
        "\n",
        "# Transpose the matrix to have bits on the y-axis (bit position)\n",
        "binary_matrix = binary_matrix.T\n",
        "\n",
        "# Plotting the binary matrix in grayscale\n",
        "plt.figure(figsize=(14, 6))\n",
        "plt.imshow(binary_matrix, aspect='auto', cmap='gray', interpolation='nearest')\n",
        "plt.colorbar(label='Bit Value')\n",
        "\n",
        "# Set axis labels and titles\n",
        "plt.xlabel('Number (0 to 99)')\n",
        "plt.ylabel('Bit Position (0 = Rightmost)')\n",
        "plt.title('Binary Representation of Numbers from 0 to 99')\n",
        "\n",
        "# Set x-ticks for every 5th number for clarity\n",
        "plt.xticks(np.arange(0, context_len, step=5))\n",
        "\n",
        "# Set y-ticks to label every second bit position\n",
        "plt.yticks(np.arange(0, bit_length, step=10), labels=[f'Bit {i}' for i in range(0, bit_length, 10)])\n",
        "\n",
        "plt.show()"
      ],
      "metadata": {
        "colab": {
          "base_uri": "https://localhost:8080/",
          "height": 564
        },
        "id": "rQujaD-1d7LZ",
        "outputId": "4c6fe969-b719-4987-e5ae-810a88683d49"
      },
      "execution_count": null,
      "outputs": [
        {
          "output_type": "display_data",
          "data": {
            "text/plain": [
              "<Figure size 1400x600 with 2 Axes>"
            ],
            "image/png": "[encoded data removed]"
          },
          "metadata": {}
        }
      ]
    },
    {
      "cell_type": "markdown",
      "source": [
        "### 2.3 - Single-Head Self-Attention [2/2]\n",
        "\n",
        "For single-head self-attention, we will use *scaled dot-product attention* to implement the class `Head`. Recall that for each (embedded) token $x_t$, we extract its query $q_t$, key $k_t$, and value $v_t$ as follows:\n",
        "$$\n",
        "\\begin{align}\n",
        "&q_t = W_Q x_t,\\\\\n",
        "&k_t = W_K x_t,\\\\\n",
        "&v_t = W_V x_t\n",
        "\\end{align}\n",
        "$$\n",
        "where $x_t \\in \\mathbb{R}^{d_{model}}$, $W_Q \\in \\mathbb{R}^{d_k \\times d_{model}}$, $W_K \\in \\mathbb{R}^{d_k \\times d_{model}}$, and $W_V \\in \\mathbb{R}^{d_v \\times d_{model}}$.\n",
        "\n",
        "Using the query $q_t$ to consult the keys from other tokens, we compute the attention score:\n",
        "$$\n",
        "\\alpha_{t, s} \\propto \\frac{q_t \\cdot k_s}{\\sqrt{d_k}}\n",
        "$$\n",
        "Then the refined representation of $x_t$ is given by weighted sum of all vablues $v_s$:\n",
        "$$\n",
        "h_t = \\sum_{s} \\alpha_{t, s} v_s = V \\alpha_t\n",
        "$$\n",
        "Putting these computations together in matrix form, we have:\n",
        "$$\n",
        "\\begin{align}\n",
        "&Q = X W_Q^{\\top} \\\\\n",
        "&K = X W_K^{\\top} \\\\\n",
        "&V = X W_V^{\\top} \\\\\n",
        "&H = \\text{softmax}\\left(\\frac{Q K^{\\top}}{\\sqrt{d_k}}\\right) V\n",
        "\\end{align}\n",
        "$$\n",
        "where $X \\in \\mathbb{R}^{b \\times d_{model}}$, $Q \\in \\mathbb{R}^{b \\times d_k}$, $K \\in \\mathbb{R}^{b \\times d_k}$, $V \\in \\mathbb{R}^{b \\times d_v}$, and $H \\in \\mathbb{R}^{b \\times d_v}$ with batch size $b$.\n",
        "\n",
        "Thus, we implement single-head attention as a class `Head`, which takes `d_model`, `d_k`, `d_v`, and `context_len` as inputs. We store these arguments as attributes and define the three linear transformations using `nn.Linear`.\n",
        "\n",
        "In the `forward()` method, which takes `x` (a batch of sequences with shape `(batch_size, context_len, d_model)`):\n",
        "1. Project `x` into queries `Q`, keys `K`, and values `V`.\n",
        "2. Compute the scaled dot-product attention scores.\n",
        "\n",
        "Additionally, since we are implementing a **decoder-only** architecture for GPT, we must prevent the model from seeing future tokens. Therefore, `Head` uses **masked** attention. Specifically, we register a `mask` buffer, which is a square matrix with all lower triangular elements (inclusive of the diagonal) as ones and all upper triangular elements as zeros. This `mask` is applied to the attention scores by replacing the upper triangular values with $-inf$.\n",
        "\n",
        "Finally, we use `F.softmax` to convert the attention scores to probabilities, and compute the weighted sum using $V$ and the probabilities to obtain the `output`, which we return.\n",
        "\n",
        "**Exercise [2/2]**: Implement the class `Head`."
      ],
      "metadata": {
        "id": "UkGWA4b0hvyX"
      }
    },
    {
      "cell_type": "code",
      "source": [
        "import torch\n",
        "import torch.nn as nn\n",
        "import torch.nn.functional as F\n",
        "\n",
        "class Head(nn.Module):\n",
        "    def __init__(self, d_model, d_k, d_v, context_len=100):\n",
        "        super().__init__()\n",
        "        self.d_model = d_model\n",
        "        self.d_k = d_k\n",
        "        self.d_v = d_v\n",
        "        self.context_len = context_len\n",
        "        ### Code HERE ### (~ 3 line)\n",
        "\n",
        "        ### Code HERE ###\n",
        "\n",
        "        # Register the mask buffer for causal masking\n",
        "        self.register_buffer(\"mask\", torch.tril(torch.ones(self.context_len, self.context_len)))\n",
        "\n",
        "    def forward(self, x):\n",
        "        # x: (batch_size, context_len, d_model)\n",
        "\n",
        "        # Project input to query, key, and value spaces\n",
        "        ### Code HERE ### (~ 3 line)\n",
        "\n",
        "        ### Code HERE ###\n",
        "\n",
        "        # Compute scaled dot-product attention scores\n",
        "        ### Code HERE ### (~ 2 line)\n",
        "\n",
        "        ### Code HERE ###\n",
        "\n",
        "        # Convert scores to probabilities\n",
        "        ### Code HERE ### (~ 1 line)\n",
        "\n",
        "        ### Code HERE ###\n",
        "\n",
        "        # Weighted sum of values\n",
        "        ### Code HERE ### (~ 1 line)\n",
        "\n",
        "        ### Code HERE ###\n",
        "        return output"
      ],
      "metadata": {
        "id": "Z5AQvRSzajxe"
      },
      "execution_count": null,
      "outputs": []
    },
    {
      "cell_type": "code",
      "source": [
        "# Test single-head attention\n",
        "num_heads = 8\n",
        "d_k = d_v = d_model // num_heads\n",
        "\n",
        "# Initialize the Head instance\n",
        "head = Head(d_model=d_model, d_k=d_k, d_v=d_v, context_len=context_len)\n",
        "\n",
        "# Generate random input tensor (batch_size, context_len, d_model)\n",
        "x = torch.randn(batch_size, context_len, d_model)\n",
        "\n",
        "# Pass through the Head layer\n",
        "output = head(x)\n",
        "\n",
        "# Check output shape and print a portion of it\n",
        "print(\"Output shape:\", output.shape)  # Expected shape: (batch_size, context_len, d_v)\n",
        "print(\"Output (first example, first few tokens):\", output[0, :5, :])  # Print a small part of the output"
      ],
      "metadata": {
        "colab": {
          "base_uri": "https://localhost:8080/"
        },
        "id": "Fd7JlkqHfasS",
        "outputId": "7faeec68-6dad-4bb4-af13-c19cba1be2bf"
      },
      "execution_count": null,
      "outputs": [
        {
          "output_type": "stream",
          "name": "stdout",
          "text": [
            "Output shape: torch.Size([64, 100, 16])\n",
            "Output (first example, first few tokens): tensor([[-0.1552, -0.7164,  0.5334, -0.2637, -0.2445, -0.1583, -0.0406, -0.6888,\n",
            "         -0.3234,  0.0677, -0.2842, -0.4438,  0.2728,  0.6670,  0.4455, -0.1847],\n",
            "        [-0.1715, -0.4832,  0.1284,  0.1091, -0.2555, -0.0278,  0.6794, -0.4714,\n",
            "         -0.1484, -0.3501, -0.4977,  0.5210,  0.2166,  0.7438,  0.3668,  0.2343],\n",
            "        [-0.0309, -0.3571,  0.3763,  0.3872, -0.3312, -0.0615,  0.7272, -0.6818,\n",
            "         -0.1749, -0.4289, -0.1050,  0.4689,  0.1894,  0.8842, -0.0039,  0.2263],\n",
            "        [-0.1248, -0.4338,  0.2829,  0.2325, -0.3218, -0.1404,  0.6324, -0.7462,\n",
            "         -0.2006, -0.3998, -0.0773,  0.2265,  0.0059,  0.7160,  0.0160,  0.0440],\n",
            "        [-0.0532, -0.3546,  0.3370,  0.2817, -0.2464, -0.2829,  0.6830, -0.6866,\n",
            "         -0.0327, -0.3242,  0.0478,  0.2663, -0.0847,  0.5655,  0.2315,  0.0373]],\n",
            "       grad_fn=<SliceBackward0>)\n"
          ]
        }
      ]
    },
    {
      "cell_type": "markdown",
      "source": [
        "### 2.4 - Multi-Head Attention [1/1]\n",
        "The next step is to implement multi-head attention. In the original paper, the class takes `d_model` and `num_heads` as inputs. For each head, it uses a head size of $d_k = d_v = d_{model} // \\text{num_heads}$.\n",
        "\n",
        "Recall that in the original paper, the query, key, and value matrices are unified, and each head has its own independent projection matrices $P^Q_{h}$, $P^K_{h}$, and $P^V_{h}$. Therefore, each head’s query, key, and value can be derived as:\n",
        "$$\n",
        "Q_h = Q P^Q_{h} = X W_Q P^Q_{h} = X W_h^{Q},\n",
        "\\quad \\text{where} \\quad\n",
        "W_h^{Q} = W_Q P^Q_{h}\n",
        "$$\n",
        "Thus, implementing multi-head attention is equivalent to maintaining a list of `heads` using an `nn.ModuleList` of `Head` instances.\n",
        "\n",
        "In the `forward()` method:\n",
        "1. Each `head` will compute its refined representation of the input sequence.\n",
        "2. The results from each head are concatenated into `head_outputs`.\n",
        "3. A final linear transformation is applied to aggregate all heads into a single refined representation, `output`, which is then returned.\n",
        "\n",
        "**Exercise [1/1]**: Implement the class `MultiHeadAttention`."
      ],
      "metadata": {
        "id": "lY3Ndmc4i7Jx"
      }
    },
    {
      "cell_type": "code",
      "source": [
        "class MultiHeadAttention(nn.Module):\n",
        "    def __init__(self, d_model, num_heads=8, context_len=100):\n",
        "        super().__init__()\n",
        "        self.d_model = d_model\n",
        "        self.num_heads = num_heads\n",
        "        ### Code HERE ### (~ 3-4 line)\n",
        "\n",
        "        ### Code HERE ###\n",
        "\n",
        "    def forward(self, x):\n",
        "        # x: (batch_size, seq_len, d_model)\n",
        "\n",
        "        # Apply each head in parallel\n",
        "        ### Code HERE ### (~ 1 line)\n",
        "\n",
        "        ### Code HERE ###\n",
        "\n",
        "        # Final linear transformation\n",
        "        ### Code HERE ### (~ 1 line)\n",
        "\n",
        "        ### Code HERE ###\n",
        "        return output"
      ],
      "metadata": {
        "id": "YzAzrF9DjF6F"
      },
      "execution_count": null,
      "outputs": []
    },
    {
      "cell_type": "code",
      "source": [
        "# Test multi-head attention\n",
        "multi_head_attn = MultiHeadAttention(d_model=d_model, num_heads=num_heads, context_len=context_len)\n",
        "output = multi_head_attn(src_embedded)\n",
        "\n",
        "print(\"Output shape:\", output.shape)  # Expected shape: (batch_size, context_len, d_model)\n",
        "print(\"Output (first example, first few tokens):\", output[0, :5, :10])  # Print a small part of the output"
      ],
      "metadata": {
        "colab": {
          "base_uri": "https://localhost:8080/"
        },
        "id": "3VHZ-NQlixkm",
        "outputId": "3be36c07-8f6e-4deb-9c7d-e573aac86a0f"
      },
      "execution_count": null,
      "outputs": [
        {
          "output_type": "stream",
          "name": "stdout",
          "text": [
            "Output shape: torch.Size([64, 100, 128])\n",
            "Output (first example, first few tokens): tensor([[ 0.8811, -0.0619, -0.0464,  0.7163,  0.0241,  0.7176, -0.2537,  0.1968,\n",
            "         -0.5338,  0.5854],\n",
            "        [ 0.5930,  0.2286, -0.3235,  0.5562, -0.4968,  0.4168, -0.2625, -0.3588,\n",
            "         -0.3436,  0.7633],\n",
            "        [ 0.4504,  0.1661, -0.4506,  0.3866, -0.4574,  0.5318, -0.2453, -0.3845,\n",
            "         -0.4837,  0.4788],\n",
            "        [ 0.3769,  0.1890, -0.4161,  0.3442, -0.4474,  0.5191, -0.3689, -0.3171,\n",
            "         -0.5995,  0.5999],\n",
            "        [ 0.2558, -0.0601, -0.4346,  0.2212, -0.4455,  0.3610, -0.5656, -0.3113,\n",
            "         -0.3480,  0.4920]], grad_fn=<SliceBackward0>)\n"
          ]
        }
      ]
    },
    {
      "cell_type": "markdown",
      "source": [
        "### 2.5 - Feed-Forward Network [1/1]\n",
        "\n",
        "Recall that the attention mechanism refines representations by taking a weighted sum of tokens based on their relevance to each other. However, this weighted sum only captures *linear* relationships. To enhance the model’s capacity to learn *nonlinear* relationships, each sublayer also includes a two-layer feed-forward network (FFN) with a non-linear activation, such as ReLU or GELU.\n",
        "\n",
        "In the original Transformer paper, ReLU was used as the activation function, while GPT uses GELU. The FFN layer first transforms the input to a higher dimension `d_ff` in the first layer and then projects it back to `d_model` in the second layer.\n",
        "\n",
        "**Exercise [1/1]**: Implement the class `FFN`."
      ],
      "metadata": {
        "id": "XNCmxV2YW1Iv"
      }
    },
    {
      "cell_type": "code",
      "source": [
        "class FeedForward(nn.Module):\n",
        "    def __init__(self, d_model, d_ff=256):\n",
        "        super().__init__()\n",
        "        self.d_model = d_model\n",
        "        self.d_ff = d_ff\n",
        "        ### Code HERE ### (~ 2-3 line)\n",
        "\n",
        "        ### Code HERE ###\n",
        "\n",
        "    def forward(self, x):\n",
        "        # x: (batch_size, seq_len, d_model)\n",
        "        return self.ffn(x)"
      ],
      "metadata": {
        "id": "f2tgQutpkEhJ"
      },
      "execution_count": null,
      "outputs": []
    },
    {
      "cell_type": "code",
      "source": [
        "# Test ffc\n",
        "d_ff = 256\n",
        "ffn = FeedForward(d_model=d_model, d_ff=d_ff)\n",
        "output = ffn(output)\n",
        "\n",
        "print(\"Output shape:\", output.shape)  # Expected shape: (batch_size, context_len, d_model)\n",
        "print(\"Output (first example, first few tokens):\", output[0, :5, :10])  # Print a small part of the output"
      ],
      "metadata": {
        "colab": {
          "base_uri": "https://localhost:8080/"
        },
        "id": "_YOUkPTZjgcs",
        "outputId": "af56592d-eb53-4436-efa3-c7cdb7cae9e1"
      },
      "execution_count": null,
      "outputs": [
        {
          "output_type": "stream",
          "name": "stdout",
          "text": [
            "Output shape: torch.Size([64, 100, 128])\n",
            "Output (first example, first few tokens): tensor([[-0.0403,  0.0068, -0.0345, -0.0319, -0.0303, -0.0589, -0.0127,  0.0374,\n",
            "          0.0008,  0.0686],\n",
            "        [-0.0459,  0.0127, -0.0363, -0.0298, -0.0354, -0.0572, -0.0086,  0.0334,\n",
            "         -0.0004,  0.0566],\n",
            "        [-0.0508,  0.0141, -0.0399, -0.0309, -0.0393, -0.0506, -0.0105,  0.0392,\n",
            "         -0.0089,  0.0566],\n",
            "        [-0.0516,  0.0120, -0.0393, -0.0261, -0.0347, -0.0554, -0.0102,  0.0402,\n",
            "         -0.0070,  0.0572],\n",
            "        [-0.0515,  0.0232, -0.0421, -0.0250, -0.0405, -0.0538, -0.0106,  0.0398,\n",
            "         -0.0041,  0.0538]], grad_fn=<SliceBackward0>)\n"
          ]
        }
      ]
    },
    {
      "cell_type": "markdown",
      "source": [
        "### 2.6 - Transformer Decoder Layer [1/1]\n",
        "\n",
        "In this step, we implement a Transformer decoder layer that combines multi-head self-attention with a feed-forward network (FFN).\n",
        "\n",
        "In the original Transformer, a *post-norm* approach was used, where layer normalization is applied after the attention and FFN layers, following a skip connection. This approach helps to stabilize training by normalizing the outputs.\n",
        "\n",
        "However, GPT-2 uses a *pre-norm* approach, where layer normalization is applied to the input before the attention or FFN layers, followed by a skip connection. This *pre-norm* setup has become more popular in large language models (LLMs) as it improves stability when training deeper Transformer architectures.\n",
        "\n",
        "**Exercise [1/1]**: Implement the `TransformerDecoderLayer` class."
      ],
      "metadata": {
        "id": "Jpp0xCd0XzCS"
      }
    },
    {
      "cell_type": "code",
      "source": [
        "class TransformerDecoderLayer(nn.Module):\n",
        "    def __init__(self, d_model, num_heads=8, d_ff=2048, context_len=100):\n",
        "        super().__init__()\n",
        "        self.d_model = d_model\n",
        "        self.num_heads = num_heads\n",
        "        self.d_ff = d_ff\n",
        "        self.context_len = context_len\n",
        "        ### Code HERE ### (~ 4-5 line)\n",
        "\n",
        "        ### Code HERE ###\n",
        "\n",
        "    def forward(self, x):\n",
        "        # Multi-head attention with residual connection and normalization\n",
        "        ### Code HERE ### (~ 1 line)\n",
        "\n",
        "        ### Code HERE ###\n",
        "\n",
        "        # Feed-forward network with residual connection and normalization\n",
        "        ### Code HERE ### (~ 1 line)\n",
        "\n",
        "        ### Code HERE ###\n",
        "        return x"
      ],
      "metadata": {
        "id": "QVmgfKNOlY57"
      },
      "execution_count": null,
      "outputs": []
    },
    {
      "cell_type": "code",
      "source": [
        "# Test transformer decoder layer\n",
        "transformer_decoder_layer = TransformerDecoderLayer(d_model=d_model, num_heads=num_heads, d_ff=d_ff, context_len=context_len)\n",
        "output = transformer_decoder_layer(src_embedded)\n",
        "\n",
        "print(\"Output shape:\", output.shape)\n",
        "print(\"Output (first example, first few tokens):\", output[0, :5, :10])  # Print a small part of the output"
      ],
      "metadata": {
        "colab": {
          "base_uri": "https://localhost:8080/"
        },
        "id": "aEm9b7eCj2wY",
        "outputId": "626635d3-96d8-4d12-90ef-744e9daf4187"
      },
      "execution_count": null,
      "outputs": [
        {
          "output_type": "stream",
          "name": "stdout",
          "text": [
            "Output shape: torch.Size([64, 100, 128])\n",
            "Output (first example, first few tokens): tensor([[-0.7102,  3.1978, -0.1540,  0.6231, -0.7459,  0.8656, -0.0754,  2.0435,\n",
            "          0.8632, -0.9143],\n",
            "        [ 1.5981,  0.0970,  1.6640, -0.1924,  0.9681, -1.7205, -0.7827,  2.2688,\n",
            "          0.8200,  2.9261],\n",
            "        [ 3.5588, -1.8806,  1.0660,  1.3493,  0.1578, -1.1865,  1.2189,  0.4269,\n",
            "         -0.5003,  1.5890],\n",
            "        [ 0.9273, -1.8560,  0.7325, -3.1479,  1.1474, -1.8684,  0.2978, -0.1549,\n",
            "          0.5064,  0.6918],\n",
            "        [-2.2407, -1.4595, -2.0831, -0.8397, -1.7269, -1.2521,  0.0210,  0.8799,\n",
            "          2.1966, -2.5654]], grad_fn=<SliceBackward0>)\n"
          ]
        }
      ]
    },
    {
      "cell_type": "markdown",
      "source": [
        "### 2.7 - Stack Decoder Layers [1/1]\n",
        "\n",
        "In this step, we implement the complete decoder structure of a Transformer by stacking multiple `TransformerDecoderLayer` instances. This allows the model to refine its representations through multiple layers of self-attention and FFN.\n",
        "\n",
        "1. **Initialize Layers**: The class should take `d_model`, `num_heads`, `dim_ffn`, `num_layers`, and `context_len` as inputs, which specify the depth and configuration of each decoder layer.\n",
        "2. **Stack Layers**: Use `nn.ModuleList` to stack `num_layers` instances of `TransformerDecoderLayer`.\n",
        "3. **Forward Pass**: In the `forward()` method, pass the input sequentially through each decoder layer to progressively refine the representations.\n",
        "\n",
        "By stacking layers, we enable the model to capture increasingly complex patterns in the input sequences.\n",
        "\n",
        "**Exercise [1/1]**: Implement the class `TransformerDecoder`."
      ],
      "metadata": {
        "id": "RdZ02gZ5Y8x9"
      }
    },
    {
      "cell_type": "code",
      "source": [
        "class TransformerDecoder(nn.Module):\n",
        "    def __init__(self, d_model, num_heads=8, d_ff=2048, context_len=100, num_layers=6):\n",
        "        super().__init__()\n",
        "        self.d_model = d_model\n",
        "        self.num_heads = num_heads\n",
        "        self.d_ff = d_ff\n",
        "        self.context_len = context_len\n",
        "        self.num_layers = num_layers\n",
        "        ### Code HERE ### (~ 2 line)\n",
        "\n",
        "        ### Code HERE ###\n",
        "\n",
        "    def forward(self, x):\n",
        "        for layer in self.layers:\n",
        "            x = layer(x)\n",
        "        return x"
      ],
      "metadata": {
        "id": "sBNo27S6mWsZ"
      },
      "execution_count": null,
      "outputs": []
    },
    {
      "cell_type": "code",
      "source": [
        "# Test transformer decoder with multiple layers\n",
        "num_layers = 2\n",
        "transformer_decoder = TransformerDecoder(d_model=d_model, num_heads=num_heads, d_ff=d_ff, context_len=context_len, num_layers=num_layers)\n",
        "output = transformer_decoder(src_embedded)\n",
        "\n",
        "print(\"Output shape:\", output.shape)\n",
        "print(\"Output (first example, first few tokens):\", output[0, :5, :10])  # Print a small part of the output"
      ],
      "metadata": {
        "colab": {
          "base_uri": "https://localhost:8080/"
        },
        "id": "JxSqfVtKkLvq",
        "outputId": "651a27c6-27da-423f-ae6d-7817e223308e"
      },
      "execution_count": null,
      "outputs": [
        {
          "output_type": "stream",
          "name": "stdout",
          "text": [
            "Output shape: torch.Size([64, 100, 128])\n",
            "Output (first example, first few tokens): tensor([[-0.8244,  2.8517,  0.3345,  0.9547, -1.0161,  1.3835,  0.8382,  2.5565,\n",
            "          0.7454, -0.4393],\n",
            "        [ 1.4540,  0.6233,  2.3760, -0.4171,  1.3413, -0.9960, -0.8449,  2.7310,\n",
            "          0.0853,  3.3066],\n",
            "        [ 3.0457, -1.3023,  1.7763,  1.5710, -0.0652, -0.8525,  1.1310,  1.1835,\n",
            "         -0.8016,  1.1735],\n",
            "        [ 0.6006, -1.4312,  0.9813, -2.6448,  0.8963, -1.2067,  1.1037, -0.0506,\n",
            "         -0.2044,  0.0165],\n",
            "        [-1.8875, -0.9837, -1.9365, -1.1464, -1.7077, -0.7837,  0.2769,  1.2028,\n",
            "          1.2780, -2.9112]], grad_fn=<SliceBackward0>)\n"
          ]
        }
      ]
    },
    {
      "cell_type": "markdown",
      "source": [
        "### 2.8 - Complete GPT Model [3/3]\n",
        "Now, all the compoentes are impelemdn for GPT. so we can put everything together to buld the transformer-decoder-only GPT by following the following structure:\n",
        "`word_embedding -> positional_encoding -> decoder -> ouptut_layer`\n",
        "Note that the output in the `forward()` will return the `logits` that is the result after the final linear layer but before the `softmax`. By returning the `logits` rather than the probabilities, it facilits traiining using cross-entropy loss and also simplify the `generate()` method.\n",
        "\n",
        "To generate text, we will also impelemnt a `generate()` method that takes a `start_tokens` and `max_new_tokens` to genereate the result. Then we continuously predict next token by using the already `generated` text starting with `generated=start_tokens`. for each time, we call the `forward()` method to get `logits`. Then we obtain the `probs` by using the `softmax`. In the previous assingment, we predict the next token by taking the highest probability. Now, we use another method by stochastically sample the next token using the computed `probs`. You would note that `torch.multinomial()` is useful to randomly sample the `next_token`. Then we concate the `next_token` to the already `generated`. Once reaching the end of `max_new_tokens`, we return the `generated` tokens.\n",
        "\n",
        "**Note**: in GPT `generate()` method, we have an additional argument `temperature` that is used to refine the `logits` by taking `logits = logits / temperature`.\n",
        "\n",
        "The temperature in language generation is a way to control the randomness of predictions by scaling the logits before applying softmax. It’s true that every logit is divided by the same constant, but the effect on the softmax output (probabilities) can be significant, especially for larger temperature values.\n",
        "\n",
        "Effect of Temperature on Logits\n",
        "1. When Temperature = 1.0:\n",
        " - The logits are unchanged, so softmax operates as usual.\n",
        "2. When Temperature < 1.0 (e.g., 0.5):\n",
        " - Dividing by a small temperature “sharpens” the logits. This increases the difference between high and low logits.\n",
        " - The result: higher probabilities for the most likely tokens and lower probabilities for the rest. This makes the model more deterministic, as it’s more likely to choose the highest probability token.\n",
        "3. When Temperature > 1.0 (e.g., 1.5):\n",
        " - Dividing by a large temperature “flattens” the logits, decreasing the difference between high and low logits.\n",
        " - The result: more even probabilities, where even less likely tokens have a higher chance of being sampled. This increases randomness and diversity but can lead to less coherent output.\n",
        "\n",
        "**Exercise [2/2]**: Implement `GPTModel`\n"
      ],
      "metadata": {
        "id": "KTFuFaZJZeBL"
      }
    },
    {
      "cell_type": "markdown",
      "source": [
        "### 2.8 - Complete GPT Model [3/3]\n",
        "\n",
        "Now that all the components are implemented, we can put everything together to build the Transformer-decoder-only GPT model. The structure of the model will be as follows:\n",
        "\n",
        "`word_embedding -> positional_encoding -> decoder -> output_layer`\n",
        "\n",
        "**Implementation Details**:\n",
        "- In the `forward()` method, the output will be the `logits`, which are obtained from the final linear layer (output layer) before applying `softmax`. Returning `logits` rather than probabilities facilitates training with cross-entropy loss and simplifies the `generate()` method.\n",
        "\n",
        "**Text Generation**:\n",
        "To generate text, we will implement a `generate()` method that takes `start_tokens` and `max_new_tokens` as inputs to generate text of the desired length. The process is as follows:\n",
        "1. Initialize `generated` as `start_tokens`.\n",
        "2. For each step:\n",
        "   - Call the `forward()` method on `generated` to obtain `logits`.\n",
        "   - Use `softmax` to convert `logits` to probabilities (`probs`).\n",
        "   - Instead of choosing the highest probability token, we stochastically sample the next token based on the probabilities using `torch.multinomial()`. This approach provides more diverse and creative outputs.\n",
        "   - Concatenate the `next_token` to `generated`.\n",
        "3. Stop generating tokens once `max_new_tokens` is reached, and return the `generated` sequence.\n",
        "\n",
        "**Temperature in Generation**:\n",
        "In the `generate()` method, an additional parameter `temperature` controls the randomness of predictions by scaling the logits before softmax. While dividing by the same constant might seem to have no effect, it can significantly impact the output probabilities depending on the temperature value:\n",
        "- **Temperature = 1.0**: Logits remain unchanged, and softmax behaves normally.\n",
        "- **Temperature < 1.0** (e.g., 0.5): Dividing by a smaller temperature \"sharpens\" the logits, increasing the difference between high and low values. This makes the model more deterministic, as it prefers the most likely tokens.\n",
        "- **Temperature > 1.0** (e.g., 1.5): Dividing by a larger temperature \"flattens\" the logits, reducing the difference between values. This gives even less likely tokens a higher chance, increasing randomness and output diversity but sometimes decreasing coherence.\n",
        "\n",
        "In summary:\n",
        "- Lower temperature values (e.g., 0.5) yield more focused, coherent text by reducing the randomness of token selection.\n",
        "- Higher temperature values (e.g., 1.5) create more diverse and unexpected outputs, though potentially at the cost of coherence.\n",
        "\n",
        "**Exercise [2/2]**: Implement the `GPTModel` class."
      ],
      "metadata": {
        "id": "_Q14H9eNkVq5"
      }
    },
    {
      "cell_type": "code",
      "source": [
        "class GPTModel(nn.Module):\n",
        "    def __init__(self, vocab_size, d_model, num_heads=8, d_ff=2048, context_len=100, num_layers=6):\n",
        "        super().__init__()\n",
        "        # Store hyper-params\n",
        "        self.vocab_size = vocab_size\n",
        "        self.d_model = d_model\n",
        "        self.num_heads = num_heads\n",
        "        self.d_ff = d_ff\n",
        "        self.context_len = context_len\n",
        "        self.num_layers = num_layers\n",
        "\n",
        "        # Define network achitecture\n",
        "        ### Code HERE ### (~ 4 line)\n",
        "\n",
        "        ### Code HERE ###\n",
        "\n",
        "    def forward(self, x):\n",
        "        # x: (batch_size, context_len)\n",
        "        ### Code HERE ### (~ 3 line)\n",
        "\n",
        "        ### Code HERE ###\n",
        "        logits = self.fc_out(x) # (batch_size, context_len, vocab_size)\n",
        "        return logits\n",
        "\n",
        "    @torch.no_grad()  # Prevents gradient computation during generation\n",
        "    def generate(self, start_tokens, max_new_tokens=50, temperature=1.0):\n",
        "        self.eval()\n",
        "        # start_tokens: initial tokens to begin generation, shape (1, context_len) or similar\n",
        "        generated = start_tokens  # Shape: (1, current_seq_len)\n",
        "\n",
        "        for _ in range(max_new_tokens):\n",
        "            ### Code HERE ### (~ 3 line)\n",
        "\n",
        "            ### Code HERE ###\n",
        "\n",
        "            # Scale logits by temperature (controls randomness)\n",
        "            logits = logits / temperature\n",
        "\n",
        "            ### Code HERE ### (~ 2 line)\n",
        "\n",
        "            ### Code HERE ###\n",
        "\n",
        "            # Append the generated token to the sequence\n",
        "            generated = torch.cat((generated, next_token), dim=1)  # Update sequence\n",
        "\n",
        "        return generated"
      ],
      "metadata": {
        "id": "277qlm1NmQRD"
      },
      "execution_count": null,
      "outputs": []
    },
    {
      "cell_type": "code",
      "source": [
        "# Test GPT-2 implemented by decoder only\n",
        "gpt = GPTModel(vocab_size, d_model=d_model, num_heads=num_heads, d_ff=d_ff, context_len=context_len, num_layers=num_layers)\n",
        "output = gpt(src)\n",
        "\n",
        "print(\"Output shape:\", output.shape)  # Expected shape: (batch_size, context_len, vocab_size)\n",
        "print(\"Output (first example, first few tokens):\", output[0, :5, :10])  # Print a small part of the output"
      ],
      "metadata": {
        "colab": {
          "base_uri": "https://localhost:8080/"
        },
        "id": "f-wVNmR2kmlw",
        "outputId": "cc0ba1c1-5efe-4e75-f4c5-9660500bf4d3"
      },
      "execution_count": null,
      "outputs": [
        {
          "output_type": "stream",
          "name": "stdout",
          "text": [
            "Output shape: torch.Size([64, 100, 65])\n",
            "Output (first example, first few tokens): tensor([[-1.7438,  0.3521, -0.8395,  0.0834,  0.1877,  0.8734,  0.2217,  0.6290,\n",
            "          0.4441,  0.5069],\n",
            "        [-0.4328,  0.3635, -0.0228,  0.6242,  1.2791, -0.0853,  0.6004,  1.3853,\n",
            "         -0.2307,  0.3153],\n",
            "        [-0.8086, -0.3301, -0.1786,  0.2915,  0.3923,  0.0227, -0.4083,  0.0268,\n",
            "          0.6701,  1.3072],\n",
            "        [-0.9505, -0.1835, -1.2621, -0.4657,  0.8987,  0.6707, -0.6329,  0.5898,\n",
            "         -0.6596,  0.7973],\n",
            "        [-0.0678, -0.1395, -0.5094, -0.6740,  0.7487,  0.1021, -0.3977, -0.5235,\n",
            "         -0.6727,  0.5510]], grad_fn=<SliceBackward0>)\n"
          ]
        }
      ]
    },
    {
      "cell_type": "markdown",
      "source": [
        "## 3 - Training"
      ],
      "metadata": {
        "id": "bOLGGaalcymo"
      }
    },
    {
      "cell_type": "code",
      "source": [
        "def train(model, dataloader, criterion, optimizer, device):\n",
        "    model.train()\n",
        "    total_loss = 0\n",
        "    for src, tgt in dataloader:\n",
        "        src, tgt = src.to(device), tgt.to(device)\n",
        "        optimizer.zero_grad()\n",
        "        output = model(src)\n",
        "        loss = criterion(output.view(-1, output.size(-1)), tgt.view(-1))\n",
        "        loss.backward()\n",
        "        optimizer.step()\n",
        "        total_loss += loss.item()\n",
        "    return total_loss / len(dataloader)\n",
        "\n",
        "def evaluate(model, dataloader, criterion, device):\n",
        "    model.eval()\n",
        "    total_loss = 0\n",
        "    with torch.no_grad():\n",
        "        for src, tgt in dataloader:\n",
        "            src, tgt = src.to(device), tgt.to(device)\n",
        "            output = model(src)\n",
        "            loss = criterion(output.view(-1, output.size(-1)), tgt.view(-1))\n",
        "            total_loss += loss.item()\n",
        "\n",
        "    return total_loss / len(dataloader)"
      ],
      "metadata": {
        "id": "WB_-8UZjnYSk"
      },
      "execution_count": null,
      "outputs": []
    },
    {
      "cell_type": "code",
      "source": [
        "# set seed for reproduce\n",
        "torch.manual_seed(1)\n",
        "# check if cuda avaialbe, if so use cuda for device\n",
        "device = torch.device(\"cuda\" if torch.cuda.is_available() else \"cpu\")\n",
        "print(\"Using device\", device)"
      ],
      "metadata": {
        "colab": {
          "base_uri": "https://localhost:8080/"
        },
        "id": "iPxM-fvEnnqq",
        "outputId": "4a297d85-780f-453a-bc3e-ea77820ec1d0"
      },
      "execution_count": null,
      "outputs": [
        {
          "output_type": "stream",
          "name": "stdout",
          "text": [
            "Using device cuda\n"
          ]
        }
      ]
    },
    {
      "cell_type": "code",
      "source": [
        "# define hyper-params\n",
        "d_model = 128\n",
        "num_heads = 8\n",
        "d_ff = 256\n",
        "num_layers = 2\n",
        "print(f\"data hyper-paras: vocab_size: {vocab_size}, context_len: {context_len}, batch_size: {batch_size}\")\n",
        "print(f\"model hyper-paras: d_model: {d_model}, num_heads: {num_heads}, d_ff: {d_ff}, num_layers: {num_layers}\")\n",
        "\n",
        "gpt = GPTModel(vocab_size, d_model=d_model, num_heads=num_heads, d_ff=d_ff, context_len=context_len, num_layers=num_layers).to(device)\n",
        "criterion = nn.CrossEntropyLoss()\n",
        "optimizer = torch.optim.Adam(gpt.parameters(), lr=0.01)\n",
        "\n",
        "train_losses = []\n",
        "val_losses = []\n",
        "max_iter = 10\n",
        "for epoch in range(max_iter):\n",
        "    train_loss = train(gpt, train_dataloader, criterion, optimizer, device)\n",
        "    val_loss = evaluate(gpt, val_dataloader, criterion, device)\n",
        "    train_losses.append(train_loss)\n",
        "    val_losses.append(val_loss)\n",
        "    print(f\"Epoch {epoch+1}/{max_iter}, Train Loss: {train_loss:.4f}, Val Loss: {val_loss:.4f}\")"
      ],
      "metadata": {
        "colab": {
          "base_uri": "https://localhost:8080/"
        },
        "id": "4VJLxJ4boAKu",
        "outputId": "17d858e0-d0fa-4d4e-84da-e57eb8c9b431"
      },
      "execution_count": null,
      "outputs": [
        {
          "output_type": "stream",
          "name": "stdout",
          "text": [
            "data hyper-paras: vocab_size: 65, context_len: 100, batch_size: 64\n",
            "model hyper-paras: d_model: 128, num_heads: 8, d_ff: 256, num_layers: 2\n",
            "Epoch 1/10, Train Loss: 1.3998, Val Loss: 1.3138\n",
            "Epoch 2/10, Train Loss: 1.2931, Val Loss: 1.2898\n",
            "Epoch 3/10, Train Loss: 1.2718, Val Loss: 1.2613\n",
            "Epoch 4/10, Train Loss: 1.2609, Val Loss: 1.2566\n",
            "Epoch 5/10, Train Loss: 1.2535, Val Loss: 1.2536\n",
            "Epoch 6/10, Train Loss: 1.2479, Val Loss: 1.2479\n",
            "Epoch 7/10, Train Loss: 1.2438, Val Loss: 1.2467\n",
            "Epoch 8/10, Train Loss: 1.2402, Val Loss: 1.2344\n",
            "Epoch 9/10, Train Loss: 1.2371, Val Loss: 1.2369\n",
            "Epoch 10/10, Train Loss: 1.2346, Val Loss: 1.2372\n"
          ]
        }
      ]
    },
    {
      "cell_type": "markdown",
      "source": [
        "## 4 - Generation"
      ],
      "metadata": {
        "id": "S8a7i5e4c5PN"
      }
    },
    {
      "cell_type": "code",
      "source": [
        "# generate from the model\n",
        "context = torch.zeros((1, 1), dtype=torch.long, device=device)\n",
        "print(decode(gpt.generate(context, max_new_tokens=2000)[0].tolist()))"
      ],
      "metadata": {
        "colab": {
          "base_uri": "https://localhost:8080/"
        },
        "id": "6dUzoLpW4OVA",
        "outputId": "61420ce4-b9c6-4672-cb56-a1df372e6369"
      },
      "execution_count": null,
      "outputs": [
        {
          "output_type": "stream",
          "name": "stdout",
          "text": [
            "\n",
            "\n",
            "JULIET:\n",
            "At saint before, sir; for Romeo, hath done\n",
            "Would call upon my light!\n",
            "Are or then both and find Keeper.\n",
            "Srik! it is stinted awhile, untimeent,\n",
            "Could man impose bed, to do I am please;\n",
            "If you be so state,\n",
            "To line and beautified with Coriolanus\n",
            "Adder glight: then I'll report of this doom.\n",
            "\n",
            "CORIOLANUS:\n",
            "Come, sir, come from from his tongue face,\n",
            "To fight of the king 'Wedness! Well, sir?\n",
            "\n",
            "MENENIUS:\n",
            "Her wife write to crave;\n",
            "Thou hast displeady her tent here crown;\n",
            "And will but entreatnes are but a Juliet,\n",
            "Though our lawsted.\n",
            "\n",
            "LEONTES:\n",
            "Call the tleness of England!\n",
            "The mark of Olgher? My railitler koes,\n",
            "Prodiging Rutland night,\n",
            "So by gone the chamber to sin! What at o sudden?\n",
            "For me fast to tell thee, love my very;\n",
            "For thou! I am speak an unswaming the oath of blatter,\n",
            "Or deny to crave with true blinds Clifford forget,\n",
            "Castin, so we did again, I'll femal do beheld\n",
            "Stand for which they coister, 'tis from men\n",
            "To wait with this court weeping.\n",
            "I no woes report thou offence mouth art\n",
            "May unto thy sword crowned mine own.\n",
            "\n",
            "RICHARD:\n",
            "Comfort!\n",
            "\n",
            "QUEEN ELIZABETH:\n",
            "Right, women! truth, paw,\n",
            "And know his obedience, Jesu?'d remanly, no slew\n",
            "A brother's soldier, and the walls of Romes.\n",
            "O, now recost, these haste wants, a\n",
            "fool; which blow we, your suit: sweet friends, cry 'reconces,\n",
            "which one change then earth might be king,\n",
            "And by thing mine enemy.'\n",
            "\n",
            "QUEEN ELIZABETH:\n",
            "I must be not lose in this isteed:\n",
            "My Lady Bona, sir, alton a king'--tres,\n",
            "The submiss'd with ground reproledies,\n",
            "Where my kings my counsel.\n",
            "\n",
            "First Watchman:\n",
            "Ay, Conspirince, man, 'tis God's name; which writ!\n",
            "\n",
            "QUEEN ELIZABETH:\n",
            "Richard will we out, poor brother's Northumberland,\n",
            "And sent you thinks that like us Aufidius,\n",
            "And her requifous with one content.\n",
            "But he is to tell, washymaster purpose me gods,\n",
            "And thou say'st, being York is swift my brother?\n",
            "Must be your breath think-tongues: sir,\n",
            "It shall be grow woo were crowning seasonable,\n",
            "Indeed above thee showith!--O gentle for\n",
            "Thyself speel on the mourn more childish?a d\n"
          ]
        }
      ]
    },
    {
      "cell_type": "code",
      "source": [],
      "metadata": {
        "id": "KrvVFPf14g4i"
      },
      "execution_count": null,
      "outputs": []
    }
  ]
}